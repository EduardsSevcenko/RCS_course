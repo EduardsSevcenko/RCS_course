{
 "cells": [
  {
   "cell_type": "code",
   "execution_count": 1,
   "metadata": {},
   "outputs": [],
   "source": [
    "import pandas as pd\n",
    "import getpass\n",
    "from sqlalchemy import create_engine\n",
    "from sqlalchemy.exc import ResourceClosedError\n",
    "import MySQLdb \n",
    "check = False"
   ]
  },
  {
   "cell_type": "code",
   "execution_count": 2,
   "metadata": {},
   "outputs": [],
   "source": [
    "# Uzdevums:\n",
    "# Nokopējiet faila make_db.sql, kas atrodās githubā, saturu, \n",
    "# atveriet mysql shell caur termināli \n",
    "# un ielīmējiet/izpildiet make_db.sql esošo kodu\n",
    "\n",
    "# Šī ir MySQL parauga datubāze, kura ir aprakstīta šeit:\n",
    "# https://www.mysqltutorial.org/mysql-sample-database.aspx"
   ]
  },
  {
   "cell_type": "code",
   "execution_count": 3,
   "metadata": {},
   "outputs": [],
   "source": [
    "\n",
    "class MySQLConnection:\n",
    "    def __init__(self,user,hostname,db):\n",
    "        self.user = str(user)\n",
    "        self.hostname = str(hostname)\n",
    "        self.db = str(db)\n",
    "        pword = getpass.getpass(\"Enter password for user {}\".format(user))\n",
    "        # self.cnx = mysql.connector.connect(host=self.hostname,user=self.user, password=pword,database=self.db)\n",
    "        self.engine = create_engine(\"mysql+mysqlconnector://{}:{}@{}/{}\".format(user,pword,hostname,db))\n",
    "        self.cnx = self.engine.connect()\n",
    "    \n",
    "    def write_to_db(self, df, table_name):\n",
    "        try:\n",
    "            df.to_sql(table_name,con = self.cnx,if_exists='fail',index=False)\n",
    "        except Exception as e:\n",
    "            print(\"\\n SQL Write error with: \")\n",
    "            print(df,\"\\n\", e)\n",
    "    \n",
    "    def query(self,q):\n",
    "        try:\n",
    "            res = pd.read_sql(q,self.cnx)\n",
    "            return res\n",
    "        except ResourceClosedError:\n",
    "            print(\"Query success, nothing was returned\")"
   ]
  },
  {
   "cell_type": "code",
   "execution_count": 3,
   "metadata": {},
   "outputs": [
    {
     "name": "stdout",
     "output_type": "stream",
     "text": [
      "Enter password for user ubuntu········\n"
     ]
    }
   ],
   "source": [
    "sql = MySQLConnection('ubuntu','localhost','dati')"
   ]
  },
  {
   "cell_type": "code",
   "execution_count": 4,
   "metadata": {},
   "outputs": [
    {
     "data": {
      "text/html": [
       "<div>\n",
       "<style scoped>\n",
       "    .dataframe tbody tr th:only-of-type {\n",
       "        vertical-align: middle;\n",
       "    }\n",
       "\n",
       "    .dataframe tbody tr th {\n",
       "        vertical-align: top;\n",
       "    }\n",
       "\n",
       "    .dataframe thead th {\n",
       "        text-align: right;\n",
       "    }\n",
       "</style>\n",
       "<table border=\"1\" class=\"dataframe\">\n",
       "  <thead>\n",
       "    <tr style=\"text-align: right;\">\n",
       "      <th></th>\n",
       "      <th>order_id</th>\n",
       "      <th>order_date</th>\n",
       "      <th>amount</th>\n",
       "      <th>customer_id</th>\n",
       "    </tr>\n",
       "  </thead>\n",
       "  <tbody>\n",
       "    <tr>\n",
       "      <td>0</td>\n",
       "      <td>1</td>\n",
       "      <td>07/04/1776</td>\n",
       "      <td>$234.56</td>\n",
       "      <td>1</td>\n",
       "    </tr>\n",
       "    <tr>\n",
       "      <td>1</td>\n",
       "      <td>2</td>\n",
       "      <td>03/14/1760</td>\n",
       "      <td>$78.50</td>\n",
       "      <td>3</td>\n",
       "    </tr>\n",
       "    <tr>\n",
       "      <td>2</td>\n",
       "      <td>3</td>\n",
       "      <td>05/23/1784</td>\n",
       "      <td>$124.00</td>\n",
       "      <td>2</td>\n",
       "    </tr>\n",
       "    <tr>\n",
       "      <td>3</td>\n",
       "      <td>4</td>\n",
       "      <td>09/03/1790</td>\n",
       "      <td>$65.50</td>\n",
       "      <td>3</td>\n",
       "    </tr>\n",
       "    <tr>\n",
       "      <td>4</td>\n",
       "      <td>5</td>\n",
       "      <td>07/21/1795</td>\n",
       "      <td>$25.50</td>\n",
       "      <td>10</td>\n",
       "    </tr>\n",
       "    <tr>\n",
       "      <td>5</td>\n",
       "      <td>6</td>\n",
       "      <td>11/27/1787</td>\n",
       "      <td>$14.40</td>\n",
       "      <td>9</td>\n",
       "    </tr>\n",
       "  </tbody>\n",
       "</table>\n",
       "</div>"
      ],
      "text/plain": [
       "   order_id  order_date   amount  customer_id\n",
       "0         1  07/04/1776  $234.56            1\n",
       "1         2  03/14/1760   $78.50            3\n",
       "2         3  05/23/1784  $124.00            2\n",
       "3         4  09/03/1790   $65.50            3\n",
       "4         5  07/21/1795   $25.50           10\n",
       "5         6  11/27/1787   $14.40            9"
      ]
     },
     "execution_count": 4,
     "metadata": {},
     "output_type": "execute_result"
    }
   ],
   "source": [
    "sql.query(\"select * from orders\")"
   ]
  },
  {
   "cell_type": "code",
   "execution_count": 5,
   "metadata": {},
   "outputs": [
    {
     "data": {
      "text/html": [
       "<div>\n",
       "<style scoped>\n",
       "    .dataframe tbody tr th:only-of-type {\n",
       "        vertical-align: middle;\n",
       "    }\n",
       "\n",
       "    .dataframe tbody tr th {\n",
       "        vertical-align: top;\n",
       "    }\n",
       "\n",
       "    .dataframe thead th {\n",
       "        text-align: right;\n",
       "    }\n",
       "</style>\n",
       "<table border=\"1\" class=\"dataframe\">\n",
       "  <thead>\n",
       "    <tr style=\"text-align: right;\">\n",
       "      <th></th>\n",
       "      <th>customer_id</th>\n",
       "      <th>first_name</th>\n",
       "      <th>last_name</th>\n",
       "      <th>email</th>\n",
       "      <th>address</th>\n",
       "      <th>city</th>\n",
       "      <th>state</th>\n",
       "      <th>zipcode</th>\n",
       "    </tr>\n",
       "  </thead>\n",
       "  <tbody>\n",
       "    <tr>\n",
       "      <td>0</td>\n",
       "      <td>1</td>\n",
       "      <td>George</td>\n",
       "      <td>Washington</td>\n",
       "      <td>gwashington@usa.gov</td>\n",
       "      <td>3200 Mt Vernon Hwy</td>\n",
       "      <td>Mount Vernon</td>\n",
       "      <td>VA</td>\n",
       "      <td>22121</td>\n",
       "    </tr>\n",
       "    <tr>\n",
       "      <td>1</td>\n",
       "      <td>2</td>\n",
       "      <td>John</td>\n",
       "      <td>Adams</td>\n",
       "      <td>jadams@usa.gov</td>\n",
       "      <td>1250 Hancock St</td>\n",
       "      <td>Quincy</td>\n",
       "      <td>MA</td>\n",
       "      <td>2169</td>\n",
       "    </tr>\n",
       "    <tr>\n",
       "      <td>2</td>\n",
       "      <td>3</td>\n",
       "      <td>Thomas</td>\n",
       "      <td>Jefferson</td>\n",
       "      <td>tjefferson@usa.gov</td>\n",
       "      <td>931 Thomas Jefferson Pkwy</td>\n",
       "      <td>Charlottesville</td>\n",
       "      <td>VA</td>\n",
       "      <td>22902</td>\n",
       "    </tr>\n",
       "    <tr>\n",
       "      <td>3</td>\n",
       "      <td>4</td>\n",
       "      <td>James</td>\n",
       "      <td>Madison</td>\n",
       "      <td>jmadison@usa.gov</td>\n",
       "      <td>11350 Constitution Hwy</td>\n",
       "      <td>Orange</td>\n",
       "      <td>VA</td>\n",
       "      <td>22960</td>\n",
       "    </tr>\n",
       "    <tr>\n",
       "      <td>4</td>\n",
       "      <td>5</td>\n",
       "      <td>James</td>\n",
       "      <td>Monroe</td>\n",
       "      <td>jmonroe@usa.gov</td>\n",
       "      <td>2050 James Monroe Parkway</td>\n",
       "      <td>Charlottesville</td>\n",
       "      <td>VA</td>\n",
       "      <td>22902</td>\n",
       "    </tr>\n",
       "  </tbody>\n",
       "</table>\n",
       "</div>"
      ],
      "text/plain": [
       "   customer_id first_name   last_name                email  \\\n",
       "0            1     George  Washington  gwashington@usa.gov   \n",
       "1            2       John       Adams       jadams@usa.gov   \n",
       "2            3     Thomas   Jefferson   tjefferson@usa.gov   \n",
       "3            4      James     Madison     jmadison@usa.gov   \n",
       "4            5      James      Monroe      jmonroe@usa.gov   \n",
       "\n",
       "                     address             city state  zipcode  \n",
       "0         3200 Mt Vernon Hwy     Mount Vernon    VA    22121  \n",
       "1            1250 Hancock St           Quincy    MA     2169  \n",
       "2  931 Thomas Jefferson Pkwy  Charlottesville    VA    22902  \n",
       "3     11350 Constitution Hwy           Orange    VA    22960  \n",
       "4  2050 James Monroe Parkway  Charlottesville    VA    22902  "
      ]
     },
     "execution_count": 5,
     "metadata": {},
     "output_type": "execute_result"
    }
   ],
   "source": [
    "sql.query(\"select * from customers\")"
   ]
  },
  {
   "cell_type": "code",
   "execution_count": null,
   "metadata": {},
   "outputs": [],
   "source": []
  },
  {
   "cell_type": "code",
   "execution_count": 12,
   "metadata": {},
   "outputs": [
    {
     "name": "stdout",
     "output_type": "stream",
     "text": [
      "Query success, nothing was returned\n"
     ]
    }
   ],
   "source": [
    "# 4. Katrā pilsētā ir tieši viens kurjers, cik piegāžu būs jāveic katram kurjeram?\n",
    "# sql.query(\"SELECT * from orders\")\n",
    "\n",
    "# No sākuma, tabulas apvienosim un rezultātu ievietosim jaunā tabulā\n",
    "q = \"\"\"\n",
    "create table join_rezultats as \n",
    "select \n",
    "    order_id, \n",
    "    city\n",
    "from \n",
    "    customers join orders on \n",
    "    customers.customer_id = orders.order_id\n",
    "\"\"\"\n",
    "sql.query(q)"
   ]
  },
  {
   "cell_type": "code",
   "execution_count": 7,
   "metadata": {},
   "outputs": [
    {
     "data": {
      "text/html": [
       "<div>\n",
       "<style scoped>\n",
       "    .dataframe tbody tr th:only-of-type {\n",
       "        vertical-align: middle;\n",
       "    }\n",
       "\n",
       "    .dataframe tbody tr th {\n",
       "        vertical-align: top;\n",
       "    }\n",
       "\n",
       "    .dataframe thead th {\n",
       "        text-align: right;\n",
       "    }\n",
       "</style>\n",
       "<table border=\"1\" class=\"dataframe\">\n",
       "  <thead>\n",
       "    <tr style=\"text-align: right;\">\n",
       "      <th></th>\n",
       "      <th>order_id</th>\n",
       "      <th>city</th>\n",
       "    </tr>\n",
       "  </thead>\n",
       "  <tbody>\n",
       "    <tr>\n",
       "      <td>0</td>\n",
       "      <td>3</td>\n",
       "      <td>Charlottesville</td>\n",
       "    </tr>\n",
       "    <tr>\n",
       "      <td>1</td>\n",
       "      <td>5</td>\n",
       "      <td>Charlottesville</td>\n",
       "    </tr>\n",
       "    <tr>\n",
       "      <td>2</td>\n",
       "      <td>1</td>\n",
       "      <td>Mount Vernon</td>\n",
       "    </tr>\n",
       "    <tr>\n",
       "      <td>3</td>\n",
       "      <td>4</td>\n",
       "      <td>Orange</td>\n",
       "    </tr>\n",
       "    <tr>\n",
       "      <td>4</td>\n",
       "      <td>2</td>\n",
       "      <td>Quincy</td>\n",
       "    </tr>\n",
       "  </tbody>\n",
       "</table>\n",
       "</div>"
      ],
      "text/plain": [
       "   order_id             city\n",
       "0         3  Charlottesville\n",
       "1         5  Charlottesville\n",
       "2         1     Mount Vernon\n",
       "3         4           Orange\n",
       "4         2           Quincy"
      ]
     },
     "execution_count": 7,
     "metadata": {},
     "output_type": "execute_result"
    }
   ],
   "source": [
    "sql.query(\"select * from join_rezultats order by city\")"
   ]
  },
  {
   "cell_type": "code",
   "execution_count": null,
   "metadata": {},
   "outputs": [],
   "source": [
    "# Mums bija jāizdara vairāki selekti, lai izveidotu jaunas 'tabulas'. \n",
    "# Tik, cik ir pilsētu.\n",
    "# Un tad jāsaskaita cik ierakstu / piegāžu ir katrā šajā 'tabulā'\n",
    "\n",
    "# Šo darbību var automatizēt izmantojot GROUP BY"
   ]
  },
  {
   "cell_type": "markdown",
   "metadata": {},
   "source": [
    "# GROUP BY  \n",
    "GROUP BY veic grupēšanu pa kādas kolonnas unikālajām vērtībām un aprēķina kādu 'kopsavilkuma' funkciju katrai šai grupai.  \n",
    "\n",
    "Piemēram, ja mums ir tabula, kurā ir 15 rindiņas un  3 kolonnas a, b un c, kur c kolonnā ir divas unikālas vērtības, tad GROUP BY pēc c kolonnas, mums izveidos divas grupas. Viena katrai unikālajai c vērtībai. Uz šīm grupām tad obligāti ir jāuzliek kāda kopsavilkuma funkcija.  \n",
    "\n",
    "Lietojamās kopsavilkuma funkcijas ir sekojošās:  \n",
    "* COUNT  \n",
    "* SUM  \n",
    "* AVG  \n",
    "* MIN  \n",
    "* MAX  \n",
    "Atkarībā no specifiskās SQL versijas, ko lietojat, šajā sarakstā var arī būt vēl kādas funkcijas"
   ]
  },
  {
   "cell_type": "code",
   "execution_count": 8,
   "metadata": {},
   "outputs": [
    {
     "data": {
      "text/html": [
       "<div>\n",
       "<style scoped>\n",
       "    .dataframe tbody tr th:only-of-type {\n",
       "        vertical-align: middle;\n",
       "    }\n",
       "\n",
       "    .dataframe tbody tr th {\n",
       "        vertical-align: top;\n",
       "    }\n",
       "\n",
       "    .dataframe thead th {\n",
       "        text-align: right;\n",
       "    }\n",
       "</style>\n",
       "<table border=\"1\" class=\"dataframe\">\n",
       "  <thead>\n",
       "    <tr style=\"text-align: right;\">\n",
       "      <th></th>\n",
       "      <th>city</th>\n",
       "      <th>piegazu_skaits</th>\n",
       "    </tr>\n",
       "  </thead>\n",
       "  <tbody>\n",
       "    <tr>\n",
       "      <td>0</td>\n",
       "      <td>Charlottesville</td>\n",
       "      <td>2</td>\n",
       "    </tr>\n",
       "    <tr>\n",
       "      <td>1</td>\n",
       "      <td>Mount Vernon</td>\n",
       "      <td>1</td>\n",
       "    </tr>\n",
       "    <tr>\n",
       "      <td>2</td>\n",
       "      <td>Orange</td>\n",
       "      <td>1</td>\n",
       "    </tr>\n",
       "    <tr>\n",
       "      <td>3</td>\n",
       "      <td>Quincy</td>\n",
       "      <td>1</td>\n",
       "    </tr>\n",
       "  </tbody>\n",
       "</table>\n",
       "</div>"
      ],
      "text/plain": [
       "              city  piegazu_skaits\n",
       "0  Charlottesville               2\n",
       "1     Mount Vernon               1\n",
       "2           Orange               1\n",
       "3           Quincy               1"
      ]
     },
     "execution_count": 8,
     "metadata": {},
     "output_type": "execute_result"
    }
   ],
   "source": [
    "q2 = \"\"\"\n",
    "select \n",
    "    city,\n",
    "    count(*) as piegazu_skaits\n",
    "from \n",
    "    join_rezultats\n",
    "group by\n",
    "    city\n",
    "\"\"\"\n",
    "sql.query(q2)"
   ]
  },
  {
   "cell_type": "code",
   "execution_count": null,
   "metadata": {},
   "outputs": [],
   "source": []
  },
  {
   "cell_type": "code",
   "execution_count": 4,
   "metadata": {},
   "outputs": [
    {
     "name": "stdout",
     "output_type": "stream",
     "text": [
      "Enter password for user ubuntu········\n"
     ]
    }
   ],
   "source": [
    "# Uzdevums:\n",
    "# 1. Resetojiet kerneli, lai izveidotu jaunu sql objektu, iestādiet datubāzi uz classicmodels. \n",
    "# Visi sekojošie uzdevumi būs ar datubāzi classicmodels un ir jāpēta datubāzes modelis, lai tos izdomātu.\n",
    "\n",
    "sql = MySQLConnection('ubuntu','localhost','classicmodels')\n",
    "\n",
    "# 2. Izpētiet datubāzes classicmodels shēmu. \n",
    "# Saskaitiet cik piegāžu ir katrā pilsētā, \n",
    "# izmantojot tabulas customers un orders no datubāzes classicmodels."
   ]
  },
  {
   "cell_type": "code",
   "execution_count": 11,
   "metadata": {},
   "outputs": [],
   "source": [
    "uzd1 = \"\"\"\n",
    "select \n",
    "    count(*) as number_of_orders, \n",
    "    city\n",
    "from \n",
    "    customers join orders on \n",
    "    customers.customernumber = orders.customernumber\n",
    "group by\n",
    "    city\n",
    "order by \n",
    "    number_of_orders desc \n",
    "limit \n",
    "    20\n",
    "\"\"\"\n",
    "# sql.query(uzd1)"
   ]
  },
  {
   "cell_type": "code",
   "execution_count": 15,
   "metadata": {},
   "outputs": [
    {
     "data": {
      "text/html": [
       "<div>\n",
       "<style scoped>\n",
       "    .dataframe tbody tr th:only-of-type {\n",
       "        vertical-align: middle;\n",
       "    }\n",
       "\n",
       "    .dataframe tbody tr th {\n",
       "        vertical-align: top;\n",
       "    }\n",
       "\n",
       "    .dataframe thead th {\n",
       "        text-align: right;\n",
       "    }\n",
       "</style>\n",
       "<table border=\"1\" class=\"dataframe\">\n",
       "  <thead>\n",
       "    <tr style=\"text-align: right;\">\n",
       "      <th></th>\n",
       "      <th>productline</th>\n",
       "      <th>count(productcode)</th>\n",
       "    </tr>\n",
       "  </thead>\n",
       "  <tbody>\n",
       "    <tr>\n",
       "      <td>0</td>\n",
       "      <td>Classic Cars</td>\n",
       "      <td>38</td>\n",
       "    </tr>\n",
       "    <tr>\n",
       "      <td>1</td>\n",
       "      <td>Motorcycles</td>\n",
       "      <td>13</td>\n",
       "    </tr>\n",
       "    <tr>\n",
       "      <td>2</td>\n",
       "      <td>Planes</td>\n",
       "      <td>12</td>\n",
       "    </tr>\n",
       "    <tr>\n",
       "      <td>3</td>\n",
       "      <td>Ships</td>\n",
       "      <td>9</td>\n",
       "    </tr>\n",
       "    <tr>\n",
       "      <td>4</td>\n",
       "      <td>Trains</td>\n",
       "      <td>3</td>\n",
       "    </tr>\n",
       "    <tr>\n",
       "      <td>5</td>\n",
       "      <td>Trucks and Buses</td>\n",
       "      <td>11</td>\n",
       "    </tr>\n",
       "    <tr>\n",
       "      <td>6</td>\n",
       "      <td>Vintage Cars</td>\n",
       "      <td>24</td>\n",
       "    </tr>\n",
       "  </tbody>\n",
       "</table>\n",
       "</div>"
      ],
      "text/plain": [
       "        productline  count(productcode)\n",
       "0      Classic Cars                  38\n",
       "1       Motorcycles                  13\n",
       "2            Planes                  12\n",
       "3             Ships                   9\n",
       "4            Trains                   3\n",
       "5  Trucks and Buses                  11\n",
       "6      Vintage Cars                  24"
      ]
     },
     "execution_count": 15,
     "metadata": {},
     "output_type": "execute_result"
    }
   ],
   "source": [
    "# Uzdevums:\n",
    "# Saskaitiet cik ir produktu līniju un cik katrā produktu līnijā ir unikālu produktu.\n",
    "# sql.query(\"select count(distinct productline) from products\")\n",
    "\n",
    "prd = \"\"\"\n",
    "select \n",
    "    productline,\n",
    "    count(productcode) \n",
    "from \n",
    "    products\n",
    "group by\n",
    "    productline\n",
    "\"\"\"\n",
    "sql.query(prd)"
   ]
  },
  {
   "cell_type": "code",
   "execution_count": 18,
   "metadata": {},
   "outputs": [
    {
     "name": "stdout",
     "output_type": "stream",
     "text": [
      "Query success, nothing was returned\n"
     ]
    }
   ],
   "source": [
    "# Uzdevums:\n",
    "# Aprēķiniet cik daudz ienākumu ir no katras produktu līnijas\n",
    "sql.query(\"create table orderdetails_w_income as select *, priceeach*quantityordered as income from orderdetails\")"
   ]
  },
  {
   "cell_type": "code",
   "execution_count": 19,
   "metadata": {},
   "outputs": [
    {
     "data": {
      "text/html": [
       "<div>\n",
       "<style scoped>\n",
       "    .dataframe tbody tr th:only-of-type {\n",
       "        vertical-align: middle;\n",
       "    }\n",
       "\n",
       "    .dataframe tbody tr th {\n",
       "        vertical-align: top;\n",
       "    }\n",
       "\n",
       "    .dataframe thead th {\n",
       "        text-align: right;\n",
       "    }\n",
       "</style>\n",
       "<table border=\"1\" class=\"dataframe\">\n",
       "  <thead>\n",
       "    <tr style=\"text-align: right;\">\n",
       "      <th></th>\n",
       "      <th>orderNumber</th>\n",
       "      <th>productCode</th>\n",
       "      <th>quantityOrdered</th>\n",
       "      <th>priceEach</th>\n",
       "      <th>orderLineNumber</th>\n",
       "      <th>income</th>\n",
       "    </tr>\n",
       "  </thead>\n",
       "  <tbody>\n",
       "    <tr>\n",
       "      <td>0</td>\n",
       "      <td>10100</td>\n",
       "      <td>S18_1749</td>\n",
       "      <td>30</td>\n",
       "      <td>136.00</td>\n",
       "      <td>3</td>\n",
       "      <td>4080.00</td>\n",
       "    </tr>\n",
       "    <tr>\n",
       "      <td>1</td>\n",
       "      <td>10100</td>\n",
       "      <td>S18_2248</td>\n",
       "      <td>50</td>\n",
       "      <td>55.09</td>\n",
       "      <td>2</td>\n",
       "      <td>2754.50</td>\n",
       "    </tr>\n",
       "    <tr>\n",
       "      <td>2</td>\n",
       "      <td>10100</td>\n",
       "      <td>S18_4409</td>\n",
       "      <td>22</td>\n",
       "      <td>75.46</td>\n",
       "      <td>4</td>\n",
       "      <td>1660.12</td>\n",
       "    </tr>\n",
       "    <tr>\n",
       "      <td>3</td>\n",
       "      <td>10100</td>\n",
       "      <td>S24_3969</td>\n",
       "      <td>49</td>\n",
       "      <td>35.29</td>\n",
       "      <td>1</td>\n",
       "      <td>1729.21</td>\n",
       "    </tr>\n",
       "    <tr>\n",
       "      <td>4</td>\n",
       "      <td>10101</td>\n",
       "      <td>S18_2325</td>\n",
       "      <td>25</td>\n",
       "      <td>108.06</td>\n",
       "      <td>4</td>\n",
       "      <td>2701.50</td>\n",
       "    </tr>\n",
       "    <tr>\n",
       "      <td>5</td>\n",
       "      <td>10101</td>\n",
       "      <td>S18_2795</td>\n",
       "      <td>26</td>\n",
       "      <td>167.06</td>\n",
       "      <td>1</td>\n",
       "      <td>4343.56</td>\n",
       "    </tr>\n",
       "    <tr>\n",
       "      <td>6</td>\n",
       "      <td>10101</td>\n",
       "      <td>S24_1937</td>\n",
       "      <td>45</td>\n",
       "      <td>32.53</td>\n",
       "      <td>3</td>\n",
       "      <td>1463.85</td>\n",
       "    </tr>\n",
       "    <tr>\n",
       "      <td>7</td>\n",
       "      <td>10101</td>\n",
       "      <td>S24_2022</td>\n",
       "      <td>46</td>\n",
       "      <td>44.35</td>\n",
       "      <td>2</td>\n",
       "      <td>2040.10</td>\n",
       "    </tr>\n",
       "    <tr>\n",
       "      <td>8</td>\n",
       "      <td>10102</td>\n",
       "      <td>S18_1342</td>\n",
       "      <td>39</td>\n",
       "      <td>95.55</td>\n",
       "      <td>2</td>\n",
       "      <td>3726.45</td>\n",
       "    </tr>\n",
       "    <tr>\n",
       "      <td>9</td>\n",
       "      <td>10102</td>\n",
       "      <td>S18_1367</td>\n",
       "      <td>41</td>\n",
       "      <td>43.13</td>\n",
       "      <td>1</td>\n",
       "      <td>1768.33</td>\n",
       "    </tr>\n",
       "  </tbody>\n",
       "</table>\n",
       "</div>"
      ],
      "text/plain": [
       "   orderNumber productCode  quantityOrdered  priceEach  orderLineNumber  \\\n",
       "0        10100    S18_1749               30     136.00                3   \n",
       "1        10100    S18_2248               50      55.09                2   \n",
       "2        10100    S18_4409               22      75.46                4   \n",
       "3        10100    S24_3969               49      35.29                1   \n",
       "4        10101    S18_2325               25     108.06                4   \n",
       "5        10101    S18_2795               26     167.06                1   \n",
       "6        10101    S24_1937               45      32.53                3   \n",
       "7        10101    S24_2022               46      44.35                2   \n",
       "8        10102    S18_1342               39      95.55                2   \n",
       "9        10102    S18_1367               41      43.13                1   \n",
       "\n",
       "    income  \n",
       "0  4080.00  \n",
       "1  2754.50  \n",
       "2  1660.12  \n",
       "3  1729.21  \n",
       "4  2701.50  \n",
       "5  4343.56  \n",
       "6  1463.85  \n",
       "7  2040.10  \n",
       "8  3726.45  \n",
       "9  1768.33  "
      ]
     },
     "execution_count": 19,
     "metadata": {},
     "output_type": "execute_result"
    }
   ],
   "source": [
    "sql.query(\"select * from orderdetails_w_income limit 10\")"
   ]
  },
  {
   "cell_type": "code",
   "execution_count": 25,
   "metadata": {},
   "outputs": [
    {
     "data": {
      "text/html": [
       "<div>\n",
       "<style scoped>\n",
       "    .dataframe tbody tr th:only-of-type {\n",
       "        vertical-align: middle;\n",
       "    }\n",
       "\n",
       "    .dataframe tbody tr th {\n",
       "        vertical-align: top;\n",
       "    }\n",
       "\n",
       "    .dataframe thead th {\n",
       "        text-align: right;\n",
       "    }\n",
       "</style>\n",
       "<table border=\"1\" class=\"dataframe\">\n",
       "  <thead>\n",
       "    <tr style=\"text-align: right;\">\n",
       "      <th></th>\n",
       "      <th>productline</th>\n",
       "      <th>ienakumi</th>\n",
       "    </tr>\n",
       "  </thead>\n",
       "  <tbody>\n",
       "    <tr>\n",
       "      <td>0</td>\n",
       "      <td>Classic Cars</td>\n",
       "      <td>3853922.49</td>\n",
       "    </tr>\n",
       "    <tr>\n",
       "      <td>1</td>\n",
       "      <td>Vintage Cars</td>\n",
       "      <td>1797559.63</td>\n",
       "    </tr>\n",
       "    <tr>\n",
       "      <td>2</td>\n",
       "      <td>Motorcycles</td>\n",
       "      <td>1121426.12</td>\n",
       "    </tr>\n",
       "    <tr>\n",
       "      <td>3</td>\n",
       "      <td>Trucks and Buses</td>\n",
       "      <td>1024113.57</td>\n",
       "    </tr>\n",
       "    <tr>\n",
       "      <td>4</td>\n",
       "      <td>Planes</td>\n",
       "      <td>954637.54</td>\n",
       "    </tr>\n",
       "    <tr>\n",
       "      <td>5</td>\n",
       "      <td>Ships</td>\n",
       "      <td>663998.34</td>\n",
       "    </tr>\n",
       "    <tr>\n",
       "      <td>6</td>\n",
       "      <td>Trains</td>\n",
       "      <td>188532.92</td>\n",
       "    </tr>\n",
       "  </tbody>\n",
       "</table>\n",
       "</div>"
      ],
      "text/plain": [
       "        productline    ienakumi\n",
       "0      Classic Cars  3853922.49\n",
       "1      Vintage Cars  1797559.63\n",
       "2       Motorcycles  1121426.12\n",
       "3  Trucks and Buses  1024113.57\n",
       "4            Planes   954637.54\n",
       "5             Ships   663998.34\n",
       "6            Trains   188532.92"
      ]
     },
     "execution_count": 25,
     "metadata": {},
     "output_type": "execute_result"
    }
   ],
   "source": [
    "some_q = \"\"\"\n",
    "select\n",
    "    productline,\n",
    "    sum(income) as ienakumi\n",
    "from \n",
    "    orderdetails_w_income join products on \n",
    "    orderdetails_w_income.productcode = products.productcode\n",
    "group by\n",
    "    productline\n",
    "order by\n",
    "    ienakumi desc\n",
    "\"\"\"\n",
    "sql.query(some_q)"
   ]
  },
  {
   "cell_type": "code",
   "execution_count": null,
   "metadata": {},
   "outputs": [],
   "source": []
  },
  {
   "cell_type": "code",
   "execution_count": null,
   "metadata": {},
   "outputs": [],
   "source": []
  },
  {
   "cell_type": "code",
   "execution_count": null,
   "metadata": {},
   "outputs": [],
   "source": []
  },
  {
   "cell_type": "code",
   "execution_count": null,
   "metadata": {},
   "outputs": [],
   "source": [
    "#Uzdevums:\n",
    "# Aprēķiniet cik ir ienākumu no katras pilsētas"
   ]
  },
  {
   "cell_type": "markdown",
   "metadata": {},
   "source": [
    "# Vairāku līmeņu SELECT  \n",
    "Bieži rodās situācijas, kur mēs nevaram iegut nepieciešamos datus apvienojot tikai divas tabulas. "
   ]
  },
  {
   "cell_type": "code",
   "execution_count": 38,
   "metadata": {},
   "outputs": [
    {
     "data": {
      "text/plain": [
       "<matplotlib.axes._subplots.AxesSubplot at 0x7fcefc467350>"
      ]
     },
     "execution_count": 38,
     "metadata": {},
     "output_type": "execute_result"
    },
    {
     "data": {
      "image/png": "[encoded data removed]",
      "text/plain": [
       "<Figure size 432x288 with 1 Axes>"
      ]
     },
     "metadata": {
      "needs_background": "light"
     },
     "output_type": "display_data"
    }
   ],
   "source": [
    "q3 = \"\"\"\n",
    "select \n",
    "    sum(income) as kopejie_ienakumi,\n",
    "    city\n",
    "from \n",
    "    customers join \n",
    "    (\n",
    "    select\n",
    "        orders.customernumber,\n",
    "        orderdetails_w_income.income\n",
    "    from \n",
    "        orderdetails_w_income join orders on\n",
    "        orderdetails_w_income.ordernumber = orders.ordernumber\n",
    "    ) pasutijumu_ienakumi on \n",
    "    customers.customernumber = pasutijumu_ienakumi.customernumber\n",
    "group by\n",
    "    city\n",
    "order by \n",
    "    kopejie_ienakumi desc\n",
    "\"\"\"\n",
    "\n",
    "\n",
    "# test_q = \"\"\"\n",
    "# select\n",
    "#     customernumber,\n",
    "#     income\n",
    "# from \n",
    "#     orderdetails_w_income join orders on\n",
    "#     orderdetails_w_income.ordernumber = orders.ordernumber\n",
    "# \"\"\"\n",
    "sql.query(q3).plot.bar()"
   ]
  },
  {
   "cell_type": "code",
   "execution_count": null,
   "metadata": {},
   "outputs": [],
   "source": []
  },
  {
   "cell_type": "markdown",
   "metadata": {},
   "source": [
    "Vispārīga sintakse iekšējo joinu veidošanai:  \n"
   ]
  },
  {
   "cell_type": "code",
   "execution_count": null,
   "metadata": {},
   "outputs": [],
   "source": [
    "\"\"\"\n",
    "SELECT\n",
    "    kolonna1,\n",
    "    kolonna2\n",
    "FROM \n",
    "    areja_joina_tabula <join tips> join \n",
    "    (\n",
    "        \n",
    "    <\n",
    "    SELECT statements un/vai joins, \n",
    "    kas atgriež tabulu, kura satur indeksu, \n",
    "    ko var sasaistīt ar tabulu areja_join_tabula \n",
    "    >\n",
    "\n",
    "    ) iekseja_join_tabula on \n",
    "    areja_join_tabula.indeksa_kolonna = iekseja_join_tabula.indeksa_kolonna_velams_nosaukta_citadi\n",
    "\"\"\""
   ]
  },
  {
   "cell_type": "markdown",
   "metadata": {},
   "source": [
    "Praktiski padomi strādājot ar vairākiem joiniem:  \n",
    "* Izmantojiet aliasus\n",
    "* Vienmēr iztestējiet iekšējo joinu kā pirmo. Pārbaudiet vai kolonnas ir nosauktas, vai vērtības šķiet saprātīgas.\n"
   ]
  },
  {
   "cell_type": "code",
   "execution_count": null,
   "metadata": {},
   "outputs": [],
   "source": [
    "# Uzdevums: Saskaitiet cik pasūtījumu ir katrā pilsētā.\n",
    "# Padoms: to var izdarīt ļoti minimāli modificējot q3_grouped vaicājuma kodu"
   ]
  },
  {
   "cell_type": "code",
   "execution_count": null,
   "metadata": {},
   "outputs": [],
   "source": []
  }
 ],
 "metadata": {
  "kernelspec": {
   "display_name": "Python 3",
   "language": "python",
   "name": "python3"
  },
  "language_info": {
   "codemirror_mode": {
    "name": "ipython",
    "version": 3
   },
   "file_extension": ".py",
   "mimetype": "text/x-python",
   "name": "python",
   "nbconvert_exporter": "python",
   "pygments_lexer": "ipython3",
   "version": "3.7.4"
  }
 },
 "nbformat": 4,
 "nbformat_minor": 2
}
