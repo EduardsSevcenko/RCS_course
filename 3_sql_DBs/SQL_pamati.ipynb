{
 "cells": [
  {
   "cell_type": "code",
   "execution_count": 31,
   "metadata": {},
   "outputs": [],
   "source": [
    "# Uzdevums:\n",
    "# Izdzēsiet iepriekšējā nodarbībā izveidoto datubāzi 'trenins' un izveidojiet datubāzi 'dati'"
   ]
  },
  {
   "cell_type": "code",
   "execution_count": null,
   "metadata": {},
   "outputs": [],
   "source": []
  },
  {
   "cell_type": "code",
   "execution_count": 11,
   "metadata": {},
   "outputs": [],
   "source": [
    "import pandas as pd\n",
    "import getpass\n",
    "from sqlalchemy import create_engine\n",
    "import MySQLdb\n",
    "check = False"
   ]
  },
  {
   "cell_type": "code",
   "execution_count": 3,
   "metadata": {},
   "outputs": [],
   "source": [
    "class MySQLConnection:\n",
    "    def __init__(self,user,hostname,db):\n",
    "        self.user = str(user)\n",
    "        self.hostname = str(hostname)\n",
    "        self.db = str(db)\n",
    "        pword = getpass.getpass(\"Enter password for user {}\".format(user))\n",
    "        # self.cnx = mysql.connector.connect(host=self.hostname,user=self.user, password=pword,database=self.db)\n",
    "        self.engine = create_engine(\"mysql+mysqlconnector://{}:{}@{}/{}\".format(user,pword,hostname,db))\n",
    "        self.cnx = self.engine.connect()\n",
    "    \n",
    "    def write_to_db(self, df, table_name):\n",
    "        try:\n",
    "            df.to_sql(table_name,con = self.cnx,if_exists='append',index=False)\n",
    "        except Exception as e:\n",
    "            print(\"\\n SQL Write error with: \")\n",
    "            print(df,\"\\n\", e)"
   ]
  },
  {
   "cell_type": "code",
   "execution_count": 4,
   "metadata": {},
   "outputs": [
    {
     "name": "stdout",
     "output_type": "stream",
     "text": [
      "Enter password for user ubuntu········\n"
     ]
    }
   ],
   "source": [
    "sql = MySQLConnection('ubuntu','localhost','dati')"
   ]
  },
  {
   "cell_type": "code",
   "execution_count": 5,
   "metadata": {},
   "outputs": [],
   "source": [
    "a_code = pd.read_csv('access-code.csv',';')\n",
    "a_code_pword_rec = pd.read_csv('access-code-password-recovery-code.csv',sep=';')\n",
    "un_pw_rec_code = pd.read_csv('username-password-recovery-code.csv',sep=';')\n",
    "un = pd.read_csv('username.csv',sep=';')\n",
    "email = pd.read_csv('email.csv',sep=';')\n",
    "un_email = pd.read_csv('username-or-email.csv',sep=';')\n",
    "email_pw_rec = pd.read_csv('email-password-recovery-code.csv',sep=';')"
   ]
  },
  {
   "cell_type": "code",
   "execution_count": 6,
   "metadata": {},
   "outputs": [],
   "source": [
    "a_code.columns = ['Identifier', 'Firstname','Lastname']\n",
    "a_code_pword_rec.columns = ['Identifier','Accesscode','Recoverycode','Firstname','Lastname','Department','Location']\n",
    "un_pw_rec_code.columns = ['Username','Identifier','Onetimepassword','Recoverycode','Firstname','Lastname','Department','Location']\n",
    "un.columns = ['Username', 'Identifier', 'Firstname','Lastname']\n",
    "email.columns = ['Loginemail','Identifier', 'Firstname','Lastname']\n",
    "un_email.columns = ['Username','Loginemail','Identifier', 'Firstname','Lastname']\n",
    "email_pw_rec.columns = ['Loginemail','Identifier','Onetimepassword','Recoverycode', 'Firstname','Lastname','Department','Location']"
   ]
  },
  {
   "cell_type": "code",
   "execution_count": 13,
   "metadata": {},
   "outputs": [
    {
     "name": "stdout",
     "output_type": "stream",
     "text": [
      "ayy\n"
     ]
    }
   ],
   "source": [
    "if not check:\n",
    "    print('ayy')"
   ]
  },
  {
   "cell_type": "code",
   "execution_count": 7,
   "metadata": {},
   "outputs": [],
   "source": [
    "# ŠĪ ŠŪNA JĀIZPILDA VIENREIZ!\n",
    "\n",
    "if not check:\n",
    "    sql.write_to_db(a_code,'access_code')\n",
    "    sql.write_to_db(a_code_pword_rec,'access_code_password_recovery_code')\n",
    "    sql.write_to_db(un_pw_rec_code,'username_password_recovery_code')\n",
    "    sql.write_to_db(un,'username')\n",
    "    sql.write_to_db(email,'email')\n",
    "    sql.write_to_db(un_email,'username_or_email')\n",
    "    sql.write_to_db(email_pw_rec,'email_password_recovery_code')\n",
    "    check = True"
   ]
  },
  {
   "cell_type": "code",
   "execution_count": 41,
   "metadata": {},
   "outputs": [
    {
     "data": {
      "text/html": [
       "<div>\n",
       "<style scoped>\n",
       "    .dataframe tbody tr th:only-of-type {\n",
       "        vertical-align: middle;\n",
       "    }\n",
       "\n",
       "    .dataframe tbody tr th {\n",
       "        vertical-align: top;\n",
       "    }\n",
       "\n",
       "    .dataframe thead th {\n",
       "        text-align: right;\n",
       "    }\n",
       "</style>\n",
       "<table border=\"1\" class=\"dataframe\">\n",
       "  <thead>\n",
       "    <tr style=\"text-align: right;\">\n",
       "      <th></th>\n",
       "      <th>Username</th>\n",
       "      <th>Identifier</th>\n",
       "    </tr>\n",
       "  </thead>\n",
       "  <tbody>\n",
       "    <tr>\n",
       "      <td>0</td>\n",
       "      <td>jenkins46</td>\n",
       "      <td>9346</td>\n",
       "    </tr>\n",
       "    <tr>\n",
       "      <td>1</td>\n",
       "      <td>booker12</td>\n",
       "      <td>9012</td>\n",
       "    </tr>\n",
       "    <tr>\n",
       "      <td>2</td>\n",
       "      <td>smith79</td>\n",
       "      <td>5079</td>\n",
       "    </tr>\n",
       "  </tbody>\n",
       "</table>\n",
       "</div>"
      ],
      "text/plain": [
       "    Username  Identifier\n",
       "0  jenkins46        9346\n",
       "1   booker12        9012\n",
       "2    smith79        5079"
      ]
     },
     "execution_count": 41,
     "metadata": {},
     "output_type": "execute_result"
    }
   ],
   "source": [
    "select_query_template = \"\"\" \n",
    "SELECT \n",
    "    Username, \n",
    "    Identifier \n",
    "FROM \n",
    "    username_or_email \n",
    "WHERE \n",
    "    identifier > 4000\n",
    "ORDER BY \n",
    "    identifier DESC \n",
    "LIMIT 3\n",
    "\"\"\"\n",
    "\n",
    "pd.read_sql(select_query_template, sql.cnx)"
   ]
  },
  {
   "cell_type": "code",
   "execution_count": 42,
   "metadata": {},
   "outputs": [
    {
     "data": {
      "text/html": [
       "<div>\n",
       "<style scoped>\n",
       "    .dataframe tbody tr th:only-of-type {\n",
       "        vertical-align: middle;\n",
       "    }\n",
       "\n",
       "    .dataframe tbody tr th {\n",
       "        vertical-align: top;\n",
       "    }\n",
       "\n",
       "    .dataframe thead th {\n",
       "        text-align: right;\n",
       "    }\n",
       "</style>\n",
       "<table border=\"1\" class=\"dataframe\">\n",
       "  <thead>\n",
       "    <tr style=\"text-align: right;\">\n",
       "      <th></th>\n",
       "      <th>Location</th>\n",
       "      <th>count(*)</th>\n",
       "    </tr>\n",
       "  </thead>\n",
       "  <tbody>\n",
       "    <tr>\n",
       "      <td>0</td>\n",
       "      <td>London</td>\n",
       "      <td>2</td>\n",
       "    </tr>\n",
       "    <tr>\n",
       "      <td>1</td>\n",
       "      <td>Manchester</td>\n",
       "      <td>3</td>\n",
       "    </tr>\n",
       "  </tbody>\n",
       "</table>\n",
       "</div>"
      ],
      "text/plain": [
       "     Location  count(*)\n",
       "0      London         2\n",
       "1  Manchester         3"
      ]
     },
     "execution_count": 42,
     "metadata": {},
     "output_type": "execute_result"
    }
   ],
   "source": [
    "grouping_query_template = \"\"\"\n",
    "select\n",
    "    Location,\n",
    "    count(*) \n",
    "from \n",
    "    username_password_recovery_code \n",
    "group by \n",
    "    Location\n",
    "\"\"\"\n",
    "# username_password_recovery_code\n",
    "pd.read_sql(grouping_query_template, sql.cnx)"
   ]
  },
  {
   "cell_type": "code",
   "execution_count": 8,
   "metadata": {},
   "outputs": [
    {
     "data": {
      "text/html": [
       "<div>\n",
       "<style scoped>\n",
       "    .dataframe tbody tr th:only-of-type {\n",
       "        vertical-align: middle;\n",
       "    }\n",
       "\n",
       "    .dataframe tbody tr th {\n",
       "        vertical-align: top;\n",
       "    }\n",
       "\n",
       "    .dataframe thead th {\n",
       "        text-align: right;\n",
       "    }\n",
       "</style>\n",
       "<table border=\"1\" class=\"dataframe\">\n",
       "  <thead>\n",
       "    <tr style=\"text-align: right;\">\n",
       "      <th></th>\n",
       "      <th>username</th>\n",
       "      <th>Identifier</th>\n",
       "    </tr>\n",
       "  </thead>\n",
       "  <tbody>\n",
       "    <tr>\n",
       "      <td>0</td>\n",
       "      <td>grey07</td>\n",
       "      <td>2070</td>\n",
       "    </tr>\n",
       "    <tr>\n",
       "      <td>1</td>\n",
       "      <td>grey07</td>\n",
       "      <td>2070</td>\n",
       "    </tr>\n",
       "    <tr>\n",
       "      <td>2</td>\n",
       "      <td>johnson81</td>\n",
       "      <td>4081</td>\n",
       "    </tr>\n",
       "    <tr>\n",
       "      <td>3</td>\n",
       "      <td>johnson81</td>\n",
       "      <td>4081</td>\n",
       "    </tr>\n",
       "    <tr>\n",
       "      <td>4</td>\n",
       "      <td>jenkins46</td>\n",
       "      <td>9346</td>\n",
       "    </tr>\n",
       "    <tr>\n",
       "      <td>5</td>\n",
       "      <td>jenkins46</td>\n",
       "      <td>9346</td>\n",
       "    </tr>\n",
       "    <tr>\n",
       "      <td>6</td>\n",
       "      <td>smith79</td>\n",
       "      <td>5079</td>\n",
       "    </tr>\n",
       "    <tr>\n",
       "      <td>7</td>\n",
       "      <td>smith79</td>\n",
       "      <td>5079</td>\n",
       "    </tr>\n",
       "    <tr>\n",
       "      <td>8</td>\n",
       "      <td>grey07</td>\n",
       "      <td>2070</td>\n",
       "    </tr>\n",
       "    <tr>\n",
       "      <td>9</td>\n",
       "      <td>grey07</td>\n",
       "      <td>2070</td>\n",
       "    </tr>\n",
       "    <tr>\n",
       "      <td>10</td>\n",
       "      <td>johnson81</td>\n",
       "      <td>4081</td>\n",
       "    </tr>\n",
       "    <tr>\n",
       "      <td>11</td>\n",
       "      <td>johnson81</td>\n",
       "      <td>4081</td>\n",
       "    </tr>\n",
       "    <tr>\n",
       "      <td>12</td>\n",
       "      <td>jenkins46</td>\n",
       "      <td>9346</td>\n",
       "    </tr>\n",
       "    <tr>\n",
       "      <td>13</td>\n",
       "      <td>jenkins46</td>\n",
       "      <td>9346</td>\n",
       "    </tr>\n",
       "    <tr>\n",
       "      <td>14</td>\n",
       "      <td>smith79</td>\n",
       "      <td>5079</td>\n",
       "    </tr>\n",
       "    <tr>\n",
       "      <td>15</td>\n",
       "      <td>smith79</td>\n",
       "      <td>5079</td>\n",
       "    </tr>\n",
       "  </tbody>\n",
       "</table>\n",
       "</div>"
      ],
      "text/plain": [
       "     username  Identifier\n",
       "0      grey07        2070\n",
       "1      grey07        2070\n",
       "2   johnson81        4081\n",
       "3   johnson81        4081\n",
       "4   jenkins46        9346\n",
       "5   jenkins46        9346\n",
       "6     smith79        5079\n",
       "7     smith79        5079\n",
       "8      grey07        2070\n",
       "9      grey07        2070\n",
       "10  johnson81        4081\n",
       "11  johnson81        4081\n",
       "12  jenkins46        9346\n",
       "13  jenkins46        9346\n",
       "14    smith79        5079\n",
       "15    smith79        5079"
      ]
     },
     "execution_count": 8,
     "metadata": {},
     "output_type": "execute_result"
    }
   ],
   "source": [
    "join_query_template = \"\"\"\n",
    "select\n",
    "    username.username,\n",
    "    email.Identifier\n",
    "from \n",
    "    username inner join email on \n",
    "    username.Identifier = email.Identifier\n",
    "\"\"\"\n",
    "\n",
    "pd.read_sql(join_query_template, sql.cnx)"
   ]
  },
  {
   "cell_type": "code",
   "execution_count": 44,
   "metadata": {},
   "outputs": [],
   "source": [
    "# Uzdevums:\n",
    "# Izveidojiet jaunu mysql lietotāju 'hr', kuram ir pieeja tikai uz datubāzi dati un tabulām 'email' un 'username_or_email'"
   ]
  },
  {
   "cell_type": "markdown",
   "metadata": {},
   "source": [
    "# CREATE TABLE  \n",
    "Šie divi atslēgvārdi izveido tabulu ar fiksētu kolonnu skaitu un fiksētiem kolonnu vērtību tipiem.  \n",
    "Piemērs:  \n",
    "CREATE TABLE Tabula1(Kolonna1 Int, Kolonna2 Int, Kolonna3 char)  "
   ]
  },
  {
   "cell_type": "markdown",
   "metadata": {},
   "source": [
    "# SELECT atslēgvārds  \n",
    "SELECT atslēgvārds atlasa kolonnas. Select atslēgvārdam ir jābūt jebkurā SQL vaicājumā. Select kā argumentus ņem vai nu attiecīgās tabulas kolonnas vai arī īpašu argumentu * , kas atlasa visas kolonnas"
   ]
  },
  {
   "cell_type": "markdown",
   "metadata": {},
   "source": [
    "# FROM atslēgvārds  \n",
    "Tāpat kā SELECT, arī FROM atslēgvārds ir atrodams jebkurā SQL vaicājumā. Loģika aiz šī ir tāda, ka mēs vienmēr ņemam kādas kolonnas no kādas tabulas.  \n",
    "**Visas kolonnas vienmēr tiek ņemtas no kādas tabulas, neatkarīgi no tā vai tabula ir jau esoša vai tiek izveidota kāda cita vaicājuma rezultātā.**  "
   ]
  },
  {
   "cell_type": "markdown",
   "metadata": {},
   "source": [
    "# WHERE atslēgvārds  \n",
    "**WHERE atslēgvārds NAV obligāts. WHERE atslēgvārds tiek izmantots, lai atlasītu rindas, kuras atbilst 'būla mainīgā' apgalvojumam piem:**  \n",
    "\n",
    "SELECT  \n",
    "  Kolonna1,  \n",
    "  Kolonna2  \n",
    "FROM Tabula1  \n",
    "WHERE Kolonna1 > 10  \n",
    "\n",
    "**WHERE atslēgvārdam var padot vairākus argumentus, kurus var apvienot ar AND piem:**\n",
    "\n",
    "SELECT  \n",
    "  Kolonna1,  \n",
    "  Kolonna2  \n",
    "FROM Tabula1  \n",
    "WHERE Kolonna1 > 10  AND Kolonna2 < 4  \n",
    "\n"
   ]
  },
  {
   "cell_type": "markdown",
   "metadata": {},
   "source": [
    "# ORDER BY funkcija/atslēgvārdi  \n",
    "Order by funkcija SQL vaicājumā vienmēr būs pēc WHERE atslēgvārda, bet pirms LIMIT, ja tāds tiek lietots. Sakārto tabulu vai nu augoši vai dilstoši. Piemērs:  \n",
    "SELECT * FROM Tabula1 ORDER BY <kolonnas_nosaukums> <asc/desc>"
   ]
  },
  {
   "cell_type": "markdown",
   "metadata": {},
   "source": [
    "# Tabulas var veidot arī ar SELECT atslēgvārdu  \n",
    "**Izmantojot CREATE TABLE, tipiski ir jānorāda tabulas nosaukums, kolonnu nosaukumi un to tipi, bet izveidot tabulu var arī ar sekojošo sintaksi:**  \n",
    "\n",
    "CREATE TABLE skelums AS SELECT Kolonna1, Kolonna2  \n",
    "FROM Tabula1  \n",
    "\n",
    "**Šis strādā, jo, ja mēs atsaucamies uz eksistējošu tabulu, tās kolonnām jau ir gan nosaukumi, gan tipi un tie nav jānorāda vēlreiz**  \n"
   ]
  },
  {
   "cell_type": "code",
   "execution_count": null,
   "metadata": {},
   "outputs": [],
   "source": [
    "# Uzdevums:\n",
    "# 1. Ar select <kolonnas> from <tabula>' izpētiet tabulas 'email' un 'username', \n",
    "# 2. Izveidojiet tabulu username_sample no tabulas username, kurā ir tikai kolonnas 'Identifier' un 'username' tikai \n",
    "# no tiem darbiniekiem, kuriem Identificator ir lielāks par 4000"
   ]
  },
  {
   "cell_type": "markdown",
   "metadata": {},
   "source": [
    "# Agregācijas funkcijas: COUNT, SUM, MIN, MAX, AVG  "
   ]
  },
  {
   "cell_type": "code",
   "execution_count": null,
   "metadata": {},
   "outputs": [],
   "source": []
  },
  {
   "cell_type": "markdown",
   "metadata": {},
   "source": [
    "# JOIN atslēgvārds  \n",
    "Viena no spēcīgākajām SQL iespējām ir salīdzinoši vienkāršā tabulu sapludināšana.  \n",
    "JOIN atslēgvārds izveido jaunu tabulu no divām citām tabulām, apvienojot rindiņas.  \n",
    "Rindiņas tiek apvienotas izmantojot kādas norādītas kolonnas vērtības.  \n",
    "**Svarīgi: JOIN atslēgvārds tabulas izveido, bet lai kaut kas tiktu atgriezts, vaicājumam tāpat ir jāsatur SELECT.**  \n",
    "Piemērs:  \n",
    "SELECT < kolonnas > FROM <join apgalvojums šeit>\n",
    "\n",
    "Ir 4 apvienošanas stratēģijas 'inner', 'outer', 'left' un 'right'"
   ]
  },
  {
   "cell_type": "code",
   "execution_count": 14,
   "metadata": {},
   "outputs": [],
   "source": [
    "# Uzdevums:\n",
    "# Sekojošajā piemērā izstājiet atslēgvārdu 'inner' ar secīgi 'outer', 'left' un 'right'. Ko var secināt?\n",
    "\n",
    "join_query_template = \"\"\"\n",
    "select\n",
    "    username_sample.username,\n",
    "    email.Identifier\n",
    "from \n",
    "    username_sample inner join email on \n",
    "    username_sample.Identifier = email.Identifier\n",
    "\"\"\"\n",
    "\n",
    "# pd.read_sql(join_query_template, sql.cnx)"
   ]
  },
  {
   "cell_type": "markdown",
   "metadata": {},
   "source": [
    "![alt text](http://codinghelptech.com/blog_post/Sql-Join.png \"Logo Title Text 1\")\n",
    "<!-- http://codinghelptech.com/Database/Sql-Join.html -->"
   ]
  },
  {
   "cell_type": "code",
   "execution_count": null,
   "metadata": {},
   "outputs": [],
   "source": []
  },
  {
   "cell_type": "code",
   "execution_count": null,
   "metadata": {},
   "outputs": [],
   "source": []
  },
  {
   "cell_type": "code",
   "execution_count": 15,
   "metadata": {},
   "outputs": [],
   "source": [
    "# Uzdevums:\n",
    "# Izveidojiet tabulu, kurā ir TIKAI visu lietotāju lietotājvārdi e-pasti un atrašanās vietas,\n",
    "# izmantojot tikai tabulas, kuras iegūtas no failiem:\n",
    "# 1. email.csv\n",
    "# 2. username-password-recovery-code.csv"
   ]
  },
  {
   "cell_type": "code",
   "execution_count": null,
   "metadata": {},
   "outputs": [],
   "source": []
  },
  {
   "cell_type": "code",
   "execution_count": null,
   "metadata": {},
   "outputs": [],
   "source": []
  },
  {
   "cell_type": "code",
   "execution_count": null,
   "metadata": {},
   "outputs": [],
   "source": []
  },
  {
   "cell_type": "code",
   "execution_count": null,
   "metadata": {},
   "outputs": [],
   "source": []
  },
  {
   "cell_type": "code",
   "execution_count": null,
   "metadata": {},
   "outputs": [],
   "source": []
  },
  {
   "cell_type": "markdown",
   "metadata": {},
   "source": [
    "# GROUP BY atslēgvārds  \n",
    "<!-- https://www.w3schools.com/sql/sql_groupby.asp-->\n",
    "GROUP BY atslēgvārds ir komanda, kas ir nevis paredzēts lai filtrētu vai atgrieztu tabulas, bet gan lai sagrupētu tabulas pēc kādas kolonnas unikālajām vērtībām."
   ]
  },
  {
   "cell_type": "code",
   "execution_count": null,
   "metadata": {},
   "outputs": [],
   "source": []
  }
 ],
 "metadata": {
  "kernelspec": {
   "display_name": "Python 3",
   "language": "python",
   "name": "python3"
  },
  "language_info": {
   "codemirror_mode": {
    "name": "ipython",
    "version": 3
   },
   "file_extension": ".py",
   "mimetype": "text/x-python",
   "name": "python",
   "nbconvert_exporter": "python",
   "pygments_lexer": "ipython3",
   "version": "3.7.4"
  }
 },
 "nbformat": 4,
 "nbformat_minor": 2
}
