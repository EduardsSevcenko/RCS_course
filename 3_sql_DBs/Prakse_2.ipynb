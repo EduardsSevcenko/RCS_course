{
 "cells": [
  {
   "cell_type": "code",
   "execution_count": 1,
   "metadata": {},
   "outputs": [],
   "source": [
    "import pandas as pd\n",
    "import getpass\n",
    "from sqlalchemy import create_engine\n",
    "from sqlalchemy.exc import ResourceClosedError\n",
    "import MySQLdb \n",
    "check = False\n",
    "import json"
   ]
  },
  {
   "cell_type": "code",
   "execution_count": 2,
   "metadata": {},
   "outputs": [],
   "source": [
    "class MySQLConnection:\n",
    "    def __init__(self,user,hostname,db):\n",
    "        self.user = str(user)\n",
    "        self.hostname = str(hostname)\n",
    "        self.db = str(db)\n",
    "        pword = getpass.getpass(\"Enter password for user {}\".format(user))\n",
    "        # self.cnx = mysql.connector.connect(host=self.hostname,user=self.user, password=pword,database=self.db)\n",
    "        self.engine = create_engine(\"mysql+mysqlconnector://{}:{}@{}/{}\".format(user,pword,hostname,db))\n",
    "        self.cnx = self.engine.connect()\n",
    "    \n",
    "    def write_to_db(self, df, table_name):\n",
    "        try:\n",
    "            df.to_sql(table_name,con = self.cnx,if_exists='fail',index=False)\n",
    "        except Exception as e:\n",
    "            print(\"\\n SQL Write error with: \")\n",
    "            print(df,\"\\n\", e)\n",
    "    \n",
    "    def query(self,q):\n",
    "        try:\n",
    "            res = pd.read_sql(q,self.cnx)\n",
    "            return res\n",
    "        except ResourceClosedError:\n",
    "            print(\"Query success, nothing was returned\")\n",
    "        except Exception as e:\n",
    "            print(\"\\n    !!!ERROR!!!\\n\")\n",
    "            print(e)"
   ]
  },
  {
   "cell_type": "code",
   "execution_count": 3,
   "metadata": {},
   "outputs": [
    {
     "name": "stdout",
     "output_type": "stream",
     "text": [
      "Enter password for user ubuntu········\n"
     ]
    }
   ],
   "source": [
    "sql = MySQLConnection('ubuntu','localhost','classicmodels')"
   ]
  },
  {
   "cell_type": "code",
   "execution_count": 4,
   "metadata": {},
   "outputs": [
    {
     "data": {
      "text/html": [
       "<div>\n",
       "<style scoped>\n",
       "    .dataframe tbody tr th:only-of-type {\n",
       "        vertical-align: middle;\n",
       "    }\n",
       "\n",
       "    .dataframe tbody tr th {\n",
       "        vertical-align: top;\n",
       "    }\n",
       "\n",
       "    .dataframe thead th {\n",
       "        text-align: right;\n",
       "    }\n",
       "</style>\n",
       "<table border=\"1\" class=\"dataframe\">\n",
       "  <thead>\n",
       "    <tr style=\"text-align: right;\">\n",
       "      <th></th>\n",
       "      <th>Tables_in_classicmodels</th>\n",
       "    </tr>\n",
       "  </thead>\n",
       "  <tbody>\n",
       "    <tr>\n",
       "      <td>0</td>\n",
       "      <td>customers</td>\n",
       "    </tr>\n",
       "    <tr>\n",
       "      <td>1</td>\n",
       "      <td>employees</td>\n",
       "    </tr>\n",
       "    <tr>\n",
       "      <td>2</td>\n",
       "      <td>offices</td>\n",
       "    </tr>\n",
       "    <tr>\n",
       "      <td>3</td>\n",
       "      <td>orderdetails</td>\n",
       "    </tr>\n",
       "    <tr>\n",
       "      <td>4</td>\n",
       "      <td>orderdetails_w_income</td>\n",
       "    </tr>\n",
       "    <tr>\n",
       "      <td>5</td>\n",
       "      <td>orders</td>\n",
       "    </tr>\n",
       "    <tr>\n",
       "      <td>6</td>\n",
       "      <td>payments</td>\n",
       "    </tr>\n",
       "    <tr>\n",
       "      <td>7</td>\n",
       "      <td>productlines</td>\n",
       "    </tr>\n",
       "    <tr>\n",
       "      <td>8</td>\n",
       "      <td>products</td>\n",
       "    </tr>\n",
       "    <tr>\n",
       "      <td>9</td>\n",
       "      <td>products_2</td>\n",
       "    </tr>\n",
       "  </tbody>\n",
       "</table>\n",
       "</div>"
      ],
      "text/plain": [
       "  Tables_in_classicmodels\n",
       "0               customers\n",
       "1               employees\n",
       "2                 offices\n",
       "3            orderdetails\n",
       "4   orderdetails_w_income\n",
       "5                  orders\n",
       "6                payments\n",
       "7            productlines\n",
       "8                products\n",
       "9              products_2"
      ]
     },
     "execution_count": 4,
     "metadata": {},
     "output_type": "execute_result"
    }
   ],
   "source": [
    "sql.query(\"show tables\")"
   ]
  },
  {
   "cell_type": "code",
   "execution_count": 6,
   "metadata": {},
   "outputs": [],
   "source": [
    "# Uzdevums:\n",
    "# Uzzīmējiet histogrammu, kurā uz x ass ir pasūtījuma cenas intervāls un uz y ass ir biežums ar pasūtījumiem, \n",
    "# kas iekrīt attiecīgajos intervālos\n",
    "# Ko var secināt no šiem datiem?"
   ]
  },
  {
   "cell_type": "code",
   "execution_count": 40,
   "metadata": {},
   "outputs": [],
   "source": [
    "# Uzdevums:\n",
    "# Ir izveidota tabula products_2, kurā productscale (produkta izmērs mērogā) ir pārvērsts par skaitli. \n",
    "sql.query(\"create temporary table prods as select * from products\")\n",
    "sql.query(\"update prods set productscale = substring(productscale,3)\")\n",
    "sql.query(\"create table products_2 as select *,cast(productscale as unsigned) as productscale_int from prods\")\n",
    "sql.query(\"drop table prods\")\n",
    "# 0) Pārbaudiet vai šī darbība ir izpildīta pareizi, \n",
    "# noliekot blakus sākotnējo productscale un productscale_int kolonnas\n",
    "# 1) Saglabājiet preces cenas python sarakstā X un preces izmērus sarakstā y\n",
    "# 2) Attēlojiet korelāciju scatter grafikā starp preces izmēru un cenu.\n",
    "\n",
    "import matplotlib.pyplot as plt\n"
   ]
  },
  {
   "cell_type": "code",
   "execution_count": null,
   "metadata": {},
   "outputs": [],
   "source": []
  },
  {
   "cell_type": "code",
   "execution_count": 6,
   "metadata": {},
   "outputs": [],
   "source": [
    "from sklearn.linear_model import LinearRegression\n",
    "\n",
    "# Uzdevums:\n",
    "# Izlasiet dokumentāciju par python bibliotēkas sklearn lineārās regresijas moduli.\n",
    "# https://scikit-learn.org/stable/modules/generated/sklearn.linear_model.LinearRegression.html\n",
    "# 1) Veiciet lineāro regresiju\n",
    "# 2) Izprintējiet R^2 parametru\n",
    "# 3) Izprintējiet korelācijas koeficientus"
   ]
  },
  {
   "cell_type": "code",
   "execution_count": 8,
   "metadata": {},
   "outputs": [
    {
     "data": {
      "text/html": [
       "<div>\n",
       "<style scoped>\n",
       "    .dataframe tbody tr th:only-of-type {\n",
       "        vertical-align: middle;\n",
       "    }\n",
       "\n",
       "    .dataframe tbody tr th {\n",
       "        vertical-align: top;\n",
       "    }\n",
       "\n",
       "    .dataframe thead th {\n",
       "        text-align: right;\n",
       "    }\n",
       "</style>\n",
       "<table border=\"1\" class=\"dataframe\">\n",
       "  <thead>\n",
       "    <tr style=\"text-align: right;\">\n",
       "      <th></th>\n",
       "      <th>buyprice</th>\n",
       "    </tr>\n",
       "  </thead>\n",
       "  <tbody>\n",
       "    <tr>\n",
       "      <td>0</td>\n",
       "      <td>103.42</td>\n",
       "    </tr>\n",
       "    <tr>\n",
       "      <td>1</td>\n",
       "      <td>101.51</td>\n",
       "    </tr>\n",
       "    <tr>\n",
       "      <td>2</td>\n",
       "      <td>98.58</td>\n",
       "    </tr>\n",
       "    <tr>\n",
       "      <td>3</td>\n",
       "      <td>98.30</td>\n",
       "    </tr>\n",
       "    <tr>\n",
       "      <td>4</td>\n",
       "      <td>95.59</td>\n",
       "    </tr>\n",
       "    <tr>\n",
       "      <td>...</td>\n",
       "      <td>...</td>\n",
       "    </tr>\n",
       "    <tr>\n",
       "      <td>105</td>\n",
       "      <td>22.57</td>\n",
       "    </tr>\n",
       "    <tr>\n",
       "      <td>106</td>\n",
       "      <td>21.75</td>\n",
       "    </tr>\n",
       "    <tr>\n",
       "      <td>107</td>\n",
       "      <td>20.61</td>\n",
       "    </tr>\n",
       "    <tr>\n",
       "      <td>108</td>\n",
       "      <td>16.24</td>\n",
       "    </tr>\n",
       "    <tr>\n",
       "      <td>109</td>\n",
       "      <td>15.91</td>\n",
       "    </tr>\n",
       "  </tbody>\n",
       "</table>\n",
       "<p>110 rows × 1 columns</p>\n",
       "</div>"
      ],
      "text/plain": [
       "     buyprice\n",
       "0      103.42\n",
       "1      101.51\n",
       "2       98.58\n",
       "3       98.30\n",
       "4       95.59\n",
       "..        ...\n",
       "105     22.57\n",
       "106     21.75\n",
       "107     20.61\n",
       "108     16.24\n",
       "109     15.91\n",
       "\n",
       "[110 rows x 1 columns]"
      ]
     },
     "execution_count": 8,
     "metadata": {},
     "output_type": "execute_result"
    }
   ],
   "source": [
    "# Uzdevums:\n",
    "# Atrodiet 10 preces, kurām būtu jāuzliek atlaide \n",
    "# (10 preces, kurām quantityinstock un kopējā vēsturiskā pārdošanas apjoma attiecība ir vislielākā)"
   ]
  },
  {
   "cell_type": "code",
   "execution_count": null,
   "metadata": {},
   "outputs": [],
   "source": []
  },
  {
   "cell_type": "code",
   "execution_count": null,
   "metadata": {},
   "outputs": [],
   "source": []
  },
  {
   "cell_type": "code",
   "execution_count": null,
   "metadata": {},
   "outputs": [],
   "source": []
  }
 ],
 "metadata": {
  "kernelspec": {
   "display_name": "Python 3",
   "language": "python",
   "name": "python3"
  },
  "language_info": {
   "codemirror_mode": {
    "name": "ipython",
    "version": 3
   },
   "file_extension": ".py",
   "mimetype": "text/x-python",
   "name": "python",
   "nbconvert_exporter": "python",
   "pygments_lexer": "ipython3",
   "version": "3.7.4"
  }
 },
 "nbformat": 4,
 "nbformat_minor": 2
}
