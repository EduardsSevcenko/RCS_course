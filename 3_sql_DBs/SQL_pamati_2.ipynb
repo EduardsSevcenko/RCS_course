{
 "cells": [
  {
   "cell_type": "code",
   "execution_count": null,
   "metadata": {},
   "outputs": [],
   "source": []
  },
  {
   "cell_type": "code",
   "execution_count": null,
   "metadata": {},
   "outputs": [],
   "source": []
  },
  {
   "cell_type": "code",
   "execution_count": 1,
   "metadata": {},
   "outputs": [],
   "source": [
    "import pandas as pd\n",
    "import getpass\n",
    "from sqlalchemy import create_engine\n",
    "from sqlalchemy.exc import ResourceClosedError\n",
    "import MySQLdb\n",
    "check = False"
   ]
  },
  {
   "cell_type": "code",
   "execution_count": null,
   "metadata": {},
   "outputs": [],
   "source": []
  },
  {
   "cell_type": "code",
   "execution_count": 2,
   "metadata": {},
   "outputs": [],
   "source": [
    "class MySQLConnection:\n",
    "    def __init__(self,user,hostname,db):\n",
    "        self.user = str(user)\n",
    "        self.hostname = str(hostname)\n",
    "        self.db = str(db)\n",
    "        pword = getpass.getpass(\"Enter password for user {}\".format(user))\n",
    "        # self.cnx = mysql.connector.connect(host=self.hostname,user=self.user, password=pword,database=self.db)\n",
    "        self.engine = create_engine(\"mysql+mysqlconnector://{}:{}@{}/{}\".format(user,pword,hostname,db))\n",
    "        self.cnx = self.engine.connect()\n",
    "    \n",
    "    def write_to_db(self, df, table_name):\n",
    "        try:\n",
    "            df.to_sql(table_name,con = self.cnx,if_exists='fail',index=False)\n",
    "        except Exception as e:\n",
    "            print(\"\\n SQL Write error with: \")\n",
    "            print(df,\"\\n\", e)\n",
    "    \n",
    "    def query(self,q):\n",
    "        try:\n",
    "            res = pd.read_sql(q,self.cnx)\n",
    "            return res\n",
    "        except ResourceClosedError:\n",
    "            print(\"Query success, nothing was returned\")\n",
    "        "
   ]
  },
  {
   "cell_type": "code",
   "execution_count": 3,
   "metadata": {},
   "outputs": [
    {
     "name": "stdout",
     "output_type": "stream",
     "text": [
      "Enter password for user ubuntu········\n"
     ]
    }
   ],
   "source": [
    "sql = MySQLConnection('ubuntu','localhost','dati')"
   ]
  },
  {
   "cell_type": "code",
   "execution_count": null,
   "metadata": {},
   "outputs": [],
   "source": []
  },
  {
   "cell_type": "markdown",
   "metadata": {},
   "source": []
  },
  {
   "cell_type": "code",
   "execution_count": 4,
   "metadata": {},
   "outputs": [],
   "source": [
    "a_code = pd.read_csv('access-code.csv',';')\n",
    "a_code_pword_rec = pd.read_csv('access-code-password-recovery-code.csv',sep=';')\n",
    "un_pw_rec_code = pd.read_csv('username-password-recovery-code.csv',sep=';')\n",
    "un = pd.read_csv('username.csv',sep=';')\n",
    "email = pd.read_csv('email.csv',sep=';')\n",
    "un_email = pd.read_csv('username-or-email.csv',sep=';')\n",
    "email_pw_rec = pd.read_csv('email-password-recovery-code.csv',sep=';')"
   ]
  },
  {
   "cell_type": "code",
   "execution_count": 5,
   "metadata": {},
   "outputs": [],
   "source": [
    "a_code.columns = ['Identifier', 'Firstname','Lastname']\n",
    "a_code_pword_rec.columns = ['Identifier','Accesscode','Recoverycode','Firstname','Lastname','Department','Location']\n",
    "un_pw_rec_code.columns = ['Username','Identifier','Onetimepassword','Recoverycode','Firstname','Lastname','Department','Location']\n",
    "un.columns = ['Username', 'Identifier', 'Firstname','Lastname']\n",
    "email.columns = ['Loginemail','Identifier', 'Firstname','Lastname']\n",
    "un_email.columns = ['Username','Loginemail','Identifier', 'Firstname','Lastname']\n",
    "email_pw_rec.columns = ['Loginemail','Identifier','Onetimepassword','Recoverycode', 'Firstname','Lastname','Department','Location']"
   ]
  },
  {
   "cell_type": "code",
   "execution_count": 6,
   "metadata": {},
   "outputs": [],
   "source": [
    "sql.write_to_db(email,'email')"
   ]
  },
  {
   "cell_type": "code",
   "execution_count": null,
   "metadata": {},
   "outputs": [],
   "source": [
    "# # ŠĪ ŠŪNA JĀIZPILDA VIENREIZ!\n",
    "\n",
    "# if not check:\n",
    "#     sql.write_to_db(a_code,'access_code')\n",
    "#     sql.write_to_db(a_code_pword_rec,'access_code_password_recovery_code')\n",
    "#     sql.write_to_db(un_pw_rec_code,'username_password_recovery_code')\n",
    "#     sql.write_to_db(un,'username')\n",
    "#     sql.write_to_db(email,'email')\n",
    "#     sql.write_to_db(un_email,'username_or_email')\n",
    "#     sql.write_to_db(email_pw_rec,'email_password_recovery_code')\n",
    "#     check = True"
   ]
  },
  {
   "cell_type": "markdown",
   "metadata": {},
   "source": [
    "# INSERT INTO    \n",
    "INSERT INTO komnada ir paredzēta rindiņu ierakstīšanai tabulā. Insert ir divi paveidi.  \n",
    "INSERT INTO \\< tabulas nosauk \\> VALUES ( \\< vērtības sarakstītas atbilstoši kolonnu secībai \\> )  \n",
    "INSERT INTO \\< tabulas nosauk \\> \\< select apgalvojums, kurš atgriež kolonnas secībai, kas atbilsti tabulai, kurā tiek veikts ieraksts \\>"
   ]
  },
  {
   "cell_type": "code",
   "execution_count": 8,
   "metadata": {},
   "outputs": [
    {
     "data": {
      "text/html": [
       "<div>\n",
       "<style scoped>\n",
       "    .dataframe tbody tr th:only-of-type {\n",
       "        vertical-align: middle;\n",
       "    }\n",
       "\n",
       "    .dataframe tbody tr th {\n",
       "        vertical-align: top;\n",
       "    }\n",
       "\n",
       "    .dataframe thead th {\n",
       "        text-align: right;\n",
       "    }\n",
       "</style>\n",
       "<table border=\"1\" class=\"dataframe\">\n",
       "  <thead>\n",
       "    <tr style=\"text-align: right;\">\n",
       "      <th></th>\n",
       "      <th>Loginemail</th>\n",
       "      <th>Identifier</th>\n",
       "      <th>Firstname</th>\n",
       "      <th>Lastname</th>\n",
       "    </tr>\n",
       "  </thead>\n",
       "  <tbody>\n",
       "    <tr>\n",
       "      <td>0</td>\n",
       "      <td>laura@example.com</td>\n",
       "      <td>2070</td>\n",
       "      <td>Laura</td>\n",
       "      <td>Grey</td>\n",
       "    </tr>\n",
       "    <tr>\n",
       "      <td>1</td>\n",
       "      <td>craig@example.com</td>\n",
       "      <td>4081</td>\n",
       "      <td>Craig</td>\n",
       "      <td>Johnson</td>\n",
       "    </tr>\n",
       "    <tr>\n",
       "      <td>2</td>\n",
       "      <td>mary@example.com</td>\n",
       "      <td>9346</td>\n",
       "      <td>Mary</td>\n",
       "      <td>Jenkins</td>\n",
       "    </tr>\n",
       "    <tr>\n",
       "      <td>3</td>\n",
       "      <td>jamie@example.com</td>\n",
       "      <td>5079</td>\n",
       "      <td>Jamie</td>\n",
       "      <td>Smith</td>\n",
       "    </tr>\n",
       "  </tbody>\n",
       "</table>\n",
       "</div>"
      ],
      "text/plain": [
       "          Loginemail  Identifier Firstname Lastname\n",
       "0  laura@example.com        2070     Laura     Grey\n",
       "1  craig@example.com        4081     Craig  Johnson\n",
       "2   mary@example.com        9346      Mary  Jenkins\n",
       "3  jamie@example.com        5079     Jamie    Smith"
      ]
     },
     "execution_count": 8,
     "metadata": {},
     "output_type": "execute_result"
    }
   ],
   "source": [
    "# Insert into values piemērs:\n",
    "sql.query(\"select * from email\") #Paskatamies, kas atrodās tabulā email"
   ]
  },
  {
   "cell_type": "code",
   "execution_count": 8,
   "metadata": {},
   "outputs": [
    {
     "name": "stdout",
     "output_type": "stream",
     "text": [
      "Query success, nothing was returned\n"
     ]
    }
   ],
   "source": [
    "# Pirms kaut ko ievadam tabulā, izveidojam tabulas email dublējumu\n",
    "\n",
    "# Uzdevums: Izveidot tabulu email_cp, kura ir identiska tabulai email\n",
    "sql.query()"
   ]
  },
  {
   "cell_type": "code",
   "execution_count": null,
   "metadata": {},
   "outputs": [],
   "source": []
  },
  {
   "cell_type": "code",
   "execution_count": 9,
   "metadata": {},
   "outputs": [
    {
     "data": {
      "text/html": [
       "<div>\n",
       "<style scoped>\n",
       "    .dataframe tbody tr th:only-of-type {\n",
       "        vertical-align: middle;\n",
       "    }\n",
       "\n",
       "    .dataframe tbody tr th {\n",
       "        vertical-align: top;\n",
       "    }\n",
       "\n",
       "    .dataframe thead th {\n",
       "        text-align: right;\n",
       "    }\n",
       "</style>\n",
       "<table border=\"1\" class=\"dataframe\">\n",
       "  <thead>\n",
       "    <tr style=\"text-align: right;\">\n",
       "      <th></th>\n",
       "      <th>Loginemail</th>\n",
       "      <th>Identifier</th>\n",
       "      <th>Firstname</th>\n",
       "      <th>Lastname</th>\n",
       "    </tr>\n",
       "  </thead>\n",
       "  <tbody>\n",
       "    <tr>\n",
       "      <td>0</td>\n",
       "      <td>laura@example.com</td>\n",
       "      <td>2070</td>\n",
       "      <td>Laura</td>\n",
       "      <td>Grey</td>\n",
       "    </tr>\n",
       "    <tr>\n",
       "      <td>1</td>\n",
       "      <td>craig@example.com</td>\n",
       "      <td>4081</td>\n",
       "      <td>Craig</td>\n",
       "      <td>Johnson</td>\n",
       "    </tr>\n",
       "    <tr>\n",
       "      <td>2</td>\n",
       "      <td>mary@example.com</td>\n",
       "      <td>9346</td>\n",
       "      <td>Mary</td>\n",
       "      <td>Jenkins</td>\n",
       "    </tr>\n",
       "    <tr>\n",
       "      <td>3</td>\n",
       "      <td>jamie@example.com</td>\n",
       "      <td>5079</td>\n",
       "      <td>Jamie</td>\n",
       "      <td>Smith</td>\n",
       "    </tr>\n",
       "  </tbody>\n",
       "</table>\n",
       "</div>"
      ],
      "text/plain": [
       "          Loginemail  Identifier Firstname Lastname\n",
       "0  laura@example.com        2070     Laura     Grey\n",
       "1  craig@example.com        4081     Craig  Johnson\n",
       "2   mary@example.com        9346      Mary  Jenkins\n",
       "3  jamie@example.com        5079     Jamie    Smith"
      ]
     },
     "execution_count": 9,
     "metadata": {},
     "output_type": "execute_result"
    }
   ],
   "source": [
    "# Pirms ejam tālāk, pārliecinamies, ka tabula email tiešām ir duplicēta\n",
    "sql.query(\"select * from email_cp\")"
   ]
  },
  {
   "cell_type": "code",
   "execution_count": null,
   "metadata": {},
   "outputs": [],
   "source": [
    "insert_q = \"\"\"\n",
    "insert into table email values(vards.uzvards@example.com, 5678, vards, uzvards)\n",
    "\"\"\"\n",
    "\n",
    "# Vai šis nostrādās? Ko mēs sagaidītu rezultātā?\n",
    "\n",
    "# sql.query(insert_q)"
   ]
  },
  {
   "cell_type": "code",
   "execution_count": 10,
   "metadata": {},
   "outputs": [
    {
     "data": {
      "text/html": [
       "<div>\n",
       "<style scoped>\n",
       "    .dataframe tbody tr th:only-of-type {\n",
       "        vertical-align: middle;\n",
       "    }\n",
       "\n",
       "    .dataframe tbody tr th {\n",
       "        vertical-align: top;\n",
       "    }\n",
       "\n",
       "    .dataframe thead th {\n",
       "        text-align: right;\n",
       "    }\n",
       "</style>\n",
       "<table border=\"1\" class=\"dataframe\">\n",
       "  <thead>\n",
       "    <tr style=\"text-align: right;\">\n",
       "      <th></th>\n",
       "      <th>Username</th>\n",
       "      <th>Loginemail</th>\n",
       "      <th>Identifier</th>\n",
       "      <th>Firstname</th>\n",
       "      <th>Lastname</th>\n",
       "    </tr>\n",
       "  </thead>\n",
       "  <tbody>\n",
       "    <tr>\n",
       "      <td>0</td>\n",
       "      <td>booker12</td>\n",
       "      <td>rachel@example.com</td>\n",
       "      <td>9012</td>\n",
       "      <td>Rachel</td>\n",
       "      <td>Booker</td>\n",
       "    </tr>\n",
       "    <tr>\n",
       "      <td>1</td>\n",
       "      <td>grey07</td>\n",
       "      <td>None</td>\n",
       "      <td>2070</td>\n",
       "      <td>Laura</td>\n",
       "      <td>Grey</td>\n",
       "    </tr>\n",
       "    <tr>\n",
       "      <td>2</td>\n",
       "      <td>johnson81</td>\n",
       "      <td>None</td>\n",
       "      <td>4081</td>\n",
       "      <td>Craig</td>\n",
       "      <td>Johnson</td>\n",
       "    </tr>\n",
       "    <tr>\n",
       "      <td>3</td>\n",
       "      <td>jenkins46</td>\n",
       "      <td>mary@example.com</td>\n",
       "      <td>9346</td>\n",
       "      <td>Mary</td>\n",
       "      <td>Jenkins</td>\n",
       "    </tr>\n",
       "    <tr>\n",
       "      <td>4</td>\n",
       "      <td>smith79</td>\n",
       "      <td>jamie@example.com</td>\n",
       "      <td>5079</td>\n",
       "      <td>Jamie</td>\n",
       "      <td>Smith</td>\n",
       "    </tr>\n",
       "  </tbody>\n",
       "</table>\n",
       "</div>"
      ],
      "text/plain": [
       "    Username          Loginemail  Identifier Firstname Lastname\n",
       "0   booker12  rachel@example.com        9012    Rachel   Booker\n",
       "1     grey07                None        2070     Laura     Grey\n",
       "2  johnson81                None        4081     Craig  Johnson\n",
       "3  jenkins46    mary@example.com        9346      Mary  Jenkins\n",
       "4    smith79   jamie@example.com        5079     Jamie    Smith"
      ]
     },
     "execution_count": 10,
     "metadata": {},
     "output_type": "execute_result"
    }
   ],
   "source": [
    "# Insert into select piemērs:\n",
    "# Pieņemsim, ka vēlamies papildināt email tabulu ar ierakstiem no tabulas username_or_email. No sākuma to apskatīsim.\n",
    "sql.query(\"select * from username_or_email\")"
   ]
  },
  {
   "cell_type": "code",
   "execution_count": 11,
   "metadata": {},
   "outputs": [],
   "source": [
    "insert_select_q = \"\"\" \n",
    "insert into email \n",
    "select \n",
    "    loginemail,\n",
    "    identifier, \n",
    "    firstname, \n",
    "    lastname \n",
    "from  \n",
    "    username_or_email\n",
    "where \n",
    "    loginemail is not NULL\n",
    "\"\"\"\n",
    "\n",
    "# Divas lietas, ko šeit ievērot:\n",
    "\n",
    "# 1. Šeit tikai lietots WHERE filtrs. Vai ir kāds arguments, lai to nelietotu šajā gadījumā? Un vispārīgākā?\n",
    "\n",
    "# 2. Lai gan pandas DataFrame mums trūkstošās vērtības apraksta kā 'None', SQL pareizā sintakse ir NULL\n",
    "# tāpēc \n"
   ]
  },
  {
   "cell_type": "code",
   "execution_count": 12,
   "metadata": {},
   "outputs": [
    {
     "name": "stdout",
     "output_type": "stream",
     "text": [
      "Query success, nothing was returned\n"
     ]
    }
   ],
   "source": [
    "sql.query(insert_select_q)"
   ]
  },
  {
   "cell_type": "code",
   "execution_count": 13,
   "metadata": {},
   "outputs": [
    {
     "data": {
      "text/html": [
       "<div>\n",
       "<style scoped>\n",
       "    .dataframe tbody tr th:only-of-type {\n",
       "        vertical-align: middle;\n",
       "    }\n",
       "\n",
       "    .dataframe tbody tr th {\n",
       "        vertical-align: top;\n",
       "    }\n",
       "\n",
       "    .dataframe thead th {\n",
       "        text-align: right;\n",
       "    }\n",
       "</style>\n",
       "<table border=\"1\" class=\"dataframe\">\n",
       "  <thead>\n",
       "    <tr style=\"text-align: right;\">\n",
       "      <th></th>\n",
       "      <th>Loginemail</th>\n",
       "      <th>Identifier</th>\n",
       "      <th>Firstname</th>\n",
       "      <th>Lastname</th>\n",
       "    </tr>\n",
       "  </thead>\n",
       "  <tbody>\n",
       "    <tr>\n",
       "      <td>0</td>\n",
       "      <td>laura@example.com</td>\n",
       "      <td>2070</td>\n",
       "      <td>Laura</td>\n",
       "      <td>Grey</td>\n",
       "    </tr>\n",
       "    <tr>\n",
       "      <td>1</td>\n",
       "      <td>craig@example.com</td>\n",
       "      <td>4081</td>\n",
       "      <td>Craig</td>\n",
       "      <td>Johnson</td>\n",
       "    </tr>\n",
       "    <tr>\n",
       "      <td>2</td>\n",
       "      <td>mary@example.com</td>\n",
       "      <td>9346</td>\n",
       "      <td>Mary</td>\n",
       "      <td>Jenkins</td>\n",
       "    </tr>\n",
       "    <tr>\n",
       "      <td>3</td>\n",
       "      <td>jamie@example.com</td>\n",
       "      <td>5079</td>\n",
       "      <td>Jamie</td>\n",
       "      <td>Smith</td>\n",
       "    </tr>\n",
       "    <tr>\n",
       "      <td>4</td>\n",
       "      <td>rachel@example.com</td>\n",
       "      <td>9012</td>\n",
       "      <td>Rachel</td>\n",
       "      <td>Booker</td>\n",
       "    </tr>\n",
       "    <tr>\n",
       "      <td>5</td>\n",
       "      <td>mary@example.com</td>\n",
       "      <td>9346</td>\n",
       "      <td>Mary</td>\n",
       "      <td>Jenkins</td>\n",
       "    </tr>\n",
       "    <tr>\n",
       "      <td>6</td>\n",
       "      <td>jamie@example.com</td>\n",
       "      <td>5079</td>\n",
       "      <td>Jamie</td>\n",
       "      <td>Smith</td>\n",
       "    </tr>\n",
       "  </tbody>\n",
       "</table>\n",
       "</div>"
      ],
      "text/plain": [
       "           Loginemail  Identifier Firstname Lastname\n",
       "0   laura@example.com        2070     Laura     Grey\n",
       "1   craig@example.com        4081     Craig  Johnson\n",
       "2    mary@example.com        9346      Mary  Jenkins\n",
       "3   jamie@example.com        5079     Jamie    Smith\n",
       "4  rachel@example.com        9012    Rachel   Booker\n",
       "5    mary@example.com        9346      Mary  Jenkins\n",
       "6   jamie@example.com        5079     Jamie    Smith"
      ]
     },
     "execution_count": 13,
     "metadata": {},
     "output_type": "execute_result"
    }
   ],
   "source": [
    "# Apskatīsim kā tabula email izskatās tagad\n",
    "sql.query(\"select * from email\")"
   ]
  },
  {
   "cell_type": "code",
   "execution_count": 16,
   "metadata": {},
   "outputs": [
    {
     "name": "stdout",
     "output_type": "stream",
     "text": [
      "Query success, nothing was returned\n",
      "Query success, nothing was returned\n",
      "Query success, nothing was returned\n"
     ]
    }
   ],
   "source": [
    "# Mums tabulā ir izveidojušās duplikātrindas. Vienam indeksam vairs neatbilst tikai viens ieraksts. \n",
    "# Šo situāciju var labot sekojoši:\n",
    "\n",
    "sql.query(\"create table email_table as select distinct * from email\") # Uztaisam tabulu tikai ar unikālajiem ierakstiem no tabulas email\n",
    "sql.query(\"drop table email\") # Izdzēšam email tabulu\n",
    "sql.query(\"rename table email_table to email\") # pārsaucam unikālo email iekrastu tabulu par email"
   ]
  },
  {
   "cell_type": "markdown",
   "metadata": {},
   "source": [
    "# DELETE, ALTER TABLE un DROP funkcijas  \n",
    "DELETE vispārīgā gadījumā ir paredzēts, lai bāzējoties uz kritēriju dzēstu rindiņas izvēlētā tabulā.  \n",
    "DROP vispārīgā gadījumā tiek lietots, lai izdzēstu izvēlēto tabulu, kolonnu vai datubāzi  \n"
   ]
  },
  {
   "cell_type": "code",
   "execution_count": 21,
   "metadata": {},
   "outputs": [
    {
     "name": "stdout",
     "output_type": "stream",
     "text": [
      "Query success, nothing was returned\n"
     ]
    }
   ],
   "source": [
    "# Ievietosim tabulā username jaunu lietotāju, ko pēc tam izdzēsīsim:\n",
    "sql.query(\"insert into username values('arthur90', 3971, 'Arthur','Cohen')\")"
   ]
  },
  {
   "cell_type": "code",
   "execution_count": 22,
   "metadata": {},
   "outputs": [
    {
     "data": {
      "text/html": [
       "<div>\n",
       "<style scoped>\n",
       "    .dataframe tbody tr th:only-of-type {\n",
       "        vertical-align: middle;\n",
       "    }\n",
       "\n",
       "    .dataframe tbody tr th {\n",
       "        vertical-align: top;\n",
       "    }\n",
       "\n",
       "    .dataframe thead th {\n",
       "        text-align: right;\n",
       "    }\n",
       "</style>\n",
       "<table border=\"1\" class=\"dataframe\">\n",
       "  <thead>\n",
       "    <tr style=\"text-align: right;\">\n",
       "      <th></th>\n",
       "      <th>Username</th>\n",
       "      <th>Identifier</th>\n",
       "      <th>Firstname</th>\n",
       "      <th>Lastname</th>\n",
       "    </tr>\n",
       "  </thead>\n",
       "  <tbody>\n",
       "    <tr>\n",
       "      <td>0</td>\n",
       "      <td>booker12</td>\n",
       "      <td>9012</td>\n",
       "      <td>Rachel</td>\n",
       "      <td>Booker</td>\n",
       "    </tr>\n",
       "    <tr>\n",
       "      <td>1</td>\n",
       "      <td>grey07</td>\n",
       "      <td>2070</td>\n",
       "      <td>Laura</td>\n",
       "      <td>Grey</td>\n",
       "    </tr>\n",
       "    <tr>\n",
       "      <td>2</td>\n",
       "      <td>johnson81</td>\n",
       "      <td>4081</td>\n",
       "      <td>Craig</td>\n",
       "      <td>Johnson</td>\n",
       "    </tr>\n",
       "    <tr>\n",
       "      <td>3</td>\n",
       "      <td>jenkins46</td>\n",
       "      <td>9346</td>\n",
       "      <td>Mary</td>\n",
       "      <td>Jenkins</td>\n",
       "    </tr>\n",
       "    <tr>\n",
       "      <td>4</td>\n",
       "      <td>smith79</td>\n",
       "      <td>5079</td>\n",
       "      <td>Jamie</td>\n",
       "      <td>Smith</td>\n",
       "    </tr>\n",
       "    <tr>\n",
       "      <td>5</td>\n",
       "      <td>arthur90</td>\n",
       "      <td>3971</td>\n",
       "      <td>Arthur</td>\n",
       "      <td>Cohen</td>\n",
       "    </tr>\n",
       "  </tbody>\n",
       "</table>\n",
       "</div>"
      ],
      "text/plain": [
       "    Username  Identifier Firstname Lastname\n",
       "0   booker12        9012    Rachel   Booker\n",
       "1     grey07        2070     Laura     Grey\n",
       "2  johnson81        4081     Craig  Johnson\n",
       "3  jenkins46        9346      Mary  Jenkins\n",
       "4    smith79        5079     Jamie    Smith\n",
       "5   arthur90        3971    Arthur    Cohen"
      ]
     },
     "execution_count": 22,
     "metadata": {},
     "output_type": "execute_result"
    }
   ],
   "source": [
    "sql.query(\"select * from username\") # Apskatīsim username tabulu"
   ]
  },
  {
   "cell_type": "code",
   "execution_count": 23,
   "metadata": {},
   "outputs": [
    {
     "name": "stdout",
     "output_type": "stream",
     "text": [
      "Query success, nothing was returned\n"
     ]
    }
   ],
   "source": [
    "# Tagad izdzēsīsim tabulas username ierakstu\n",
    "sql.query(\"delete from username where Identifier=3971\")"
   ]
  },
  {
   "cell_type": "code",
   "execution_count": 24,
   "metadata": {},
   "outputs": [
    {
     "data": {
      "text/html": [
       "<div>\n",
       "<style scoped>\n",
       "    .dataframe tbody tr th:only-of-type {\n",
       "        vertical-align: middle;\n",
       "    }\n",
       "\n",
       "    .dataframe tbody tr th {\n",
       "        vertical-align: top;\n",
       "    }\n",
       "\n",
       "    .dataframe thead th {\n",
       "        text-align: right;\n",
       "    }\n",
       "</style>\n",
       "<table border=\"1\" class=\"dataframe\">\n",
       "  <thead>\n",
       "    <tr style=\"text-align: right;\">\n",
       "      <th></th>\n",
       "      <th>Username</th>\n",
       "      <th>Identifier</th>\n",
       "      <th>Firstname</th>\n",
       "      <th>Lastname</th>\n",
       "    </tr>\n",
       "  </thead>\n",
       "  <tbody>\n",
       "    <tr>\n",
       "      <td>0</td>\n",
       "      <td>booker12</td>\n",
       "      <td>9012</td>\n",
       "      <td>Rachel</td>\n",
       "      <td>Booker</td>\n",
       "    </tr>\n",
       "    <tr>\n",
       "      <td>1</td>\n",
       "      <td>grey07</td>\n",
       "      <td>2070</td>\n",
       "      <td>Laura</td>\n",
       "      <td>Grey</td>\n",
       "    </tr>\n",
       "    <tr>\n",
       "      <td>2</td>\n",
       "      <td>johnson81</td>\n",
       "      <td>4081</td>\n",
       "      <td>Craig</td>\n",
       "      <td>Johnson</td>\n",
       "    </tr>\n",
       "    <tr>\n",
       "      <td>3</td>\n",
       "      <td>jenkins46</td>\n",
       "      <td>9346</td>\n",
       "      <td>Mary</td>\n",
       "      <td>Jenkins</td>\n",
       "    </tr>\n",
       "    <tr>\n",
       "      <td>4</td>\n",
       "      <td>smith79</td>\n",
       "      <td>5079</td>\n",
       "      <td>Jamie</td>\n",
       "      <td>Smith</td>\n",
       "    </tr>\n",
       "  </tbody>\n",
       "</table>\n",
       "</div>"
      ],
      "text/plain": [
       "    Username  Identifier Firstname Lastname\n",
       "0   booker12        9012    Rachel   Booker\n",
       "1     grey07        2070     Laura     Grey\n",
       "2  johnson81        4081     Craig  Johnson\n",
       "3  jenkins46        9346      Mary  Jenkins\n",
       "4    smith79        5079     Jamie    Smith"
      ]
     },
     "execution_count": 24,
     "metadata": {},
     "output_type": "execute_result"
    }
   ],
   "source": [
    "# Apskatīsimies vai ieraksts tiešām ir pazudis:\n",
    "sql.query(\"select * from username\")"
   ]
  },
  {
   "cell_type": "code",
   "execution_count": null,
   "metadata": {},
   "outputs": [],
   "source": [
    "# Uzdevums:\n",
    "# Craig Johnson ir piešķirts jauns lietotājvārds. skat. nākamo rindiņu.\n",
    "sql.query(\"insert into username values('cjohnson', 4081, 'Craig','Johnson')\")\n",
    "# Izdzēsiet vecā lietotājvārda ierakstu"
   ]
  },
  {
   "cell_type": "code",
   "execution_count": null,
   "metadata": {},
   "outputs": [],
   "source": [
    "# Jautājums:\n",
    "# Vai delete where būtu lietojams, lai atbrīvotos no duplikātiem?"
   ]
  },
  {
   "cell_type": "markdown",
   "metadata": {},
   "source": [
    "DELETE tika lietots, lai dzēstu rindas, bet neietekmēja datubāzes shēmu (datubāzu, tabulu un kolonnu nosaukumus un tipus). Tipiski visa informācija tabulās tiek glabāta nevis kolonnās, bet rindās. Rindas ir dinamiskas, bet shēma paliek nemainīga (statiska).  \n",
    "\n",
    "Tomēr, lai gan shēmu nav paredzēts dinamiski mainīt, to ir iespējams darīt ar DROP.\n",
    "DROP funkcija var dzēst datubāzes, tabulas un tabulu kolonnas.  \n",
    "DROP funkciju pirms tam esam lietojuši, lai dzēstu datubāzes un tabulas, bet to var lietot, lai dzēstu arī kolonnas."
   ]
  },
  {
   "cell_type": "code",
   "execution_count": null,
   "metadata": {},
   "outputs": [],
   "source": [
    "# Uzdevums:\n",
    "# 1.Izveidojiet tabulu tests, kurā ir 3 kolonnas: \n",
    "# a - integer tipa kolonna, b - text tipa kolonna, c - mainīgu simbolu (20) virkne\n",
    "\n",
    "# 2. Ievietojiet šajā tabulā trīs rindiņas ar patvaļīgiem datiem."
   ]
  },
  {
   "cell_type": "code",
   "execution_count": null,
   "metadata": {},
   "outputs": [],
   "source": []
  },
  {
   "cell_type": "markdown",
   "metadata": {},
   "source": [
    "Ja mēs gribētu no šīs tabulas izdzēst kolonnu, to varētu darīt līdzīgi, kā likvidējām duplikātus.  \n",
    "1. Izveidojam tabulas kopiju, kurā nav nevēlamās kolonnas\n",
    "2. DROP sākotnējo tabulu\n",
    "3. Pārsaucam kopiju sākotnējās tabulas vārdā\n",
    "\n",
    "Savādāk, varam izmantot DROP komandu, ievietojot to zem ALTER TABLE.  "
   ]
  },
  {
   "cell_type": "code",
   "execution_count": 28,
   "metadata": {},
   "outputs": [],
   "source": [
    "sql.query(\"alter table tests drop column a\")"
   ]
  },
  {
   "cell_type": "code",
   "execution_count": 27,
   "metadata": {},
   "outputs": [],
   "source": [
    "sql.query(\"select * from tests\") #Tagad apskatīsim kā tabula izskatās tagad"
   ]
  },
  {
   "cell_type": "markdown",
   "metadata": {},
   "source": [
    "# UPDATE funkcija  \n",
    "UPDATE strādā ļoti līdzīgi kā DELETE. Rindās, kuras atbilst kritērijam, norādīto kolonnu vērtības tiek nomainītas uz citām."
   ]
  },
  {
   "cell_type": "code",
   "execution_count": 36,
   "metadata": {},
   "outputs": [
    {
     "data": {
      "text/html": [
       "<div>\n",
       "<style scoped>\n",
       "    .dataframe tbody tr th:only-of-type {\n",
       "        vertical-align: middle;\n",
       "    }\n",
       "\n",
       "    .dataframe tbody tr th {\n",
       "        vertical-align: top;\n",
       "    }\n",
       "\n",
       "    .dataframe thead th {\n",
       "        text-align: right;\n",
       "    }\n",
       "</style>\n",
       "<table border=\"1\" class=\"dataframe\">\n",
       "  <thead>\n",
       "    <tr style=\"text-align: right;\">\n",
       "      <th></th>\n",
       "      <th>Username</th>\n",
       "      <th>Loginemail</th>\n",
       "      <th>Identifier</th>\n",
       "      <th>Firstname</th>\n",
       "      <th>Lastname</th>\n",
       "    </tr>\n",
       "  </thead>\n",
       "  <tbody>\n",
       "    <tr>\n",
       "      <td>0</td>\n",
       "      <td>booker12</td>\n",
       "      <td>rachel@example.com</td>\n",
       "      <td>9012</td>\n",
       "      <td>Rachel</td>\n",
       "      <td>Booker</td>\n",
       "    </tr>\n",
       "    <tr>\n",
       "      <td>1</td>\n",
       "      <td>grey07</td>\n",
       "      <td>Nenoradits</td>\n",
       "      <td>2070</td>\n",
       "      <td>Laura</td>\n",
       "      <td>Grey</td>\n",
       "    </tr>\n",
       "    <tr>\n",
       "      <td>2</td>\n",
       "      <td>johnson81</td>\n",
       "      <td>Nenoradits</td>\n",
       "      <td>4081</td>\n",
       "      <td>Craig</td>\n",
       "      <td>Johnson</td>\n",
       "    </tr>\n",
       "    <tr>\n",
       "      <td>3</td>\n",
       "      <td>jenkins46</td>\n",
       "      <td>mary@example.com</td>\n",
       "      <td>9346</td>\n",
       "      <td>Mary</td>\n",
       "      <td>Jenkins</td>\n",
       "    </tr>\n",
       "    <tr>\n",
       "      <td>4</td>\n",
       "      <td>smith79</td>\n",
       "      <td>jamie@example.com</td>\n",
       "      <td>5079</td>\n",
       "      <td>Jamie</td>\n",
       "      <td>Smith</td>\n",
       "    </tr>\n",
       "  </tbody>\n",
       "</table>\n",
       "</div>"
      ],
      "text/plain": [
       "    Username          Loginemail  Identifier Firstname Lastname\n",
       "0   booker12  rachel@example.com        9012    Rachel   Booker\n",
       "1     grey07          Nenoradits        2070     Laura     Grey\n",
       "2  johnson81          Nenoradits        4081     Craig  Johnson\n",
       "3  jenkins46    mary@example.com        9346      Mary  Jenkins\n",
       "4    smith79   jamie@example.com        5079     Jamie    Smith"
      ]
     },
     "execution_count": 36,
     "metadata": {},
     "output_type": "execute_result"
    }
   ],
   "source": [
    "# Veiksim šo darbību ar username_or_email tabulu.\n",
    "sql.query(\"select * from username_or_email\")"
   ]
  },
  {
   "cell_type": "code",
   "execution_count": 35,
   "metadata": {},
   "outputs": [
    {
     "name": "stdout",
     "output_type": "stream",
     "text": [
      "Query success, nothing was returned\n"
     ]
    }
   ],
   "source": [
    "sql.query(\"update username_or_email set loginemail = 'Nenoradits' where loginemail is NULL\")\n",
    "\n",
    "# Jautājums: \n",
    "# Kāda priekšrocība varētu būt paredzēto NULL vērtību iestādīšanai uz kādu specifisku vērtību?"
   ]
  },
  {
   "cell_type": "markdown",
   "metadata": {},
   "source": [
    "# Aliasi  \n",
    "SELECT statementā ir iespējams pārsaukt kolonnas vai tabulas. Praktiski tas bieži tiek lietots JOIN statementos, tabulu vietā lietojot citu SELECT rezultātus un ar COUNT/SUM/AVG/MAX/MIN funkciju rezultātu pārsaukšanu.  \n",
    "Aliasam piesaistītais atslēgvārds ir AS  "
   ]
  },
  {
   "cell_type": "code",
   "execution_count": 32,
   "metadata": {},
   "outputs": [
    {
     "data": {
      "text/html": [
       "<div>\n",
       "<style scoped>\n",
       "    .dataframe tbody tr th:only-of-type {\n",
       "        vertical-align: middle;\n",
       "    }\n",
       "\n",
       "    .dataframe tbody tr th {\n",
       "        vertical-align: top;\n",
       "    }\n",
       "\n",
       "    .dataframe thead th {\n",
       "        text-align: right;\n",
       "    }\n",
       "</style>\n",
       "<table border=\"1\" class=\"dataframe\">\n",
       "  <thead>\n",
       "    <tr style=\"text-align: right;\">\n",
       "      <th></th>\n",
       "      <th>id</th>\n",
       "      <th>lc</th>\n",
       "      <th>dp</th>\n",
       "    </tr>\n",
       "  </thead>\n",
       "  <tbody>\n",
       "    <tr>\n",
       "      <td>0</td>\n",
       "      <td>9012</td>\n",
       "      <td>Manchester</td>\n",
       "      <td>Sales</td>\n",
       "    </tr>\n",
       "    <tr>\n",
       "      <td>1</td>\n",
       "      <td>2070</td>\n",
       "      <td>London</td>\n",
       "      <td>Depot</td>\n",
       "    </tr>\n",
       "    <tr>\n",
       "      <td>2</td>\n",
       "      <td>4081</td>\n",
       "      <td>London</td>\n",
       "      <td>Depot</td>\n",
       "    </tr>\n",
       "    <tr>\n",
       "      <td>3</td>\n",
       "      <td>9346</td>\n",
       "      <td>Manchester</td>\n",
       "      <td>Engineering</td>\n",
       "    </tr>\n",
       "    <tr>\n",
       "      <td>4</td>\n",
       "      <td>5079</td>\n",
       "      <td>Manchester</td>\n",
       "      <td>Engineering</td>\n",
       "    </tr>\n",
       "  </tbody>\n",
       "</table>\n",
       "</div>"
      ],
      "text/plain": [
       "     id          lc           dp\n",
       "0  9012  Manchester        Sales\n",
       "1  2070      London        Depot\n",
       "2  4081      London        Depot\n",
       "3  9346  Manchester  Engineering\n",
       "4  5079  Manchester  Engineering"
      ]
     },
     "execution_count": 32,
     "metadata": {},
     "output_type": "execute_result"
    }
   ],
   "source": [
    "# Piemērs:\n",
    "# Mēs vēlamies SELECT outputā pārsaukt kolonnas, \n",
    "# lai pēc tam ar JOIN funkciju būtu viegli un pārskatāmi uz tām atsaukties\n",
    "\n",
    "alias_q_example = \"\"\"\n",
    "select \n",
    "    Identifier as id,\n",
    "    location as lc,\n",
    "    department as dp\n",
    "from\n",
    "    username_password_recovery_code\n",
    "\"\"\"\n",
    "\n",
    "sql.query(alias_q_example)"
   ]
  },
  {
   "cell_type": "code",
   "execution_count": 38,
   "metadata": {},
   "outputs": [
    {
     "data": {
      "text/html": [
       "<div>\n",
       "<style scoped>\n",
       "    .dataframe tbody tr th:only-of-type {\n",
       "        vertical-align: middle;\n",
       "    }\n",
       "\n",
       "    .dataframe tbody tr th {\n",
       "        vertical-align: top;\n",
       "    }\n",
       "\n",
       "    .dataframe thead th {\n",
       "        text-align: right;\n",
       "    }\n",
       "</style>\n",
       "<table border=\"1\" class=\"dataframe\">\n",
       "  <thead>\n",
       "    <tr style=\"text-align: right;\">\n",
       "      <th></th>\n",
       "      <th>MN_employee_count</th>\n",
       "    </tr>\n",
       "  </thead>\n",
       "  <tbody>\n",
       "    <tr>\n",
       "      <td>0</td>\n",
       "      <td>3</td>\n",
       "    </tr>\n",
       "  </tbody>\n",
       "</table>\n",
       "</div>"
      ],
      "text/plain": [
       "   MN_employee_count\n",
       "0                  3"
      ]
     },
     "execution_count": 38,
     "metadata": {},
     "output_type": "execute_result"
    }
   ],
   "source": [
    "# Piemērs:\n",
    "# Pieņemsim mums priekš kopsavilkuma reportā ir jāsaskaita cik mums ir darbinieku Mančesterā.\n",
    "sql.query(\"select count(*) as MN_employee_count from username_password_recovery_code where location = 'Manchester'\")"
   ]
  },
  {
   "cell_type": "markdown",
   "metadata": {},
   "source": [
    "# Detalizētāka JOIN funkcijas apskate  \n"
   ]
  },
  {
   "cell_type": "code",
   "execution_count": null,
   "metadata": {},
   "outputs": [],
   "source": []
  }
 ],
 "metadata": {
  "kernelspec": {
   "display_name": "Python 3",
   "language": "python",
   "name": "python3"
  },
  "language_info": {
   "codemirror_mode": {
    "name": "ipython",
    "version": 3
   },
   "file_extension": ".py",
   "mimetype": "text/x-python",
   "name": "python",
   "nbconvert_exporter": "python",
   "pygments_lexer": "ipython3",
   "version": "3.7.4"
  }
 },
 "nbformat": 4,
 "nbformat_minor": 2
}
