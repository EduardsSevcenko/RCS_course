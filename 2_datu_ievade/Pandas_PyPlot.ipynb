{
 "cells": [
  {
   "cell_type": "code",
   "execution_count": null,
   "metadata": {},
   "outputs": [],
   "source": [
    "import pandas as pd\n",
    "import numpy as np\n",
    "import matplotlib.pyplot as plt"
   ]
  },
  {
   "cell_type": "markdown",
   "metadata": {},
   "source": [
    "# Vēl mazliet par funkcijām\n",
    "Funkcijas izsaucot, tipiski tām ir jāpadod tik argumenti, cik definīcijā ir norādīti, bet ir izņēmumi. Piem. sekojošā funkcija"
   ]
  },
  {
   "cell_type": "code",
   "execution_count": null,
   "metadata": {},
   "outputs": [],
   "source": [
    "def pielikt_pavedienam_konstanti(pavediens,konstante= ' kaut kada pavediena konstante'):\n",
    "    print(pavediens + konstante)"
   ]
  },
  {
   "cell_type": "code",
   "execution_count": null,
   "metadata": {},
   "outputs": [],
   "source": [
    "pielikt_pavedienam_konstanti('kkads str')"
   ]
  },
  {
   "cell_type": "markdown",
   "metadata": {},
   "source": [
    "Šis ir izdarāms jo python funkciju argumentiem var iestatīt noklusējuma vērtības.  \n",
    "Daudzas bibliotēku funkcijas darbojas tieši pēc šāda modeļa. Šādas funkcijas mēs nerakstīsim, bet tā ir nianse, kas būtu jāievēro."
   ]
  },
  {
   "cell_type": "code",
   "execution_count": null,
   "metadata": {},
   "outputs": [],
   "source": [
    "pielikt_pavedienam_konstanti('kkads_str',' kuram seko vel_kkads_str')"
   ]
  },
  {
   "cell_type": "code",
   "execution_count": null,
   "metadata": {},
   "outputs": [],
   "source": []
  },
  {
   "cell_type": "markdown",
   "metadata": {},
   "source": [
    "# pandas un grafiku zīmēšana"
   ]
  },
  {
   "cell_type": "code",
   "execution_count": null,
   "metadata": {},
   "outputs": [],
   "source": [
    "eksamens = {'name': ['Anastasia', 'Dima', 'Katherine', 'James', 'Emily', 'Michael', 'Matthew', 'Laura', 'Kevin', 'Jonas'],\n",
    "'score': [12.5, 9, 16.5, 5, 9, 20, 14.5, 12, 8, 19],\n",
    "'attempts': [1, 3, 2, 3, 2, 4, 1, 1, 2, 1]}\n",
    "eksam_df = pd.DataFrame(eksamens)\n",
    "\n",
    "flights_df = pd.read_csv('airtravel.csv')\n",
    "flights_df.columns = ['Month', '1958', '1959', '1960']\n",
    "\n",
    "X_numlist = [1,2,3,4,5,6,7,8,9,10]\n",
    "Y_numlist = [1,4,9,16,25,36,49,64,81,100]"
   ]
  },
  {
   "cell_type": "code",
   "execution_count": null,
   "metadata": {},
   "outputs": [],
   "source": [
    "eksam_df"
   ]
  },
  {
   "cell_type": "code",
   "execution_count": null,
   "metadata": {},
   "outputs": [],
   "source": [
    "flights_df"
   ]
  },
  {
   "cell_type": "code",
   "execution_count": null,
   "metadata": {},
   "outputs": [],
   "source": []
  },
  {
   "cell_type": "code",
   "execution_count": null,
   "metadata": {},
   "outputs": [],
   "source": [
    "# .hist() ir DataFrame datu struktūras funkcija, kas atgriež no datiem histogrammas.\n",
    "# Pēc noklusējuma, katrai kolonnai tiek sastādīta histogramma pa rindām.\n",
    "# Pēc noklusējuma tiek ņemti 10 intervāli jeb bins\n",
    "\n",
    "eksam_df.hist()"
   ]
  },
  {
   "cell_type": "code",
   "execution_count": null,
   "metadata": {},
   "outputs": [],
   "source": [
    "flights_df.hist()"
   ]
  },
  {
   "cell_type": "markdown",
   "metadata": {},
   "source": [
    "# pandas un punkta notācija  \n",
    "Bieži redzēsiet piemērus, kur dažādas funkcijas ir 'saķēdētas' kopā ar punktu starp tām.  \n",
    "Tas ir pieraksts, lai samazinātu nepieciešamību pēc papildu mainīgajiem, kas tikai aizņem izstrādes laiku, pagarina kodu (vairāk koda, vairāk kļūdu) un aizņem vietu operatīvajā atmiņā.  \n",
    "Lai veiksmīgi saķēdētu kopā funkcijas (dažreiz process saukts arī par pipelining), **jāpievērš uzmanība tam, ko katra secīgā funkcija atgriež, lai nākamā funkcija varētu šo atgriezto vērtību/struktūru ņemt kā argumentu**   \n",
    "Piem:  \n",
    "\n",
    "series_w_histogram = flights_df['1958'].hist()  \n",
    "\n",
    "Šeit tiek kopā saliktas 2 funkcijas. No DataFrame objekta, izmantojot kolonnas nosaukumu, tiek iegūts Series tipa objekts.  \n",
    "Series tipa objektam, tāpat kā DataFrame objektam piemīt funkcija .hist(), kas uzzīmē grafiku. Ja .hist() outputu ievieto mainīgajā, var redzēt tā tipu."
   ]
  },
  {
   "cell_type": "code",
   "execution_count": null,
   "metadata": {},
   "outputs": [],
   "source": [
    "# Šis strādā tikai ar Series tipu, nevis ar DataFrame tipu t.i. katra kolonna būtu jāsaglabā atsevišķi.\n",
    "flights_df['1958'].hist().get_figure().savefig('1958_output.png') \n",
    "\n",
    "# Tā kā .hist() outputs ir matplotlib bibliotēkas subplota objekts,\n",
    "# Caur tā īpašībām, varam atsaukties uz pašu grafiku ar .get_figure() funkciju \n",
    "# un tās outputu saglabāt ar grafika funkciju .savefig()"
   ]
  },
  {
   "cell_type": "code",
   "execution_count": null,
   "metadata": {},
   "outputs": [],
   "source": [
    "# Uzdevums: Noskaidrojiet kāds ir uz Series objektu izsauktās .hist() funkcijas outputa tips,\n",
    "# atrodiet kādas funkcijas šim tipam vēl ir pieejamas."
   ]
  },
  {
   "cell_type": "markdown",
   "metadata": {},
   "source": [
    "Šis var likties nedaudz pārmācoši, bet šīs konkrētās funkciju saderības nav jāiegaumē, bet tikai jāmāk atrast.\n",
    "Atrast piemērus var caur stackoverflow vai caur oficiālo dokumentāciju, lasot kādas funkcijas ir pieejamas katram tipam un zinot atbilstošo terminoloģiju (t.i. kas ir figure, kas ir plot, kas ir subplot, kas ir ticks, axes, labels u.t.t).  \n",
    "Praktiski, vislabāk bieži vien ir vienkārši atrast strādājošu piemēru tam, kas nepieciešams."
   ]
  },
  {
   "cell_type": "markdown",
   "metadata": {},
   "source": [
    "## Python grafiku attēlošanas pamati"
   ]
  },
  {
   "cell_type": "markdown",
   "metadata": {},
   "source": [
    "<!-- https://matplotlib.org/3.1.1/_images/anatomy.png -->\n",
    "![Pyplot grafika anatomija](https://matplotlib.org/3.1.1/_images/anatomy.png)"
   ]
  },
  {
   "cell_type": "code",
   "execution_count": null,
   "metadata": {},
   "outputs": [],
   "source": [
    "plt.figure() \n",
    "\n",
    "# Šī komanda izveido figure objektu, kas kalpo kā audekls / pamats visiem grafikiem\n",
    "# Bieži vien šo ir jāizmanto tikai, ja mēs manuāli vēlamies izveidot grafikus un izvēlēties kurā grafikā mēs \n",
    "# ko zīmējam. Ja ir jālieto .figure(), ir jālieto arī plt.show(), funkcija, kas visus figure objektā saliktos \n",
    "# grafikus parāda uz ekrāna un 'aizslēdz' figure objektu.\n",
    "# Ja figure objekts ir saglabāts mainīgajā, tam var piekļūt arī pēc .show() funkcijas izpildes, \n",
    "# bet, ja mēģināsim plotot jaunus grafikus, tiem vajadzēs izveidot jaunu figure objektu."
   ]
  },
  {
   "cell_type": "code",
   "execution_count": null,
   "metadata": {},
   "outputs": [],
   "source": [
    "plt.plot(X_numlist,Y_numlist) # Vienkāršākais grafiks ir izveidojams ar plt.plot() funkciju\n",
    "\n",
    "# jupyter notebook videi ir īpatnība, ka plt.plot un plt.scatter() automātiski izveido figure objektu \n",
    "# un izpilda .show(), pat ja ir vairāki ploti\n"
   ]
  },
  {
   "cell_type": "code",
   "execution_count": null,
   "metadata": {},
   "outputs": [],
   "source": [
    "plt.scatter(X_numlist,Y_numlist)"
   ]
  },
  {
   "cell_type": "code",
   "execution_count": null,
   "metadata": {},
   "outputs": [],
   "source": [
    "# Pamēģināsim tagad noņemt vienu elementu no piem. Y_numlist...\n",
    "print(Y_numlist)\n",
    "Y_numlist.pop()\n",
    "print(Y_numlist)"
   ]
  },
  {
   "cell_type": "code",
   "execution_count": null,
   "metadata": {},
   "outputs": [],
   "source": [
    "# ...Un tad attēlot šos divus sarakstus ar plt.plot() vēlreiz\n",
    "plt.plot(X_numlist,Y_numlist)\n",
    "# Dabūsim kļūdu:\n",
    "# ValueError: x and y must have same first dimension, but have shapes (5,) and (4,)"
   ]
  },
  {
   "cell_type": "code",
   "execution_count": null,
   "metadata": {},
   "outputs": [],
   "source": [
    "# Vai scatter atgriezīs ko citu?\n",
    "# plt.scatter(X_numlist,Y_numlist)"
   ]
  },
  {
   "cell_type": "code",
   "execution_count": null,
   "metadata": {},
   "outputs": [],
   "source": [
    "# Uzdevums:\n",
    "# Uzrakstiet funkciju, kura aprēķina ievadītā skaitļa kubu, \n",
    "# tad izmantojiet šo funkciju, lai no patvaļīga skaitļu saraksta A izveidotu tāda paša garuma sarakstu B kur \n",
    "# katra attiecīgā B vērtībā ir kubs no A vērtības t.i. B[1] = A[1]**3, B[3] = A[3]**3 u.t.t.\n",
    "# Tad attēlojiet šos divus sarakstus scatter grafikā, kā X izmantojot A vērtības un kā Y izmantojot B vērtības"
   ]
  },
  {
   "cell_type": "code",
   "execution_count": null,
   "metadata": {},
   "outputs": [],
   "source": []
  },
  {
   "cell_type": "code",
   "execution_count": null,
   "metadata": {},
   "outputs": [],
   "source": []
  },
  {
   "cell_type": "code",
   "execution_count": null,
   "metadata": {},
   "outputs": [],
   "source": []
  },
  {
   "cell_type": "code",
   "execution_count": null,
   "metadata": {},
   "outputs": [],
   "source": []
  },
  {
   "cell_type": "markdown",
   "metadata": {},
   "source": [
    "## Advancētāki pyplot piemēri\n",
    "Galvenais ir ievērot pareizos atslēgvārdus un neapjukt kodā, ko nesaprotat"
   ]
  },
  {
   "cell_type": "code",
   "execution_count": null,
   "metadata": {},
   "outputs": [],
   "source": [
    "import matplotlib.mlab as mlab\n",
    "import matplotlib.gridspec as gridspec"
   ]
  },
  {
   "cell_type": "code",
   "execution_count": null,
   "metadata": {},
   "outputs": [],
   "source": [
    "fig = plt.figure()\n",
    "x = np.arange(10)\n",
    "y = 2.5 * np.sin(x / 20 * np.pi)\n",
    "yerr = np.linspace(0.05, 0.2, 10)\n",
    "\n",
    "plt.errorbar(x, y + 3, yerr=yerr, label='both limits (default)')\n",
    "\n",
    "plt.errorbar(x, y + 2, yerr=yerr, uplims=True, label='uplims=True')\n",
    "\n",
    "plt.errorbar(x, y + 1, yerr=yerr, uplims=True, lolims=True,\n",
    "             label='uplims=True, lolims=True')\n",
    "\n",
    "upperlimits = [True, False] * 5\n",
    "lowerlimits = [False, True] * 5\n",
    "plt.errorbar(x, y, yerr=yerr, uplims=upperlimits, lolims=lowerlimits,\n",
    "             label='subsets of uplims and lolims')\n",
    "\n",
    "plt.legend(loc='lower right')"
   ]
  },
  {
   "cell_type": "code",
   "execution_count": null,
   "metadata": {},
   "outputs": [],
   "source": [
    "\n",
    "labels = ['G1', 'G2', 'G3', 'G4', 'G5']\n",
    "men_means = [20, 34, 30, 35, 27]\n",
    "women_means = [25, 32, 34, 20, 25]\n",
    "\n",
    "x = np.arange(len(labels))  # the label locations\n",
    "width = 0.35  # the width of the bars\n",
    "\n",
    "fig, ax = plt.subplots()\n",
    "rects1 = ax.bar(x - width/2, men_means, width, label='Men')\n",
    "rects2 = ax.bar(x + width/2, women_means, width, label='Women')\n",
    "\n",
    "# Add some text for labels, title and custom x-axis tick labels, etc.\n",
    "ax.set_ylabel('Scores')\n",
    "ax.set_title('Scores by group and gender')\n",
    "ax.set_xticks(x)\n",
    "ax.set_xticklabels(labels)\n",
    "ax.legend()\n",
    "\n",
    "\n",
    "def autolabel(rects):\n",
    "    \"\"\"Attach a text label above each bar in *rects*, displaying its height.\"\"\"\n",
    "    for rect in rects:\n",
    "        height = rect.get_height()\n",
    "        ax.annotate('{}'.format(height),\n",
    "                    xy=(rect.get_x() + rect.get_width() / 2, height),\n",
    "                    xytext=(0, 3),  # 3 points vertical offset\n",
    "                    textcoords=\"offset points\",\n",
    "                    ha='center', va='bottom')\n",
    "\n",
    "\n",
    "autolabel(rects1)\n",
    "autolabel(rects2)\n",
    "\n",
    "fig.tight_layout()\n",
    "\n",
    "plt.show()"
   ]
  },
  {
   "cell_type": "code",
   "execution_count": null,
   "metadata": {},
   "outputs": [],
   "source": [
    "# Fixing random state for reproducibility\n",
    "np.random.seed(19680801)\n",
    "\n",
    "dt = 0.01\n",
    "t = np.arange(0, 10, dt) # Izveido 1-D skaitļu masīvu no 0 līdz 10 ar soli dt = 0.01\n",
    "nse = np.random.randn(len(t)) # Uzģenerē tik random skaitļus, cik ir elementu masīvā t . nse - noise\n",
    "\n",
    "# Matemātiskas darbības ar masīviem\n",
    "r = np.exp(-t / 0.05) \n",
    "cnse = np.convolve(nse, r) * dt\n",
    "cnse = cnse[:len(t)]\n",
    "s = 0.1 * np.sin(2 * np.pi * t) + cnse\n",
    "\n",
    "plt.subplot(211)\n",
    "plt.plot(t, s)\n",
    "plt.subplot(212)\n",
    "plt.psd(s, 512, 1 / dt)\n",
    "\n",
    "plt.show()\n"
   ]
  },
  {
   "cell_type": "markdown",
   "metadata": {},
   "source": [
    "## pandas objektu attēlošana\n",
    "Pandas DataFrame arī ir iebūvētā funkcija .plot(), kas strādā ļoti līdzīgi apskatītajiem pyplot piemēriem.  "
   ]
  },
  {
   "cell_type": "code",
   "execution_count": null,
   "metadata": {},
   "outputs": [],
   "source": [
    "flights_df.plot()\n",
    "# Vispārīgā sintakse:\n",
    "# df.plot(x ='kolonna', y='cita_kolonna', kind = 'scatter')"
   ]
  },
  {
   "cell_type": "markdown",
   "metadata": {},
   "source": [
    "**Attēlošanai var izmantot arī Series tipa objektus**"
   ]
  },
  {
   "cell_type": "code",
   "execution_count": null,
   "metadata": {},
   "outputs": [],
   "source": [
    "Y_numlist"
   ]
  },
  {
   "cell_type": "code",
   "execution_count": null,
   "metadata": {},
   "outputs": [],
   "source": [
    "# Vai šis nostrādās? Pievērsiet uzmanību X asij un y vētībām\n",
    "# plt.plot(Y_numlist)"
   ]
  },
  {
   "cell_type": "code",
   "execution_count": null,
   "metadata": {},
   "outputs": [],
   "source": [
    "# Sadalam DataFrame objektu vairākos Series tipa objektos\n",
    "months = flights_df['Month']\n",
    "y_58 = flights_df['1958']\n",
    "y_59 = flights_df['1959']\n",
    "y_60 = flights_df['1960']\n",
    "print(flights_df)"
   ]
  },
  {
   "cell_type": "code",
   "execution_count": null,
   "metadata": {},
   "outputs": [],
   "source": [
    "# Vai sis nostrādās?\n",
    "# plt.plot(y_58)"
   ]
  },
  {
   "cell_type": "code",
   "execution_count": null,
   "metadata": {},
   "outputs": [],
   "source": [
    "# Un šis? Pa vienam atkomentējiet rindiņas līdz atkomentētas ir visas trīs un izmēģiniet\n",
    "plt.plot(months, y_58)\n",
    "plt.plot(months, y_59)\n",
    "plt.plot(months, y_60)\n",
    "\n",
    "# Uzdevums: Pielieciet šīm līnijām atbilstošo gadu nosaukumus. "
   ]
  },
  {
   "cell_type": "code",
   "execution_count": null,
   "metadata": {},
   "outputs": [],
   "source": [
    "# Priekš viena plota, strādātu arī, ka mēs iestādam Months kolonnu kā DataFrame indeksu\n",
    "cp_flights_df = flights_df.set_index('Month')\n",
    "print(cp_flights_df)\n",
    "cp_y_58 = cp_flights_df['1958']\n",
    "plt.plot(cp_y_58)"
   ]
  },
  {
   "cell_type": "code",
   "execution_count": null,
   "metadata": {},
   "outputs": [],
   "source": [
    "# Un attēlojot visu DataFrame:\n",
    "cp_flights_df.plot()"
   ]
  },
  {
   "cell_type": "code",
   "execution_count": null,
   "metadata": {},
   "outputs": [],
   "source": []
  }
 ],
 "metadata": {
  "kernelspec": {
   "display_name": "Python 3",
   "language": "python",
   "name": "python3"
  },
  "language_info": {
   "codemirror_mode": {
    "name": "ipython",
    "version": 3
   },
   "file_extension": ".py",
   "mimetype": "text/x-python",
   "name": "python",
   "nbconvert_exporter": "python",
   "pygments_lexer": "ipython3",
   "version": "3.7.5"
  }
 },
 "nbformat": 4,
 "nbformat_minor": 2
}
