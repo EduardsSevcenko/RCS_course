{
 "cells": [
  {
   "cell_type": "code",
   "execution_count": null,
   "metadata": {},
   "outputs": [],
   "source": [
    "import os # os bibliotēka paredzēt darbībai ar failu sistēmu. Failu/direktoriju izveide/dzēšana/atrašana"
   ]
  },
  {
   "cell_type": "code",
   "execution_count": null,
   "metadata": {},
   "outputs": [],
   "source": [
    "import pandas as pd"
   ]
  },
  {
   "cell_type": "markdown",
   "metadata": {},
   "source": [
    "# Failu lasīšana\n",
    "* Datus ir ērti glabāt teksta failos un teksta failos var saglabāt gandrīz jebko\n",
    "* Teksta failos parasti glabā datus, kuri nav saistīti ar citām datu kopām.   \n",
    "Ja ir vairākas datu kopas (vairākas tabulas piem. e-veikala preču katalogs, klientu saraksts un preču pārdošanas vēsture ir 3 atsevišķas, bet saistītas kopas), tad teksta faili nav ērtākais veids kā šo informāciju glabāt. Būtu jāizmanto datubāze\n",
    "* Teksta failus var ielasīt Python iebūvētajās datu struktūrās vai arī bibliotēku datu struktūrās\n",
    "* Lai atsauktos uz failiem (konkrēti strādāsim ar teksta failiem), tiek izmantota os bibliotēka  \n",
    "Tāpat kā norādījām failu atrašanāš vietas ar shell, Python atbalsta gan failu relatīvos, gan absolūtos ceļus."
   ]
  },
  {
   "cell_type": "code",
   "execution_count": 4,
   "metadata": {},
   "outputs": [],
   "source": [
    "# Teksta faila ielasīšanas piemērs ar relatīvo ceļu:\n",
    "with open('jauna_direkt/parauga_fails.csv') as noteikti_ne_fails: #Šajā rindiņā atveram failu un reprezentājam to kā faila_objekts\n",
    "    res = noteikti_ne_fails.read() # Šī rindiņa pārveido visu teksta failu par vienu teksta pavedienu\n"
   ]
  },
  {
   "cell_type": "code",
   "execution_count": 5,
   "metadata": {},
   "outputs": [
    {
     "data": {
      "text/plain": [
       "'vards, kartas_skaitlis\\nJanis, 1\\nAija, 2\\nArturs, 3\\nPeteris, 4\\nAlina, 5'"
      ]
     },
     "execution_count": 5,
     "metadata": {},
     "output_type": "execute_result"
    }
   ],
   "source": [
    "res"
   ]
  },
  {
   "cell_type": "markdown",
   "metadata": {},
   "source": [
    "# Failu rakstīšana\n",
    "* Analogi atvēršanas piemēram, fails ir jāatver un faila objekts jāpiešķir mainīgajam ar kuru tālāk tad var darboties\n"
   ]
  },
  {
   "cell_type": "code",
   "execution_count": 10,
   "metadata": {},
   "outputs": [],
   "source": [
    "rindinas = [\"pirma rindina \\n\", \"otra rindina \\n\", \"tresa rindina \\n\"]\n",
    "\n",
    "with open('cits_fails','w+') as rakstama_faila_objekts:\n",
    "    for rindina in rindinas:\n",
    "        rakstama_faila_objekts.write(rindina)"
   ]
  },
  {
   "cell_type": "markdown",
   "metadata": {},
   "source": [
    "# CSV faili\n",
    "* CSV ir saīsinājums no Comma Seperated Values  \n",
    "CSV faila piemērs:"
   ]
  },
  {
   "cell_type": "code",
   "execution_count": 11,
   "metadata": {},
   "outputs": [
    {
     "ename": "NameError",
     "evalue": "name 'vards' is not defined",
     "output_type": "error",
     "traceback": [
      "\u001b[0;31m---------------------------------------------------------------------------\u001b[0m",
      "\u001b[0;31mNameError\u001b[0m                                 Traceback (most recent call last)",
      "\u001b[0;32m<ipython-input-11-1c62b91da2fe>\u001b[0m in \u001b[0;36m<module>\u001b[0;34m\u001b[0m\n\u001b[0;32m----> 1\u001b[0;31m \u001b[0mvards\u001b[0m\u001b[0;34m,\u001b[0m \u001b[0mkartas_skaitlis\u001b[0m\u001b[0;34m\u001b[0m\u001b[0;34m\u001b[0m\u001b[0m\n\u001b[0m\u001b[1;32m      2\u001b[0m \u001b[0mJanis\u001b[0m\u001b[0;34m,\u001b[0m \u001b[0;36m1\u001b[0m\u001b[0;34m\u001b[0m\u001b[0;34m\u001b[0m\u001b[0m\n\u001b[1;32m      3\u001b[0m \u001b[0mAija\u001b[0m\u001b[0;34m,\u001b[0m \u001b[0;36m2\u001b[0m\u001b[0;34m\u001b[0m\u001b[0;34m\u001b[0m\u001b[0m\n\u001b[1;32m      4\u001b[0m \u001b[0mArturs\u001b[0m\u001b[0;34m,\u001b[0m \u001b[0;36m3\u001b[0m\u001b[0;34m\u001b[0m\u001b[0;34m\u001b[0m\u001b[0m\n\u001b[1;32m      5\u001b[0m \u001b[0mPeteris\u001b[0m\u001b[0;34m,\u001b[0m \u001b[0;36m4\u001b[0m\u001b[0;34m\u001b[0m\u001b[0;34m\u001b[0m\u001b[0m\n",
      "\u001b[0;31mNameError\u001b[0m: name 'vards' is not defined"
     ]
    }
   ],
   "source": [
    "vards, kartas_skaitlis\n",
    "Janis, 1\n",
    "Aija, 2\n",
    "Arturs, 3\n",
    "Peteris, 4\n",
    "Alina, 5"
   ]
  },
  {
   "cell_type": "markdown",
   "metadata": {},
   "source": [
    "* CSV failiem ir divu veidu atdalītāji. Kolonnu atdalītājs (parasti komats) un rindiņu atdalītājs (gandrīz vienmēr jauna rindiņa jeb '\\n')\n",
    "* Kolonnu atdalītājam nav obligāti jābūt komatam. Tas varētu būt arī Tab (tad tas būtu ar indentācijām atdalīts fails jeb TSV), kas ir tas pats CSV, tikai ar citu simbolu komata vietā  \n",
    "* csv failos glabā tabulārus datus"
   ]
  },
  {
   "cell_type": "code",
   "execution_count": 12,
   "metadata": {},
   "outputs": [
    {
     "name": "stdout",
     "output_type": "stream",
     "text": [
      "['vards', ' kartas_skaitlis']\n",
      "['Janis', ' 1']\n",
      "['Aija', ' 2']\n",
      "['Arturs', ' 3']\n",
      "['Peteris', ' 4']\n",
      "['Alina', ' 5']\n"
     ]
    }
   ],
   "source": [
    "import csv # Darbam ar CSV failiem. Lieto, lai iterētu cauri csv rindiņām.\n",
    "\n",
    "# CSV faila ielasīšanas paraugs ar iterēšanu cauri faila rindiņām\n",
    "with open('parauga_fails.csv', newline='') as csvfile:\n",
    "    csv_lasitaja_objekts = csv.reader(csvfile, delimiter=',', quotechar='\\'')\n",
    "    for row in csv_lasitaja_objekts:\n",
    "        print(row)"
   ]
  },
  {
   "cell_type": "code",
   "execution_count": 14,
   "metadata": {},
   "outputs": [],
   "source": [
    "# CSV faila rakstīšanas paraugs ar iterēšanu cauri rindiņām\n",
    "csv_rindinas = [\n",
    "    [\"nosaukums\", \"kartas skaitlis\"],\n",
    "    [\"A\",\"1\"],\n",
    "    [\"b\", \"2\"]\n",
    "]\n",
    "\n",
    "with open('rakstams_csv_fails.csv', 'w+', newline='') as csvfile:\n",
    "    csv_rakstitaja_objekts = csv.writer(csvfile, delimiter=',',quotechar='\\'')\n",
    "    for rindina in csv_rindinas:\n",
    "        csv_rakstitaja_objekts.writerow(rindina)"
   ]
  },
  {
   "cell_type": "markdown",
   "metadata": {},
   "source": [
    "# JSON faili\n",
    "* JSON faili (saīsinājums no JavaScript Object Notation) ir hierarhiski teksta faili, glabā struktūru, kura ir praktiski ekvivalenta Python dictionary datu stuktūrai teksta pavediena formātā\n",
    "\n"
   ]
  },
  {
   "cell_type": "code",
   "execution_count": 4,
   "metadata": {},
   "outputs": [],
   "source": [
    "import json # Darbam ar JSON pavedieniem. Var lietot, lai transformētu JSON pavedienu uz dictionary tipu un otrādi\n",
    "\n",
    "#JSON faila ielasīšana\n",
    "with open('lasams_json_piemers.json') as fails:\n",
    "    json_pavediens = fails.read()\n",
    "    # lai ielādētu teksta pavedienu vārdnīcā izmanto json bilibliotēkas .loads() funkciju\n",
    "    json_vardnica = json.loads(json_pavediens)"
   ]
  },
  {
   "cell_type": "code",
   "execution_count": 18,
   "metadata": {},
   "outputs": [
    {
     "data": {
      "text/plain": [
       "'file'"
      ]
     },
     "execution_count": 18,
     "metadata": {},
     "output_type": "execute_result"
    }
   ],
   "source": [
    "json_vardnica['menu']['id']"
   ]
  },
  {
   "cell_type": "code",
   "execution_count": 19,
   "metadata": {},
   "outputs": [],
   "source": [
    "json_vardnica['main_menu'] = json_vardnica['menu']\n",
    "del json_vardnica['menu']"
   ]
  },
  {
   "cell_type": "code",
   "execution_count": 20,
   "metadata": {},
   "outputs": [
    {
     "name": "stdout",
     "output_type": "stream",
     "text": [
      "{\"main_menu\": {\"id\": \"file\", \"value\": \"File\", \"popup\": {\"menuitem\": [{\"value\": \"New\", \"onclick\": \"CreateNewDoc()\"}, {\"value\": \"Open\", \"onclick\": \"OpenDoc()\"}, {\"value\": \"Close\", \"onclick\": \"CloseDoc()\"}]}}}\n"
     ]
    }
   ],
   "source": [
    "jauns_json_pavediens = json.dumps(json_vardnica)\n",
    "print(jauns_json_pavediens)"
   ]
  },
  {
   "cell_type": "code",
   "execution_count": null,
   "metadata": {},
   "outputs": [],
   "source": [
    "#JSON faila ierakstīšana:\n",
    "with open('rakstams_json.json', 'w+') as rakstamais_json_fails:\n",
    "    rakstamais_json_fails.write(jauns_json_pavediens)"
   ]
  },
  {
   "cell_type": "markdown",
   "metadata": {},
   "source": [
    "## XML faili\n",
    "* XML faili ( saīsinājums no Extensible Markup Language )arī glabā hierarhiskas struktūras, tāpat kā JSON faili, bet tie ir noformatēti savādāk.\n",
    "XML Faila piemērs:"
   ]
  },
  {
   "cell_type": "code",
   "execution_count": null,
   "metadata": {},
   "outputs": [],
   "source": [
    "<catalog>\n",
    "   <book id=\"bk101\">\n",
    "      <author>Gambardella, Matthew</author>\n",
    "      <title>XML Developer's Guide</title>\n",
    "      <genre>Computer</genre>\n",
    "      <price>44.95</price>\n",
    "      <publish_date>2000-10-01</publish_date>\n",
    "      <description>An in-depth look at creating applications \n",
    "      with XML.</description>\n",
    "   </book>\n",
    "   <book id=\"bk102\">\n",
    "      <author>Ralls, Kim</author>\n",
    "      <title>Midnight Rain</title>\n",
    "      <genre>Fantasy</genre>\n",
    "      <price>5.95</price>\n",
    "      <publish_date>2000-12-16</publish_date>\n",
    "      <description>A former architect battles corporate zombies, \n",
    "      an evil sorceress, and her own childhood to become queen \n",
    "      of the world.</description>\n",
    "   </book>\n",
    "</catalog>"
   ]
  },
  {
   "cell_type": "markdown",
   "metadata": {},
   "source": [
    "Tā vietā, lai izmantotu figūriekavas, tiek izmantoti tā saucamie xml tagi. Lauki tiek atzīmēti, tagus atverot un aizverot.  \n",
    "XML lielākoties vēl tiek lietots tāpēc, ka tas bija pirmais hierarhisku teksta datu pieraksts, ko izmantoja (un vēl aizvien izmanto) web lapas  \n",
    "JSON vs XML:\n",
    "* JSON ir mazāk verbozs (mazāk simbolu)\n",
    "* JSON Vieglāk lasāms\n",
    "* XML var iekodēt vairāk informācijas (tagu nosaukumu dēļ)  \n",
    "Kopsavilkums: Ja ir jāstrādā ar hierarhiskiem datiem, būtu jāizvēlās JSON, ja vien nav kādu tehnisku limitāciju, kas uzspiež XML lietošanu (piem. rezultātam būs jāparādās HTML dokumentā un tāpēc obligāti būs jābūt XML formātā, sistēma, kurai apstrādātie dati tiks padoti, operē tikai ar XML failiem)\n"
   ]
  },
  {
   "cell_type": "markdown",
   "metadata": {},
   "source": [
    "## Pāreja no XML uz JSON\n",
    "Bieži varētu būt ērti pāriet no XML faila uz JSON failu vai otrādi, un, par laimi, tas ir relatīvi viegli izdarāms"
   ]
  },
  {
   "cell_type": "code",
   "execution_count": 1,
   "metadata": {},
   "outputs": [],
   "source": [
    "# Uzdevums:\n",
    "# Salabot šo kodu un veiksmīgi iegūt vārdnīcu no XML faila un ielikt to mainīgajā 'xml_vardnica'\n",
    "XML_faila_pavediens = \"\"\"<catalog>\n",
    "   <book id=\"bk101\">\n",
    "      <author>Gambardella, Matthew</author>\n",
    "      <title>XML Developer's Guide</title>\n",
    "      <genre>Computer</genre>\n",
    "      <price>44.95</price>\n",
    "      <publish_date>2000-10-01</publish_date>\n",
    "      <description>An in-depth look at creating applications \n",
    "      with XML.</description>\n",
    "   </book>\n",
    "   <book id=\"bk102\">\n",
    "      <author>Ralls, Kim</author>\n",
    "      <title>Midnight Rain</title>\n",
    "      <genre>Fantasy</genre>\n",
    "      <price>5.95</price>\n",
    "      <publish_date>2000-12-16</publish_date>\n",
    "      <description>A former architect battles corporate zombies, \n",
    "      an evil sorceress, and her own childhood to become queen \n",
    "      of the world.</description>\n",
    "   </book>\n",
    "</catalog>\n",
    "\"\"\"\n",
    "\n",
    "import xmltodict\n",
    "\n",
    "xml_vardnica = xmltodict.parse(XML_faila_pavediens)"
   ]
  },
  {
   "cell_type": "code",
   "execution_count": 2,
   "metadata": {},
   "outputs": [
    {
     "name": "stdout",
     "output_type": "stream",
     "text": [
      "OrderedDict([('catalog', OrderedDict([('book', [OrderedDict([('@id', 'bk101'), ('author', 'Gambardella, Matthew'), ('title', \"XML Developer's Guide\"), ('genre', 'Computer'), ('price', '44.95'), ('publish_date', '2000-10-01'), ('description', 'An in-depth look at creating applications \\n      with XML.')]), OrderedDict([('@id', 'bk102'), ('author', 'Ralls, Kim'), ('title', 'Midnight Rain'), ('genre', 'Fantasy'), ('price', '5.95'), ('publish_date', '2000-12-16'), ('description', 'A former architect battles corporate zombies, \\n      an evil sorceress, and her own childhood to become queen \\n      of the world.')])])]))])\n"
     ]
    }
   ],
   "source": [
    "print(xml_vardnica)"
   ]
  },
  {
   "cell_type": "code",
   "execution_count": 5,
   "metadata": {},
   "outputs": [],
   "source": [
    "# Uzdevums:\n",
    "# Ierakstīt xml_vardnica teksta failā ar nosaukumu 'no_xml_ieguts_json_fails.json'\n",
    "xml_pavediens = json.dumps(xml_vardnica)\n",
    "with open('no_xml_ieguts_json_fails.json', 'w+') as f:\n",
    "    f.write(xml_pavediens)"
   ]
  },
  {
   "cell_type": "code",
   "execution_count": null,
   "metadata": {},
   "outputs": [],
   "source": []
  }
 ],
 "metadata": {
  "kernelspec": {
   "display_name": "Python 3",
   "language": "python",
   "name": "python3"
  },
  "language_info": {
   "codemirror_mode": {
    "name": "ipython",
    "version": 3
   },
   "file_extension": ".py",
   "mimetype": "text/x-python",
   "name": "python",
   "nbconvert_exporter": "python",
   "pygments_lexer": "ipython3",
   "version": "3.7.4"
  }
 },
 "nbformat": 4,
 "nbformat_minor": 2
}
