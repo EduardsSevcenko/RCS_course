{
 "cells": [
  {
   "cell_type": "code",
   "execution_count": 1,
   "metadata": {},
   "outputs": [],
   "source": [
    "# Uzdevums:\n",
    "# Uzrakstiet funkciju f1, kura kā argumentus ņem cilvēka vārdu un uzvārdu \n",
    "# un tad izprintē tos vienā rindiņā, apgrieztā secībā ar atstarpi pa vidu\n"
   ]
  },
  {
   "cell_type": "code",
   "execution_count": 21,
   "metadata": {},
   "outputs": [],
   "source": [
    "# Uzdevums:\n",
    "# No dotā saraksta, izveidojiet un izprintējiet jaunu sarakstu, kurā nav skaitļu, kas dalās ar 2, \n",
    "# ievietojiet to mainīgajā 'x' un izprintējiet x\n",
    "\n",
    "saraksts = ['1', 'a', '14', 15, 14, 3, 'skaitlis', 2, 7, 4.0]\n",
    "#Sagaidāmā izvade būtu ['1' , 'a' ,'14' , 15 , 3 , 'skaitlis', 7]\n",
    "\n",
    "\n",
    "\n",
    "\n",
    "\n",
    "\n",
    "#Funkcijas izsaukšanu rakstīt šeit\n"
   ]
  },
  {
   "cell_type": "code",
   "execution_count": 20,
   "metadata": {},
   "outputs": [],
   "source": [
    "# Uzdevums (advancētāks) :\n",
    "# Uzrakstiet funkciju f3, kura kā argumentu ņem integeru n un tad izprintē skaitli, kurš ir vienāds ar n + nn + nnn\n",
    "# Piemērs: ja n = 5, tad rezultāts būtu 5 + 55 + 555 = 615"
   ]
  },
  {
   "cell_type": "code",
   "execution_count": null,
   "metadata": {},
   "outputs": [],
   "source": [
    "# Uzdevums:\n",
    "# Uzrakstiet funkciju f4, kas kā argumentu ņem skaitli, kurš apzīmē sfēras rādiusu, un aprēķina tās tilpumu"
   ]
  },
  {
   "cell_type": "code",
   "execution_count": 18,
   "metadata": {},
   "outputs": [],
   "source": [
    "# Uzdevums:\n",
    "# Izpētiet kā strādā funkcija randrange (padoms: atrodiet piemēru internetā)\n",
    "# Uzrakstiet funkciju f5, kas, izmantojot iebūvētās bibliotēkas 'random' funkciju 'randrange', \n",
    "# uzģenerē random skaitli intervālā no 1 līdz 10 un tad salīdzina to ar funkcijai padoto argumentu\n",
    "\n",
    "\n",
    "from random import randrange as rnd\n",
    "\n"
   ]
  },
  {
   "cell_type": "code",
   "execution_count": 28,
   "metadata": {},
   "outputs": [
    {
     "data": {
      "text/plain": [
       "0.32783494894918996"
      ]
     },
     "execution_count": 28,
     "metadata": {},
     "output_type": "execute_result"
    }
   ],
   "source": [
    "# Uzdevums:\n",
    "# Izpētīt kā strādā sekojošā bibliotēkas funkcija un izmantot to, lai izprintētu 4x4 matricu ar random skaitļiem intervālā 0 - 4\n",
    "# Dokumentācija pieejama šeit:\n",
    "# https://docs.scipy.org/doc/numpy-1.14.0/reference/generated/numpy.random.rand.html\n",
    "\n",
    "import numpy as np\n",
    "\n",
    "np.random.rand()"
   ]
  },
  {
   "cell_type": "code",
   "execution_count": 36,
   "metadata": {},
   "outputs": [
    {
     "name": "stdout",
     "output_type": "stream",
     "text": [
      "Empty DataFrame\n",
      "Columns: []\n",
      "Index: []\n"
     ]
    }
   ],
   "source": [
    "# No 2 dotajiem sarakstiem izveidojiet pandas DataFrame objektu (2x3 matrica), saglabājiet to mainīgajā z un izprintējiet mainīgo z.\n",
    "\n",
    "\n",
    "saraksts1 = [1,2,3]\n",
    "saraksts2 = [4,5,6]\n",
    "\n",
    "import pandas as pd\n",
    "\n",
    "\n",
    "z = pd.DataFrame()\n",
    "print(z)"
   ]
  },
  {
   "cell_type": "code",
   "execution_count": null,
   "metadata": {},
   "outputs": [],
   "source": []
  },
  {
   "cell_type": "code",
   "execution_count": null,
   "metadata": {},
   "outputs": [],
   "source": []
  }
 ],
 "metadata": {
  "kernelspec": {
   "display_name": "Python 3",
   "language": "python",
   "name": "python3"
  },
  "language_info": {
   "codemirror_mode": {
    "name": "ipython",
    "version": 3
   },
   "file_extension": ".py",
   "mimetype": "text/x-python",
   "name": "python",
   "nbconvert_exporter": "python",
   "pygments_lexer": "ipython3",
   "version": "3.7.5"
  }
 },
 "nbformat": 4,
 "nbformat_minor": 2
}
