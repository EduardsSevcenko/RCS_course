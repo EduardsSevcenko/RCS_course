{
 "cells": [
  {
   "cell_type": "code",
   "execution_count": 1,
   "metadata": {},
   "outputs": [
    {
     "ename": "NameError",
     "evalue": "name 'a' is not defined",
     "output_type": "error",
     "traceback": [
      "\u001b[0;31m---------------------------------------------------------------------------\u001b[0m",
      "\u001b[0;31mNameError\u001b[0m                                 Traceback (most recent call last)",
      "\u001b[0;32m<ipython-input-1-f461287707db>\u001b[0m in \u001b[0;36m<module>\u001b[0;34m\u001b[0m\n\u001b[1;32m      7\u001b[0m \u001b[0msaraksts\u001b[0m \u001b[0;34m=\u001b[0m \u001b[0;34m[\u001b[0m\u001b[0;34m'1'\u001b[0m\u001b[0;34m,\u001b[0m \u001b[0;34m'2'\u001b[0m\u001b[0;34m,\u001b[0m \u001b[0;34m'c'\u001b[0m\u001b[0;34m,\u001b[0m \u001b[0;34m'b'\u001b[0m\u001b[0;34m,\u001b[0m \u001b[0;34m'a'\u001b[0m\u001b[0;34m]\u001b[0m\u001b[0;34m\u001b[0m\u001b[0;34m\u001b[0m\u001b[0m\n\u001b[1;32m      8\u001b[0m \u001b[0;34m\u001b[0m\u001b[0m\n\u001b[0;32m----> 9\u001b[0;31m \u001b[0;32mif\u001b[0m \u001b[0ma\u001b[0m \u001b[0;32min\u001b[0m \u001b[0msaraksts\u001b[0m\u001b[0;34m:\u001b[0m\u001b[0;34m\u001b[0m\u001b[0;34m\u001b[0m\u001b[0m\n\u001b[0m\u001b[1;32m     10\u001b[0m     \u001b[0mprint\u001b[0m\u001b[0;34m(\u001b[0m\u001b[0;34m'saraksts'\u001b[0m\u001b[0;34m)\u001b[0m\u001b[0;34m\u001b[0m\u001b[0;34m\u001b[0m\u001b[0m\n",
      "\u001b[0;31mNameError\u001b[0m: name 'a' is not defined"
     ]
    }
   ],
   "source": [
    "# Uzdevums:\n",
    "# Salabo kodu.\n",
    "\n",
    "# Šim koda fragmentam būtu jāuzdefinē saraksts ar teksta pavedieniem.\n",
    "# Ja saraksts satur teksta pavedienu 'a', tad jāizprintē 'satur'\n",
    "\n",
    "saraksts = ['1', '2', 'c', 'b', 'a']\n",
    "\n",
    "if a in saraksts:\n",
    "    print('saraksts')"
   ]
  },
  {
   "cell_type": "code",
   "execution_count": 2,
   "metadata": {},
   "outputs": [
    {
     "ename": "SyntaxError",
     "evalue": "invalid syntax (<ipython-input-2-9594415454ec>, line 9)",
     "output_type": "error",
     "traceback": [
      "\u001b[0;36m  File \u001b[0;32m\"<ipython-input-2-9594415454ec>\"\u001b[0;36m, line \u001b[0;32m9\u001b[0m\n\u001b[0;31m    if type(arguments1) = type(arguments2):\u001b[0m\n\u001b[0m                        ^\u001b[0m\n\u001b[0;31mSyntaxError\u001b[0m\u001b[0;31m:\u001b[0m invalid syntax\n"
     ]
    }
   ],
   "source": [
    "# Uzdevums:\n",
    "# Salabo kodu.\n",
    "\n",
    "# Šai funkcijai būtu jāņem trīs argumenti. \n",
    "# Funkciju izsaucot, ja pirmajiem diviem ir vienādi tipi, jāizprintē trešais\n",
    "\n",
    "#Funkcijas definīcija:\n",
    "def f1(arguments1, arguments2, arguments3):\n",
    "    if type(arguments1) = type(arguments2):\n",
    "        print('arguments3')\n",
    "\n",
    "\n",
    "# Funkcijas izsaukšana (zemāk par šo rindiņu kodu nemainīt)\n",
    "f1('pirmais', 'otrais', 'sakrita')"
   ]
  },
  {
   "cell_type": "code",
   "execution_count": 3,
   "metadata": {},
   "outputs": [
    {
     "ename": "NameError",
     "evalue": "name 'pandas' is not defined",
     "output_type": "error",
     "traceback": [
      "\u001b[0;31m---------------------------------------------------------------------------\u001b[0m",
      "\u001b[0;31mNameError\u001b[0m                                 Traceback (most recent call last)",
      "\u001b[0;32m<ipython-input-3-4a1941863a62>\u001b[0m in \u001b[0;36m<module>\u001b[0;34m\u001b[0m\n\u001b[1;32m      7\u001b[0m \u001b[0;32mimport\u001b[0m \u001b[0mpandas\u001b[0m \u001b[0;32mas\u001b[0m \u001b[0mpd\u001b[0m\u001b[0;34m\u001b[0m\u001b[0;34m\u001b[0m\u001b[0m\n\u001b[1;32m      8\u001b[0m \u001b[0;34m\u001b[0m\u001b[0m\n\u001b[0;32m----> 9\u001b[0;31m \u001b[0ma\u001b[0m \u001b[0;34m=\u001b[0m \u001b[0mpandas\u001b[0m\u001b[0;34m.\u001b[0m\u001b[0mDataFrame\u001b[0m\u001b[0;34m(\u001b[0m\u001b[0;34m[\u001b[0m\u001b[0;36m1870\u001b[0m\u001b[0;34m,\u001b[0m \u001b[0;36m2300\u001b[0m\u001b[0;34m,\u001b[0m \u001b[0;36m4585\u001b[0m\u001b[0;34m,\u001b[0m \u001b[0;36m900\u001b[0m\u001b[0;34m,\u001b[0m \u001b[0;36m1870\u001b[0m\u001b[0;34m]\u001b[0m\u001b[0;34m)\u001b[0m\u001b[0;34m\u001b[0m\u001b[0;34m\u001b[0m\u001b[0m\n\u001b[0m\u001b[1;32m     10\u001b[0m \u001b[0ma\u001b[0m \u001b[0;34m=\u001b[0m \u001b[0ma\u001b[0m\u001b[0;34m.\u001b[0m\u001b[0mdrop_duplicates\u001b[0m\u001b[0;34m(\u001b[0m\u001b[0;34m)\u001b[0m\u001b[0;34m\u001b[0m\u001b[0;34m\u001b[0m\u001b[0m\n\u001b[1;32m     11\u001b[0m \u001b[0mprint\u001b[0m\u001b[0;34m(\u001b[0m\u001b[0ma\u001b[0m\u001b[0;34m)\u001b[0m\u001b[0;34m\u001b[0m\u001b[0;34m\u001b[0m\u001b[0m\n",
      "\u001b[0;31mNameError\u001b[0m: name 'pandas' is not defined"
     ]
    }
   ],
   "source": [
    "# Uzdevums: Salabo kodu\n",
    "\n",
    "# Šim koda fragmentam būtu jāimportē pandas bibliotēka, \n",
    "# jāizveido bibliotēkai specifiskā datu struktūra DataFrame,\n",
    "# jāizmanto datu struktūras īpašība .drop_duplicates un tā jāizprintē\n",
    "\n",
    "import pandas as pd\n",
    "\n",
    "a = pandas.DataFrame([1870, 2300, 4585, 900, 1870])\n",
    "a = a.drop_duplicates()\n",
    "print(a)"
   ]
  },
  {
   "cell_type": "code",
   "execution_count": 4,
   "metadata": {},
   "outputs": [
    {
     "name": "stdout",
     "output_type": "stream",
     "text": [
      "rezultats bus  <class 'float'>  tipa\n",
      "None\n"
     ]
    }
   ],
   "source": [
    "# Uzdevums: \n",
    "# Salabo kodu.\n",
    "\n",
    "# Šim koda fragmentam būtu jāizprintē mainīgajā a ievietotais divu skaitļu dalījums un tā tips\n",
    "\n",
    "# Funkcijas definīcija\n",
    "def dalit(skaitlis1, skaitlis2):\n",
    "    rezultats = skaitlis1 / skaitlis2\n",
    "    print(\"rezultats bus \",type(rezultats),\" tipa\")\n",
    "\n",
    "# Funkcijas izsaukšana (kodu zemāk par šo rindiņu nemainīt)\n",
    "a = dalit(80, 40)\n",
    "print(a)\n"
   ]
  },
  {
   "cell_type": "code",
   "execution_count": null,
   "metadata": {},
   "outputs": [],
   "source": []
  },
  {
   "cell_type": "markdown",
   "metadata": {},
   "source": [
    "# Cikli\n",
    "* Cikli, tāpat kā mainīgie, funkcijas un plūsmas kontrole ir fundamentāls programmēšanas pamatkoncepts\n",
    "* Cikli ir plaši pielietoti un ar tiem var atrisināt ļoti lielu skaitu programmēšanas problēmu\n"
   ]
  },
  {
   "cell_type": "markdown",
   "metadata": {},
   "source": [
    "## while cikls:  \n",
    "* Atkārto tajā ieliktās darbības, kamēr vien cikla nosacījums izpildās."
   ]
  },
  {
   "cell_type": "code",
   "execution_count": null,
   "metadata": {},
   "outputs": [],
   "source": [
    "# While cikla piemērs.\n",
    "\n",
    "i = 1\n",
    "\n",
    "#Vispārīgā sintakse ir while <būla mainīgais> : <kods>\n",
    "while i < 5:\n",
    "    i = i + 1\n",
    "    print(i)"
   ]
  },
  {
   "cell_type": "code",
   "execution_count": null,
   "metadata": {},
   "outputs": [],
   "source": [
    "# Bezgalīga while cikla piemērs (Lai apturētu ciklu, jāiet uz Kernel -> Interrupt):\n",
    "while 3 < 5:\n",
    "    print('sis vienmer ir taisniba un tapec cikls turpinasies muzigi')"
   ]
  },
  {
   "cell_type": "markdown",
   "metadata": {},
   "source": [
    "## for cikls\n",
    "for cikls atkārto darbības, līdz iziet cauri tam uzdotajai datu struktūrai.\n",
    "for cikli ir divu veidu"
   ]
  },
  {
   "cell_type": "code",
   "execution_count": null,
   "metadata": {},
   "outputs": [],
   "source": [
    "# Viens for cikla veids vienkārši atkārto tajā ielikto komandu komplektu līdz iziet cauri uzdefinētamn intervālam\n",
    "for number in range(0,5):\n",
    "    print(number)"
   ]
  },
  {
   "cell_type": "code",
   "execution_count": null,
   "metadata": {},
   "outputs": [],
   "source": [
    "# Otrs for cikla veids iet cauri ciklam iedotai datu struktūrai.\n",
    "struktura = ['a', 9, 18, 0.58, {}]\n",
    "\n",
    "for elements in struktura:\n",
    "    print(elements)"
   ]
  },
  {
   "cell_type": "code",
   "execution_count": null,
   "metadata": {},
   "outputs": [],
   "source": []
  },
  {
   "cell_type": "code",
   "execution_count": 5,
   "metadata": {},
   "outputs": [],
   "source": [
    "saraksts = [1,2,3,4,5,6,7,8,9,10,11,12,13,14,15]\n",
    "# 1. Uzdevums:\n",
    "# Uzrakstīt funkciju, kura no saraksta izprintē tikai katru otro elementu\n",
    "\n",
    "\n",
    "#Risinājums:\n",
    "# Funkcijas definīcija\n",
    "def katrs_otrais_no(lst):\n",
    "    i = 0\n",
    "    for elem in lst:\n",
    "        i = i + 1\n",
    "        if i % 2 == 0:\n",
    "            print(elem)\n",
    "\n",
    "# Funkcijas izsaukšana\n",
    "katrs_otrais_no(saraksts)"
   ]
  },
  {
   "cell_type": "code",
   "execution_count": null,
   "metadata": {},
   "outputs": [],
   "source": []
  },
  {
   "cell_type": "code",
   "execution_count": null,
   "metadata": {},
   "outputs": [],
   "source": [
    "#2. Uzdevums:\n",
    "# Uzrakstīt funkciju, kura aprēķina saraksta elementu summu ar for ciklu\n",
    "\n",
    "saraksts = [2,8,16,30,44]\n",
    "# summa = 56\n",
    "\n",
    "#Risinājums:\n",
    "#Funkcijas definīcija\n",
    "def f2(sar):\n",
    "    summa = 0\n",
    "    for element in sar:\n",
    "        summa = summa + element\n",
    "    print(summa)\n",
    "\n",
    "#Funkcijas izsaukšana\n",
    "f2(saraksts)"
   ]
  },
  {
   "cell_type": "code",
   "execution_count": 3,
   "metadata": {},
   "outputs": [],
   "source": [
    "# 3. Uzdevums:\n",
    "# Uzrakstīt funkciju, kura aprēķina saraksta elementu vidējo vērtību ar for ciklu\n",
    "\n",
    "def f3(sar):\n",
    "    summa = 0\n",
    "    for element in sar:\n",
    "        summa = summa + element\n",
    "    videjais = summa / len(sar)\n",
    "    print(videjais)\n",
    "\n"
   ]
  },
  {
   "cell_type": "code",
   "execution_count": 7,
   "metadata": {},
   "outputs": [
    {
     "name": "stdout",
     "output_type": "stream",
     "text": [
      "[1, 2, 3, 12, 11, 10, 9, 5]\n",
      "[1, 2, 3, 12, 11, 10, 9, 5]\n"
     ]
    }
   ],
   "source": [
    "# 4. Uzdevums:\n",
    "# Uzrakstīt funkciju, kas kā argumentus ņem 2 sarakstus un tos secīgi apvieno vienā\n",
    "# piem: lst1 = [1,2,3], lst = [9,12,0]\n",
    "# rezultats: [1,2,3,9,12,0]\n",
    "\n",
    "lst1 = [1,2,3]\n",
    "lst2 = [12,11,10,9,5]\n",
    "\n",
    "\n",
    "# Risinājums:\n",
    "\n",
    "# Funkcijas, kas izmanto sarakstu saskaitīšanas īpašību, definīcija\n",
    "def f4(sar1, sar2):\n",
    "    result = sar1 + sar2 # Ļoti vienkāršs veids, kas izmanto iebūvētās funkcijas\n",
    "    print(result)\n",
    "\n",
    "# Funkcijas, kas izmanto 2 for ciklus, definīcija\n",
    "def f4_2(sar1, sar2):\n",
    "    result = []\n",
    "    for element in sar1:\n",
    "        result.append(element)\n",
    "    for element in sar2:\n",
    "        result.append(element)\n",
    "    print(result)\n",
    "\n",
    "\n",
    "f4(lst1, lst2)\n",
    "f4_2(lst1, lst2)"
   ]
  },
  {
   "cell_type": "code",
   "execution_count": 8,
   "metadata": {},
   "outputs": [
    {
     "name": "stdout",
     "output_type": "stream",
     "text": [
      "[4, 64, 256, 900, 1936]\n"
     ]
    }
   ],
   "source": [
    "# You are given with a list of integer elements. \n",
    "# Make a new list which will store square of elements of previous list.\n",
    "\n",
    "saraksts = [2,8,16,30,44]\n",
    "kvadratu_saraksts = []\n",
    "\n",
    "for element in saraksts:\n",
    "    kvadratu_saraksts.append( element * element )\n",
    "print(kvadratu_saraksts)"
   ]
  },
  {
   "cell_type": "code",
   "execution_count": null,
   "metadata": {},
   "outputs": [],
   "source": []
  },
  {
   "cell_type": "markdown",
   "metadata": {},
   "source": [
    "#  Python objekti\n",
    "* Python valodā pilnīgi viss ir objekts.\n",
    "* Visiem objektiem ir tips\n",
    "* Vispārīgi, visiem viena tipa objektiem ir vienādas īpašības (visbiežāk funkcijas), bet ir izņēmumi, kuros kāda īpašība nav izpildāma."
   ]
  },
  {
   "cell_type": "code",
   "execution_count": null,
   "metadata": {},
   "outputs": [],
   "source": [
    "vardnica1 = {'a':1, 'b':2}\n",
    "vardnica2 = {'c': 3, 'd':4, 'e': 5, 'f':{'g':6, 'h':7}}\n",
    "\n",
    "saraksts1 = [3,2,1]\n",
    "saraksts2 = [20,51,6,[7,8]]"
   ]
  },
  {
   "cell_type": "code",
   "execution_count": 9,
   "metadata": {},
   "outputs": [],
   "source": [
    "# Uzdevums: \n",
    "\n",
    "# Izpildiet šūnu vienu virs šīs (lai definētu mainīgos). Tad atkomentējiet sekojošo rindiņu, aizejiet ar kursoru uz tās beigām un nospiediet Tab.\n",
    "# vardnica1.\n",
    "\n",
    "\n",
    "# Šīs ir vardnica1 objektam pielietojamās īpašības. \n",
    "\n",
    "\n",
    "# Paredziet vai vardnica2 būs tādas pašas īpašības kā vardnica1 un pārbaudiet to\n",
    "# vardnica2."
   ]
  },
  {
   "cell_type": "code",
   "execution_count": 10,
   "metadata": {},
   "outputs": [],
   "source": [
    "# Uzdevums:\n",
    "# Izmantojiet list objekta īpašības, lai sakārtotu sarakstu saraksts1 augošā secībā un to izprintētu\n",
    "\n",
    "\n",
    "# Izmēģiniet to pašu darbību ar saraksts2 un paredziet rezultātu. Kādi ir secinājumi?\n",
    "\n"
   ]
  },
  {
   "cell_type": "code",
   "execution_count": null,
   "metadata": {},
   "outputs": [],
   "source": [
    "# Demonstrācija:\n",
    "\n",
    "class jauns_tips(object):\n",
    "    klases_mainigais = 'klases_mainiga_vertiba'\n",
    "    klases_saraksts = []\n",
    "    def __init__(self, arg1, arg2):\n",
    "        self.a = arg1\n",
    "        self.b = arg2\n",
    "        self.reizinajums = arg1 * arg2\n",
    "        self.saraksts = [arg1, arg2]\n",
    "        \n",
    "    def papildinat_sarakstu(self, papildinajums):\n",
    "        self.__class__.klases_saraksts.append(papildinajums)"
   ]
  },
  {
   "cell_type": "code",
   "execution_count": null,
   "metadata": {},
   "outputs": [],
   "source": [
    "instance = jauns_tips(2,7)"
   ]
  },
  {
   "cell_type": "code",
   "execution_count": null,
   "metadata": {},
   "outputs": [],
   "source": [
    "# instance.a\n",
    "# instance.b\n",
    "# instance.klases_saraksts"
   ]
  },
  {
   "cell_type": "code",
   "execution_count": null,
   "metadata": {},
   "outputs": [],
   "source": [
    "objekts = jauns_tips(3,7)\n",
    "objekts2 = jauns_tips(4,8)"
   ]
  },
  {
   "cell_type": "code",
   "execution_count": null,
   "metadata": {},
   "outputs": [],
   "source": [
    "print(type(objekts))\n",
    "print(type(objekts2))"
   ]
  },
  {
   "cell_type": "code",
   "execution_count": null,
   "metadata": {},
   "outputs": [],
   "source": [
    "print(objekts.saraksts)\n",
    "print(objekts2.saraksts)"
   ]
  },
  {
   "cell_type": "code",
   "execution_count": null,
   "metadata": {},
   "outputs": [],
   "source": [
    "print(objekts.reizinajums)\n",
    "print(objekts2.reizinajums)"
   ]
  },
  {
   "cell_type": "code",
   "execution_count": null,
   "metadata": {},
   "outputs": [],
   "source": [
    "objekts.klases_mainigais = 4"
   ]
  },
  {
   "cell_type": "code",
   "execution_count": null,
   "metadata": {},
   "outputs": [],
   "source": [
    "objekts2.klases_mainigais"
   ]
  },
  {
   "cell_type": "code",
   "execution_count": null,
   "metadata": {},
   "outputs": [],
   "source": [
    "objekts.klases_mainigais"
   ]
  },
  {
   "cell_type": "code",
   "execution_count": null,
   "metadata": {},
   "outputs": [],
   "source": [
    "jauns_tips.klases_mainigais"
   ]
  },
  {
   "cell_type": "code",
   "execution_count": null,
   "metadata": {},
   "outputs": [],
   "source": [
    "import pandas as pd\n",
    "import os\n",
    "\n",
    "\n",
    "# print(type(pd))\n",
    "# print(type(os))\n",
    "# type(feat)\n",
    "pd"
   ]
  },
  {
   "cell_type": "code",
   "execution_count": null,
   "metadata": {},
   "outputs": [],
   "source": [
    "objekts.papildinat_sarakstu('b')"
   ]
  },
  {
   "cell_type": "code",
   "execution_count": null,
   "metadata": {},
   "outputs": [],
   "source": [
    "objekts.klases_saraksts"
   ]
  },
  {
   "cell_type": "code",
   "execution_count": null,
   "metadata": {},
   "outputs": [],
   "source": [
    "objekts.papildinat_sarakstu('c')"
   ]
  },
  {
   "cell_type": "code",
   "execution_count": null,
   "metadata": {},
   "outputs": [],
   "source": [
    "objekts.klases_saraksts"
   ]
  },
  {
   "cell_type": "code",
   "execution_count": null,
   "metadata": {},
   "outputs": [],
   "source": [
    "# Uzdevums: Izpildiet visas demonstrācijas rindiņas. "
   ]
  },
  {
   "cell_type": "code",
   "execution_count": null,
   "metadata": {},
   "outputs": [],
   "source": []
  },
  {
   "cell_type": "code",
   "execution_count": null,
   "metadata": {},
   "outputs": [],
   "source": []
  },
  {
   "cell_type": "code",
   "execution_count": null,
   "metadata": {},
   "outputs": [],
   "source": []
  },
  {
   "cell_type": "code",
   "execution_count": null,
   "metadata": {},
   "outputs": [],
   "source": []
  },
  {
   "cell_type": "code",
   "execution_count": null,
   "metadata": {},
   "outputs": [],
   "source": []
  },
  {
   "cell_type": "code",
   "execution_count": null,
   "metadata": {},
   "outputs": [],
   "source": []
  }
 ],
 "metadata": {
  "kernelspec": {
   "display_name": "Python 3",
   "language": "python",
   "name": "python3"
  },
  "language_info": {
   "codemirror_mode": {
    "name": "ipython",
    "version": 3
   },
   "file_extension": ".py",
   "mimetype": "text/x-python",
   "name": "python",
   "nbconvert_exporter": "python",
   "pygments_lexer": "ipython3",
   "version": "3.7.4"
  }
 },
 "nbformat": 4,
 "nbformat_minor": 2
}
