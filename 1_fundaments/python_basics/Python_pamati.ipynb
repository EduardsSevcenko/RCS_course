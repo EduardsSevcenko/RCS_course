{
 "cells": [
  {
   "cell_type": "code",
   "execution_count": null,
   "metadata": {},
   "outputs": [],
   "source": [
    "# Šis ir koda komentārs. Viss, kas kādā rindiņā seko aiz '#' netiek izpildīts. \n",
    "# Komentāri tiek lietoti, lai paskaidrotu kodu t.i. padarītu to lasāmāku\n",
    "# Komentāri var sastāvēt no veselām rindiņām un komentāri var būt pielikt kādas rindiņas galā.\n",
    "\n",
    "print(\"sveiki\") # Šī komanda izprintē uz ekrāna (standartizvadē, saīsināti pierakstīta kā 'stdout')simbolu virkni 'sveiki'"
   ]
  },
  {
   "cell_type": "markdown",
   "metadata": {},
   "source": [
    "# Mainīgo piešķiršana un operācijas, primitīvie tipi"
   ]
  },
  {
   "cell_type": "code",
   "execution_count": null,
   "metadata": {},
   "outputs": [],
   "source": [
    "\n",
    "# Šie ir veselo skaitļu jeb 'integer' tipa mainīgie\n",
    "a = 4\n",
    "b = 5\n",
    "print(a)\n",
    "print(b)\n",
    "print(type(a), type(b))"
   ]
  },
  {
   "cell_type": "code",
   "execution_count": null,
   "metadata": {},
   "outputs": [],
   "source": [
    "# Python valoda ir jūtīga pret burtu kapitalizāciju (lielais vai mazais burts). \n",
    "# Uzdevums: Izmēģiniet sekojošo komandu:\n",
    "print(A)"
   ]
  },
  {
   "cell_type": "code",
   "execution_count": null,
   "metadata": {},
   "outputs": [],
   "source": [
    "# Šie ir decimālskaitļu jeb 'floating point', īsāk, 'float' tipa mainīgie\n",
    "i = 0.5\n",
    "j = 3.1415\n",
    "print(type(i),type(j))"
   ]
  },
  {
   "cell_type": "code",
   "execution_count": null,
   "metadata": {},
   "outputs": [],
   "source": [
    "# Šie ir simbolu virknes / pavediena jeb 'string tipa mainīgie'\n",
    "o = \"string tips ir teksta simbolu virkne. \"\n",
    "m = \"string tips saīsināti pierakstās kā 'str' un var saturēt garumzīmes un citus (ne visus) simbolus\"\n",
    "print(o)\n",
    "print(m)\n",
    "print(type(o),type(m))"
   ]
  },
  {
   "cell_type": "code",
   "execution_count": null,
   "metadata": {},
   "outputs": [],
   "source": [
    "# Izmēģiniet nodefinēt teksta virkni ar vienu \" (divkāršās pēdiņas) simbolu tajā\n",
    "# k = \n",
    "# print(k)"
   ]
  },
  {
   "cell_type": "code",
   "execution_count": null,
   "metadata": {},
   "outputs": [],
   "source": [
    "# Mainīgie atcerās sev piešķirtās vērtības, skaitliskas vai jebkādas citas. Mainīgajā var ielikt jebko.\n",
    "c = a + b"
   ]
  },
  {
   "cell_type": "code",
   "execution_count": null,
   "metadata": {},
   "outputs": [],
   "source": [
    "print(c)\n",
    "print(9)\n",
    "print(\"c\")"
   ]
  },
  {
   "cell_type": "code",
   "execution_count": null,
   "metadata": {},
   "outputs": [],
   "source": [
    "print(\"c = \",c)"
   ]
  },
  {
   "cell_type": "code",
   "execution_count": null,
   "metadata": {},
   "outputs": [],
   "source": [
    "# Jautājums: Kā vērtības tiek pārrēķinātas?\n",
    "a = 4\n",
    "b = 2\n",
    "# print(c) # Ko izprintēs šī komanda?"
   ]
  },
  {
   "cell_type": "code",
   "execution_count": null,
   "metadata": {},
   "outputs": [],
   "source": []
  },
  {
   "cell_type": "code",
   "execution_count": null,
   "metadata": {},
   "outputs": [],
   "source": [
    "# Ar visām skaitliskajām vērtībām var veikt darbības.\n",
    "# Uzdevums: Izprintējiet augstāk definēto 'float'tipa mainīgo summu.\n",
    "\n"
   ]
  },
  {
   "cell_type": "code",
   "execution_count": null,
   "metadata": {},
   "outputs": [],
   "source": [
    "# Uzdevums: Izprintējiet dalīšanas operācijas rezultātu starp mainīgajiem a un b.\n",
    "# Dalīšanas operators ir simbols '/' . Kāds būs rezultāta tips? int vai float?\n",
    "\n"
   ]
  },
  {
   "cell_type": "code",
   "execution_count": null,
   "metadata": {},
   "outputs": [],
   "source": [
    "# Uzdevums: Izprintējiet reizināšanas operācijas rezultātu starp mainīgajiem a un b. \n",
    "# Reizināšanas operators ir simbols ' * '\n",
    "\n"
   ]
  },
  {
   "cell_type": "code",
   "execution_count": null,
   "metadata": {},
   "outputs": [],
   "source": [
    "# Uzdevums: Izprintējiet reizināšanas operācijas rezultātu starp mainīgajiem a un j.\n",
    "# Kāds būs rezultāta tips? int vai float?\n",
    "\n"
   ]
  },
  {
   "cell_type": "code",
   "execution_count": null,
   "metadata": {},
   "outputs": [],
   "source": [
    "# Uzdevums: Izprintējiet dalīšanas operācijas rezultātu starp mainīgajiem a un b.\n",
    "# Dalīšanas operators ir simbols '/' . Kāds būs rezultāta tips? int vai float?\n",
    "\n"
   ]
  },
  {
   "cell_type": "code",
   "execution_count": null,
   "metadata": {},
   "outputs": [],
   "source": [
    "# Uzdevums:\n",
    "# Paredziet (gan vērtības, gan tipu), atkomentējiet un pārbaudiet, kas tiks izprintēts sekojošajās koda rindiņās:\n",
    "\n",
    "z = 4 / 2.0\n",
    "print(z)\n",
    "\n",
    "# z = 4 * 2.0\n",
    "# print(z)\n",
    "\n",
    "# z = 4 - 2.0\n",
    "# print(z)\n",
    "\n",
    "# z = 4.0 - 2\n",
    "# print(z)\n",
    "\n",
    "# z = 4 / 3\n",
    "# print(z)"
   ]
  },
  {
   "cell_type": "code",
   "execution_count": null,
   "metadata": {},
   "outputs": [],
   "source": [
    "# Augstāk mēs uzdefinējām mainīgos o un m kā teksta pavediena tipu mainīgos.\n",
    "# Paredziet un pārbaudiet, kas tiks izprintēts,secīgi atkomentējot sekojošās rindiņas:\n",
    "\n",
    "# print(o + m)\n",
    "\n",
    "# print(o-m)\n",
    "\n",
    "# print(2 * o)\n",
    "\n",
    "# print(\" o + m \")"
   ]
  },
  {
   "cell_type": "markdown",
   "metadata": {},
   "source": [
    "# Bibliotēku importēšana un lietošana\n",
    "Praktiski strādājot ar Python valodu, lielākā daļa koda, kas tiek izpildīta, ir paslēpta bibliotēkās.\n",
    "\n",
    "Bibliotēkas funkcionalitātēm var piekļūt, tās importējot."
   ]
  },
  {
   "cell_type": "code",
   "execution_count": null,
   "metadata": {},
   "outputs": [],
   "source": [
    "# Populāru Python bibliotēku importēšanas komandu piemēri\n",
    "\n",
    "# Šīs (un vēl daudz citas) bibliotēkas nāk līdzi Python instalācijām pēc noklusējuma\n",
    "import os # Paredzēta failu sistēmas darbībām (failu pārvietošana, dzēšana, ielasīšana u.t.t)\n",
    "import json # Paredzēta darbam ar .json failiem.\n",
    "\n",
    "\n",
    "\n",
    "# Citu, populāru (tipiski nenāk līdzi pēc noklusējuma) Python bibliotēku import piemēri.\n",
    "import pandas as pd\n",
    "import numpy as np\n",
    "# 'as pd' un 'as np' pievieno bibliotēkas funkcionalitātes mainīgajiem. Attiecīgi pd un np\n",
    "\n",
    "# Punkts starp matplotlib un pyplot apzīmē to, ka mēs importējam specifisku matplotlib moduli ar nosaukumu pyplot\n",
    "import matplotlib.pyplot as plt\n",
    "\n",
    "# Šeit no Python machine learning bibliotēkas 'sklearn' tiek importēts modulis 'linear_model' un\n",
    "# no tā, savukārt, tiek importēts konkrēts apakšmodulis, kurš paredzēts lineārās regresijas modeļiem.\n",
    "from sklearn.linear_model import LinearRegression"
   ]
  },
  {
   "cell_type": "markdown",
   "metadata": {},
   "source": [
    "Ne visas pieejamās bibliotēkas ir instalētas pēc noklusējuma, bet ir instalējamas ar rīku **pip** tāpat kā Linux pakotnes tiek instalētas ar **apt**\n",
    "Piemērs pip instalācijai un lietojumam:\n",
    "\n",
    "sudo apt install pip  \n",
    "pip install mglearn"
   ]
  },
  {
   "cell_type": "markdown",
   "metadata": {},
   "source": []
  },
  {
   "cell_type": "code",
   "execution_count": null,
   "metadata": {},
   "outputs": [],
   "source": [
    "# Bibliotēkas lieto, atsaucoties uz kādu no bibliotēku moduļiem vai apakšmoduļiem un tajos esošajām funkcijām\n",
    "\n",
    "# Uzdevums: \n",
    "# 1.!! Pārtraukt jupyter-notebook darbību !!\n",
    "# 2. Izmantojot apt, instalēt pip (tas varbūt jau ir nācis līdzi jūsu lietotajai Python instalācijai)\n",
    "# 3. Izmantojot pip, instalēt bibliotēku mglearn\n",
    "# 4. Vēlreiz iedarbināt jupyter-notebook un izpildīt sekojošās komandas un tad :\n",
    "\n",
    "\n",
    "import mglearn.datasets as dsets #Importē apakšmoduli un saglabā tā funkcijas mainīgajā dsets\n",
    "from mglearn import discrete_scatter #Importē apakšmoduli\n",
    "\n",
    "# dsets modulī atrodas FUNKCIJA make_forge, kas uzģenerē x un y vērtības ar patvaļīgiem datiem\n",
    "X, y = dsets.make_forge()\n",
    "discrete_scatter(X[:, 0], X[:, 1], y)\n",
    "plt.xlabel(\"First feature\")\n",
    "plt.ylabel(\"Second feature\")"
   ]
  },
  {
   "cell_type": "markdown",
   "metadata": {},
   "source": [
    "# IF / ELSE\n",
    "Viens no programmēšanas pamatkonceptiem ir programmas plūsmas kontrole jeb if / else izteiksmes.  \n",
    "Šie apgalvojumi operē ar **vēl vienu primitīvo mainīgo tipu: Būla mainīgajiem** (boolean variables), īsi pierakstīti kā 'bool'  \n",
    "  \n",
    "Šim mainīgo tipam ir iespējamas tikai divas vērtības.  \n",
    "**'True'** vai **'False'**"
   ]
  },
  {
   "cell_type": "code",
   "execution_count": null,
   "metadata": {},
   "outputs": [],
   "source": [
    "t = True\n",
    "f = False\n",
    "print(t)\n",
    "print(type(t))\n",
    "print(f)\n",
    "print(type(f))"
   ]
  },
  {
   "cell_type": "markdown",
   "metadata": {},
   "source": [
    "Nepieciešamība:  \n",
    "\n",
    "* Ja izpildās kāds pirmais nosacījums, tad mēs esam ieinteresēti izpildīt vienu komplektu darbību,  \n",
    "* Ja izpildās otrais nosacījums, tad šim gadījumam ir paredzēts savs darbību komplekts,  \n",
    "* Ja neizpildās nedz pirmais, nedz otrais, tad jāizpilda trešais darbību komplekts.  \n",
    "  \n",
    "Šāda loģika Python valodā izskatās šādi:"
   ]
  },
  {
   "cell_type": "code",
   "execution_count": null,
   "metadata": {},
   "outputs": [],
   "source": [
    "# Šis kods neizpildīsies jo mainīgie nav definēti\n",
    "if pirmais_nosacijums:\n",
    "    darbibu_komplekts_1\n",
    "if otrais_nosacijums:\n",
    "    darbibu_komplekts_2\n",
    "else:\n",
    "    darbibu_komplekts_3\n",
    "    \n"
   ]
  },
  {
   "cell_type": "code",
   "execution_count": null,
   "metadata": {},
   "outputs": [],
   "source": [
    "print(\"divi ir vienads ar 2: \", 2 == 2) #Vienādības operators ir viens no biežāk lietotajiem. \n",
    "print(\"3 ir mazaks ka 5: \", 3 < 5) # Atgriež vai pirmais arguments ir mazāks, nekā otrais\n",
    "print(\"3 ir lielaks ka 7: \", 3 > 7) \n",
    "print(\"\\n\\n\")\n",
    "\n",
    "\n",
    "# Lielaks/vienads un mazaks/vienads operators:\n",
    "print(\"3 ir mazaks vai vienads ar 4: \",3 <=4)\n",
    "print(\"3 ir mazaks vai vienads 3: \",3 <=3)\n",
    "print(\"960 ir lielaks vai vienads ar 4: \", 960 >= 4)"
   ]
  },
  {
   "cell_type": "code",
   "execution_count": null,
   "metadata": {},
   "outputs": [],
   "source": [
    "# Vienadibas operatoru var izmantot, lai salidzinatu ne tikai veselus skaitļus\n",
    "# Var salīdzināt decimālskaitļus:\n",
    "print(\"0.2 ir vienads ar 0.3: \", 0.2 == 0.3)\n",
    "print(\"0.1 ir vienads ar viens dalits ar 10: \", 0.1 == 1/10)\n",
    "print(\"\\n\")\n",
    "\n",
    "# Uzdevums: Paredzēt iznākumu šim novērtējumam un to pārbaudīt\n",
    "# print(\"vai 2 ir vienads ar 2.0: \", 2 == 2.0)"
   ]
  },
  {
   "cell_type": "code",
   "execution_count": null,
   "metadata": {},
   "outputs": [],
   "source": [
    "#  Var salīdzināt teksta virknes:\n",
    "virkne1 = \"abc\"\n",
    "virkne2 = \"def\"\n",
    "virkne3 = \"abcdef\"\n",
    "print(\"virkne 1 ir vienada ar virkni 2: \", virkne1 == virkne2)\n",
    "print(\"virkne 1 ir lielaka ka virkne 2: \", virkne1 > virkne2)\n",
    "# print(\"virkne 3 ir lielaka ka virkne 2: \", virkne3 > virkne2)"
   ]
  },
  {
   "cell_type": "code",
   "execution_count": null,
   "metadata": {},
   "outputs": [],
   "source": []
  },
  {
   "cell_type": "markdown",
   "metadata": {},
   "source": [
    "# Operācijas ar tipu īpašībām, vienkāršākās datu struktūras\n",
    "Visiem Python datu tipiem ir savas atļautās darbības un iebūvētās funkcijas.  \n",
    "Tāpat kā ar bibliotēku funkcijām, ja notebook šūnā ierakstat kādu mainīgo (vai jebkādo citu, kas jau ir uzdefinēts), pieliekat tam galā '.' simbolu un nospiežat Tab pogu, parādīsies saraksts ar biežāk izmantotajām darbībām."
   ]
  },
  {
   "cell_type": "code",
   "execution_count": null,
   "metadata": {},
   "outputs": [],
   "source": [
    "# Uzdevums:\n",
    "# Izpētiet atšķirīgās tipu īpašības tipiem ar kuriem mēs esam strādājuši (float, int, str). \n",
    "# Atrodiet, ko dara viena no šīm īpašībām katram tipam (tās var būt arī funkcijas)\n",
    "\n",
    "\n"
   ]
  },
  {
   "cell_type": "markdown",
   "metadata": {},
   "source": [
    "## list datu struktūra"
   ]
  },
  {
   "cell_type": "code",
   "execution_count": null,
   "metadata": {},
   "outputs": [],
   "source": [
    "# Šī ir tukša saraksta definīcija\n",
    "lst = []\n",
    "# Sarakstu var definēt arī uzreiz tajā kaut ko ieliekot\n",
    "lst2 = [1,2,3,5,20]\n",
    "\n",
    "print(lst)\n",
    "print(lst2)"
   ]
  },
  {
   "cell_type": "code",
   "execution_count": null,
   "metadata": {},
   "outputs": [],
   "source": [
    "# Sarakstiem ir append() funkcija, kas pievieno sarakstam galā jebko, kas .append() funkcijai padots kā arguments.\n",
    "lst.append(4)\n",
    "lst.append(12)\n",
    "lst.append(90)\n",
    "print(lst)"
   ]
  },
  {
   "cell_type": "code",
   "execution_count": null,
   "metadata": {},
   "outputs": [],
   "source": [
    "# Arī citus tipus\n",
    "lst.append(\"s\")\n",
    "lst.append(\"string\")\n",
    "print(lst)"
   ]
  },
  {
   "cell_type": "code",
   "execution_count": null,
   "metadata": {},
   "outputs": [],
   "source": [
    "# Arī citus sarakstus\n",
    "lst.append(lst2)\n",
    "print(lst)"
   ]
  },
  {
   "cell_type": "code",
   "execution_count": null,
   "metadata": {},
   "outputs": [],
   "source": [
    "# Un saraksta elementiem var piekļūt izmantojot indeksu (sākot no nulles)\n",
    "\n",
    "# Uzdevums: ko izprintēs\n",
    "\n",
    "# print(lst[1])\n",
    "\n",
    "# print(lst[3])\n",
    "\n",
    "# print(lst[5][1])\n",
    "\n",
    "# print(lst[-1])"
   ]
  },
  {
   "cell_type": "markdown",
   "metadata": {},
   "source": [
    "## dictionary datu struktūra"
   ]
  },
  {
   "cell_type": "code",
   "execution_count": null,
   "metadata": {},
   "outputs": [],
   "source": [
    "# Šī ir dictionary datu struktūra, īsāk, dict.\n",
    "dct = {}\n",
    "\n",
    "# Tāpat kā list, to var izveidot tukšu vai arī izveidot ar kaut ko tajā iekšā.\n",
    "dct2 = {'vards_viens':'sveiki', 'vards_divi': 'jaunie', 'vards_tris':'programmetaji'}\n",
    "\n",
    "print(type(dct), dct)\n",
    "print(type(dct2),dct2)\n",
    "\n",
    "# dictionary datu struktūra glabā datus pēc atslēgvārda - vērtības modeļa.\n",
    "\n",
    "# list struktūra izmantoja elementu pievienošanas secību, \n",
    "# katram nākamajam elementam piešķirot indeksa vērtību, kas ir par 1 lielāka, nekā iepriekšējam elementam\n",
    "\n",
    "# dict struktūra indeksa vietā izmanto atslēgvārdu vai atslēgvērtību veidojot atslēg-vērtību pārus (key value pairs)\n",
    "# Kā 'atslēgas' drīkst izmantot jebkuru no primitīvajiem tipiem (int, float, string)\n",
    "\n",
    "\n",
    "print(\"\\nvards_viens saturs: \")\n",
    "print(dct2['vards_viens'])\n",
    "\n",
    "print(\"\\nvards_divi saturs: \")\n",
    "print(dct2['vards_divi'])\n",
    "\n",
    "# Uzdevums: Ko izprintēs sekojošā koda rindiņa?:\n",
    "# print(dct[0])"
   ]
  },
  {
   "cell_type": "code",
   "execution_count": null,
   "metadata": {},
   "outputs": [],
   "source": [
    "# Tāpat kā list struktūrai, dictionary struktūrai var pievienot jebkādu vērtību.\n",
    "\n",
    "# Tā vietā lai lietotu .append() operāciju, jādara sekojoši. Līdzīgi kā piešķirot mainīgajam vērtību:\n",
    "dct2['viens_vards'] = 'viens'\n",
    "dct2['viens_skaitlis'] = 1\n",
    "print(dct2)\n"
   ]
  },
  {
   "cell_type": "code",
   "execution_count": null,
   "metadata": {},
   "outputs": [],
   "source": [
    "# Tāpat kā sarakstam var pievienot sarakstus, arī vārdnīcai var pievienot vārdnīcu\n",
    "\n",
    "dct['vertiba'] = 17\n",
    "dct['cita_vertiba'] = 34\n",
    "print(\"dct saturs: \",dct)\n",
    "\n",
    "# Pievieno vārdnīcu dct vārdnīcai dct2\n",
    "dct2['vardnica'] = dct\n",
    "print(dct2)"
   ]
  },
  {
   "cell_type": "code",
   "execution_count": null,
   "metadata": {},
   "outputs": [],
   "source": [
    "# Uzdevums: paredziet un pa vienai parbaudiet, ko izprintēs sekojošās rindiņas\n",
    "\n",
    "# dct2[3] = 3\n",
    "\n",
    "# dct2[{'datu': 'key'}] = 'key'\n",
    "\n",
    "# dct2[1]\n",
    "\n",
    "# dct2['programmetaji']\n",
    "\n",
    "# dct2['3']\n",
    "\n",
    "# dct2['vardnica']\n",
    "\n",
    "# dct2['vardnica'][vertiba]"
   ]
  },
  {
   "cell_type": "code",
   "execution_count": null,
   "metadata": {},
   "outputs": [],
   "source": [
    "# Atgriežoties pie Būla loģikas, Var salīdzināt arī datu struktūras\n",
    "\n",
    "print(\"tuksa vardnica ir vienada ir tuksu vardnicu: \", {} == {})\n",
    "dct_1 = {'vards':'viens'}\n",
    "dct_2 = {'otrs': 'vards'}\n",
    "print(\"\\n\")\n",
    "\n",
    "# Uzrakstīt salīdzinājumus un iztestēt tos: \n",
    "print(\"Uzdevums: vai vardnica dct_1 ir mazaka? lielaka? vienada ar vardnicu dct_2?\")"
   ]
  },
  {
   "cell_type": "markdown",
   "metadata": {},
   "source": [
    "# Funkcijas\n",
    "\n",
    "Mūsu daudz lietotais print() ir funkcija. Arī type() ir funkcija. Funkcija ir jebkurš darbību kopums, kas izpildās, kad funkcija tiek izsaukta. Funkcijām var būt 0 vai vairāki argumenti. Funkcijas visvienkāršāk ir pamanīt pēc **()** lietojuma.    \n",
    "\n",
    "Funkcijas ļoti bieži definē arī pats programmētājs, lai tajās ieliktu kodu, kurš izpildīsies vairāk kā vienu reizi.  \n",
    "Funkcijas definīcijas vispārīgā sintakse ir sekojoša:\n",
    "\n",
    "**def** funkcijas_nosaukums(*arguments_1*, *arguments_2*):    \n",
    "    darbības ar argumentiem *arguments_1* un *arguments_2*    \n",
    "    **return** funkcijas_iznakums    \n",
    "\n",
    "* Funkcijas definīcija vienmēr sākas ar īpašo komandu 'def' pēc kuras norāda to, kā funkcija sauksies\n",
    "* Funkcijas argumenti tiek norādīti iekavās. Iekavas var atstāt arī tukšas, ja funkcijas veicamās darbības nebūs atkarīgas no citiem, specifiski norādāmiem argumentiem. \n",
    "* Pēc iekavām vienmēr ir jābūt kolam\n",
    "* Nākamajai rindiņai (funkcijas 'body') pēc pirmās rindiņas vienmēr jābūt četras atstarpes (vai vienu Tab) uz labo pusi relatīvi pret iepriekšējo rindiņu\n",
    "* 'return' ir vēl viena īpašā komanda, kura ir nepieciešama, ja funkcijas rezultātu vajadzēs ievietot mainīgajā, bet nav obligāta jebkurā citā gadījumā\n",
    "* Funkcijas definēšana neizpilda funkcijas kodu. Tā ir jāizsauc atsevišķi"
   ]
  },
  {
   "cell_type": "markdown",
   "metadata": {},
   "source": [
    "## Funkciju definīciju  piemēri"
   ]
  },
  {
   "cell_type": "code",
   "execution_count": null,
   "metadata": {},
   "outputs": [],
   "source": [
    "def square(arg):\n",
    "    \"\"\" Returns the square of the argument \"\"\"\n",
    "    return arg * arg\n",
    "\n",
    "\n",
    "def dalisana(arg1, arg2):\n",
    "    \"\"\"\n",
    "    Funkcija parbauda vai otrais arguments nav vienads ar nulli un tad veic dalisanas operaciju.\n",
    "    Ja otrais arguments ir vienads ar nulli, tad atgriez nulles vertibu un izprinte pazinojumu\n",
    "    \"\"\"\n",
    "    # Vienkāršākā gadījumu pārbaude ir izdarāma ar if / else funkcijām. \n",
    "    if arg2 == 0:\n",
    "        print(\"Kludaina ievade! arg2 vienads ar nulli\")\n",
    "        return 0\n",
    "    else:\n",
    "        return arg1/arg2\n",
    "\n",
    "saraksts = []\n",
    "def vai_ir_redzets(arguments):\n",
    "    \"\"\"\n",
    "    Pienemsim, ka velamies uzturet sarakstu ar skaitliem un negribam, lai taja butu kopijas.\n",
    "    \"\"\"\n",
    "    if arguments in saraksts:\n",
    "        print(\"Jau redzēts\")\n",
    "    else:\n",
    "        print(\"Redzu pirmo reizi\")\n",
    "        saraksts.append(arguments)\n",
    "\n",
    "def paradit_un_notirit_sarakstu(redzeto_argumentu_saraksts = saraksts):\n",
    "    print(redzeto_argumentu_saraksts)\n",
    "    redzeto_argumentu_saraksts = [] #Vai šis strādās?\n",
    "    saraksts = [] # Un šis?\n"
   ]
  },
  {
   "cell_type": "code",
   "execution_count": null,
   "metadata": {},
   "outputs": [],
   "source": [
    "# Funkcijas redz ārpus sevis un var paņemt jebkuru argumentu, bet ārpuses argumentus funkcijas nevar mainīt\n",
    "saraksts = []"
   ]
  },
  {
   "cell_type": "code",
   "execution_count": null,
   "metadata": {},
   "outputs": [],
   "source": [
    "vai_ir_redzets(20)"
   ]
  },
  {
   "cell_type": "code",
   "execution_count": null,
   "metadata": {},
   "outputs": [],
   "source": [
    "paradit_un_notirit_sarakstu()\n",
    "print(saraksts)"
   ]
  },
  {
   "cell_type": "code",
   "execution_count": null,
   "metadata": {},
   "outputs": [],
   "source": []
  },
  {
   "cell_type": "code",
   "execution_count": null,
   "metadata": {},
   "outputs": [],
   "source": []
  },
  {
   "cell_type": "code",
   "execution_count": null,
   "metadata": {},
   "outputs": [],
   "source": []
  },
  {
   "cell_type": "code",
   "execution_count": null,
   "metadata": {},
   "outputs": [],
   "source": []
  },
  {
   "cell_type": "code",
   "execution_count": null,
   "metadata": {},
   "outputs": [],
   "source": []
  },
  {
   "cell_type": "code",
   "execution_count": null,
   "metadata": {},
   "outputs": [],
   "source": []
  },
  {
   "cell_type": "code",
   "execution_count": null,
   "metadata": {},
   "outputs": [],
   "source": []
  }
 ],
 "metadata": {
  "kernelspec": {
   "display_name": "Python 3",
   "language": "python",
   "name": "python3"
  },
  "language_info": {
   "codemirror_mode": {
    "name": "ipython",
    "version": 3
   },
   "file_extension": ".py",
   "mimetype": "text/x-python",
   "name": "python",
   "nbconvert_exporter": "python",
   "pygments_lexer": "ipython3",
   "version": "3.7.5"
  }
 },
 "nbformat": 4,
 "nbformat_minor": 2
}
