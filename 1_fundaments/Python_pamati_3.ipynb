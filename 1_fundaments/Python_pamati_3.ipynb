{
 "cells": [
  {
   "cell_type": "markdown",
   "metadata": {},
   "source": [
    "Šajā failā:\n",
    "Praktiskie uzdevumi"
   ]
  },
  {
   "cell_type": "code",
   "execution_count": 1,
   "metadata": {},
   "outputs": [],
   "source": [
    "# Uzdevums:\n",
    "# Uzrakstiet funkciju f1, kura kā argumentus ņem cilvēka vārdu un uzvārdu \n",
    "# un tad izprintē tos vienā rindiņā, apgrieztā secībā ar atstarpi pa vidu"
   ]
  },
  {
   "cell_type": "code",
   "execution_count": 21,
   "metadata": {},
   "outputs": [],
   "source": [
    "# Uzdevums:\n",
    "# No dotā saraksta, izveidojiet un izprintējiet jaunu sarakstu, kurā nav skaitļu, kas dalās ar 2, \n",
    "# ievietojiet to mainīgajā 'x' un izprintējiet x\n",
    "\n",
    "saraksts = ['1', 'a', '14', 15, 14, 3, 'skaitlis', 2, 7, 4.0]\n",
    "#Sagaidāmā izvade būtu ['1' , 'a' ,'14' , 15 , 3 , 'skaitlis', 7]\n",
    "#Funkcijas izsaukšanu rakstīt šeit\n"
   ]
  },
  {
   "cell_type": "code",
   "execution_count": 20,
   "metadata": {},
   "outputs": [],
   "source": [
    "# Uzdevums (advancētāks) :\n",
    "# Uzrakstiet funkciju f3, kura kā argumentu ņem integeru n un tad izprintē skaitli, kurš ir vienāds ar n + nn + nnn\n",
    "# Piemēri:\n",
    "# ja n = 5, tad rezultāts būtu 5 + 55 + 555 = 615\n",
    "# ja n = 3, tad rezultāts būtu 3 + 33 + 333 = 369\n"
   ]
  },
  {
   "cell_type": "code",
   "execution_count": null,
   "metadata": {},
   "outputs": [],
   "source": [
    "# Uzdevums:\n",
    "# Uzrakstiet funkciju f4, kas kā argumentu ņem skaitli, kurš apzīmē sfēras rādiusu, un aprēķina tās tilpumu"
   ]
  },
  {
   "cell_type": "code",
   "execution_count": 18,
   "metadata": {},
   "outputs": [],
   "source": [
    "# Uzdevums:\n",
    "# Izpētiet kā strādā funkcija randrange (padoms: atrodiet piemēru internetā)\n",
    "# Uzrakstiet funkciju f5, kas, izmantojot iebūvētās bibliotēkas 'random' funkciju 'randrange', \n",
    "# uzģenerē random skaitli intervālā no 1 līdz 10 un tad salīdzina to ar funkcijai padoto argumentu, \n",
    "# izprintējot atbildi vai padotais ir lielāks, mazāks vai vienāds ar ģenerēto.\n",
    "\n",
    "\n",
    "from random import randrange as rnd # Šī ir bibliotēkas import rindiņa. Neaiztikt.\n",
    "\n"
   ]
  },
  {
   "cell_type": "code",
   "execution_count": 1,
   "metadata": {},
   "outputs": [],
   "source": [
    "# Uzdevums:\n",
    "# Izpētīt kā strādā sekojošā bibliotēkas funkcija un izmantot to, lai izprintētu 4x4 matricu ar random skaitļiem intervālā 0 - 4\n",
    "# Dokumentācija pieejama šeit:\n",
    "# https://docs.scipy.org/doc/numpy-1.14.0/reference/generated/numpy.random.rand.html\n",
    "\n",
    "import numpy as np # Šī ir bibliotēkas import rindiņa. Neaiztikt."
   ]
  },
  {
   "cell_type": "code",
   "execution_count": 2,
   "metadata": {},
   "outputs": [],
   "source": [
    "# No 2 dotajiem sarakstiem izveidojiet pandas DataFrame objektu (2x3 matrica), saglabājiet to mainīgajā z un izprintējiet mainīgo z.\n",
    "\n",
    "\n",
    "saraksts1 = [1,2,3]\n",
    "saraksts2 = [4,5,6]\n",
    "\n",
    "import pandas as pd\n"
   ]
  },
  {
   "cell_type": "code",
   "execution_count": null,
   "metadata": {},
   "outputs": [],
   "source": [
    "# Uzdevums:\n",
    "# Uzrakstiet for cilpu, kura izprintē visus skaitļus starp 1500 un 2701 (galapunktus ieskaitot), kuri dalās ar 7 un ar 5\n",
    "\n"
   ]
  },
  {
   "cell_type": "code",
   "execution_count": 2,
   "metadata": {},
   "outputs": [],
   "source": [
    "# Uzdevums:\n",
    "# Jums ir dota kādas aplikācijas konfigurāciju vārdnīca:\n",
    "\n",
    "configs = {\n",
    "        \"app\": \n",
    "        {\n",
    "            \"window_1\":\n",
    "            { \n",
    "                \"base\":\n",
    "                {\n",
    "                    \"title\": \"Sample Konfabulator Widget\",\n",
    "                    \"width\": 500,\n",
    "                    \"height\": 500\n",
    "                },\n",
    "                \"image\": \n",
    "                { \n",
    "                    \"src\": \"Images/Sun.png\",\n",
    "                    \"name\": \"sun1\",\n",
    "                    \"hOffset\": 250,\n",
    "                    \"vOffset\": 250,\n",
    "                    \"alignment\": \"center\"\n",
    "                },\n",
    "                \"text\": \n",
    "                {\n",
    "                    \"data\": \"Click Here\",\n",
    "                    \"size\": 36,\n",
    "                    \"style\": \"bold\",\n",
    "                    \"name\": \"text1\",\n",
    "                    \"hOffset\": 250,\n",
    "                    \"vOffset\": 100,\n",
    "                    \"alignment\": \"center\",\n",
    "                    \"onMouseUp\": \"sun1.opacity = (sun1.opacity / 100) * 90;\"\n",
    "                }\n",
    "            },\n",
    "            \"window_2\": \n",
    "            {\n",
    "                \"base\":\n",
    "                {\n",
    "                    \"title\": \"Sample Konfabulator Widget\",\n",
    "                    \"width\": 400,\n",
    "                    \"height\": 400\n",
    "                },\n",
    "                \"image\": \n",
    "                { \n",
    "                    \"src\": \"Images/Moon.png\",\n",
    "                    \"name\": \"sun1\",\n",
    "                    \"hOffset\": 250,\n",
    "                    \"vOffset\": 250,\n",
    "                    \"alignment\": \"center\"\n",
    "                },\n",
    "                \"text\": \n",
    "                {\n",
    "                    \"data\": \"Click Here\",\n",
    "                    \"size\": 36,\n",
    "                    \"style\": \"bold\",\n",
    "                    \"name\": \"text1\",\n",
    "                    \"hOffset\": 250,\n",
    "                    \"vOffset\": 100,\n",
    "                    \"alignment\": \"center\",\n",
    "                    \"onMouseUp\": \"moon1.opacity = (moon1.opacity / 100) * 90;\"\n",
    "                }\n",
    "            \n",
    "            }\n",
    "        }\n",
    "    }\n",
    "\n",
    "\n",
    "# Uzrakstiet divas funkcijas get_windows un find_size()\n",
    "# get_windows funkcijai būtu jāatrod visi logi, kuri atrodās app`ā un jāatgriež to nosaukumi sarakstā\n",
    "\n",
    "\n",
    "# find_size funkcijai būtu jāatrod loga ar zināmu nosaukumu platums un augstums un jāatgriež tos sarakstā, \n",
    "# kārtība [<platums>, <augstums>]\n",
    "\n",
    "# Uzdevums ir ,izmantojot šīs divas funkcijas, \n",
    "# atrast visu aplikācijā sastopamo logu garumu un platumu (heigh, width) un izprintēt tos katram logam"
   ]
  },
  {
   "cell_type": "code",
   "execution_count": null,
   "metadata": {},
   "outputs": [],
   "source": []
  }
 ],
 "metadata": {
  "kernelspec": {
   "display_name": "Python 3",
   "language": "python",
   "name": "python3"
  },
  "language_info": {
   "codemirror_mode": {
    "name": "ipython",
    "version": 3
   },
   "file_extension": ".py",
   "mimetype": "text/x-python",
   "name": "python",
   "nbconvert_exporter": "python",
   "pygments_lexer": "ipython3",
   "version": "3.7.5"
  }
 },
 "nbformat": 4,
 "nbformat_minor": 2
}
